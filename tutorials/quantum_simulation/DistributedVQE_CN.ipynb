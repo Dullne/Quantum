{
 "cells": [
  {
   "cell_type": "markdown",
   "id": "c1a5f1e6",
   "metadata": {},
   "source": [
    "# 基于施密特分解的分布式变分量子本征求解器\n",
    "\n",
    "*Copyright (c) 2021 Institute for Quantum Computing, Baidu Inc. All Rights Reserved.*"
   ]
  },
  {
   "cell_type": "markdown",
   "id": "cf44390c",
   "metadata": {
    "tags": []
   },
   "source": [
    "## 概览\n",
    "\n",
    "在物理和化学等学科中，一个非常重要的问题就是提取分子、原子等物理系统的基态信息。系统的基态是由系统对应的哈密顿量决定的。目前普遍认为量子计算机在求解哈密顿量基态问题上具有优势。[变分量子本征求解器](https://qml.baidu.com/tutorials/quantum-simulation/variational-quantum-eigensolver.html)（variational quantum eigensolver, VQE），作为有望在近期展现量子优势的算法之一，为研究者们提供了可以在含噪的中等规模量子（NISQ）设备上研究量子化学的可能。然而，目前 NISQ 设备仍存在许多局限性，阻碍了大规模量子算法的运行。例如，受限于现有量子设备所能提供的量子比特数，研究者们无法利用 VQE 在 NISQ 设备上模拟真实的大分子。为了突破这一限制，许多分布式方案 [1-3] 相继被提出。\n",
    "在本教程中，我们以 [4] 提出的基于施密特分解的 VQE 为例，向读者展示如何利用 Paddle Quantum 实现分布式量子算法。"
   ]
  },
  {
   "cell_type": "markdown",
   "id": "f3fcc1b4",
   "metadata": {},
   "source": [
    "## 施密特分解\n",
    "\n",
    "对于任意处于复合系统 $AB$ 上的纯态 $|\\psi\\rangle$，我们有如下平凡分解:\n",
    "\n",
    "$$\n",
    "|\\psi\\rangle=\\sum_{ij}a_{ij}|i\\rangle\\otimes|j\\rangle,\n",
    "\\tag{1}\n",
    "$$\n",
    "\n",
    "其中 $|i\\rangle$ 和 $|j\\rangle$ 分别是子系统 $A$、$B$ 上的计算基底，$a_{ij}$ 是某复矩阵 $a$ 的元素。接下来，我们对矩阵 $a$ 运用[奇异值分解](https://zh.wikipedia.org/wiki/奇异值分解)（singular value decomposition, SVD），即，$a = udv$，其中 $u,v$ 是酉矩阵，$d$ 是对角矩阵。那么，$a_{ij}=\\sum_ku_{ik}d_{kk}v_{kj}$。\n",
    "\n",
    "通过定义 \n",
    "\n",
    "$$\n",
    "\\begin{aligned}\n",
    "|k_A\\rangle\\equiv & \\sum_iu_{ik}|i\\rangle=u|k\\rangle,\\\\\n",
    "|k_B\\rangle\\equiv & \\sum_jv_{kj}|j\\rangle=v^T|k\\rangle,\\\\\n",
    "\\lambda_k\\equiv & d_{kk},\\end{aligned}\n",
    "\\tag{2}\n",
    "$$\n",
    "\n",
    "我们可以把（1）式重写为\n",
    "\n",
    "$$\n",
    "\\begin{aligned}\n",
    "    |\\psi\\rangle  &= \\sum_{ijk}u_{ik}d_{kk}v_{kj}|i\\rangle\\otimes|j\\rangle \\\\\n",
    "                &= \\sum_{k}\\lambda_{k}\\Big(\\sum_iu_{ik}|i\\rangle\\Big)\\otimes\\Big(\\sum_jv_{kj}|j\\rangle\\Big) \\\\\n",
    "                &=\\sum_{k}\\lambda_k(u|k\\rangle\\otimes v^T|k\\rangle)\\\\\n",
    "                &=\\sum_{k}\\lambda_k|k_A\\rangle\\otimes|k_B\\rangle.\n",
    "\\end{aligned}\n",
    "\\tag{3}\n",
    "$$\n",
    "\n",
    "形如 $|\\psi\\rangle=\\sum_k\\lambda_k|k_A\\rangle\\otimes|k_B\\rangle$ 的分解方式就称为 **施密特分解**  [5]。同时，$\\{\\lambda_k\\}_k$ 被称作施密特系数，非零 $\\lambda_k$ 的数量被称为 $|\\psi\\rangle$ 的施密特秩。事实上，奇异值分解的性质还保证了 $\\lambda_k\\in\\mathbb{R}^+$ 及 $\\sum_k\\lambda_k^2=1$。"
   ]
  },
  {
   "cell_type": "markdown",
   "id": "620e053c",
   "metadata": {
    "tags": []
   },
   "source": [
    "## 基于施密特分解的分布式 VQE\n",
    "\n",
    "作为标准 VQE [6] 的一个变种，分布式 VQE 同样试图寻找一个 $N$ 量子比特哈密顿量 $\\hat{H}=\\sum_tc_t\\hat{H}_t^{(A)}\\otimes\\hat{H}_t^{(B)}$ 的基态及其能量，其中 $\\hat{H}_t^{(A)},\\hat{H}_t^{(B)}$ 是分别作用于子系统 $A$、$B$ 上的哈密顿量分量（我们假设 $A$、$B$ 都包含 $N/2$ 量子比特）。\n",
    "\n",
    "我们从如下试探波函数开始：\n",
    "\n",
    "$$\n",
    "|\\psi\\rangle\\equiv\\sum_{k=1}^S\\lambda_k\\Big(U(\\boldsymbol{\\theta})|k\\rangle\\Big)\\otimes\\Big(V(\\boldsymbol{\\phi})|k\\rangle\\Big)\n",
    "\\tag{4},\n",
    "$$\n",
    "\n",
    "其中 $\\boldsymbol{\\lambda}\\equiv(\\lambda_1, \\lambda_2,...,\\lambda_S)^T$，$1\\leq S\\leq 2^{N/2}$ 是一个用户定义的常数。根据施密特分解，目标基态同样可写成（4）式的形式。因此，通过寻找合适的参数向量 $\\boldsymbol{\\lambda}, \\boldsymbol{\\theta}$ 和 $\\boldsymbol{\\phi}$，我们可以在任意误差内近似目标基态。\n",
    "\n",
    "接下来，对于所有 $i,j=1,...,S$，我们在一台 $N/2$ 量子比特的量子计算机上计算如下项：\n",
    "\n",
    "$$\n",
    "\\begin{aligned}\n",
    "E_{ijt}^A(\\boldsymbol{\\theta}) &\\equiv \\langle i|U^\\dagger(\\boldsymbol{\\theta}) \\hat{H}_t^{(A)} U(\\boldsymbol{\\theta})|j\\rangle,\\\\\n",
    "E_{ijt}^B(\\boldsymbol{\\phi}) &\\equiv \\langle i|V^\\dagger(\\boldsymbol{\\phi}) \\hat{H}_t^{(B)} V(\\boldsymbol{\\phi}))|j\\rangle.\n",
    "\\end{aligned}\n",
    "\\tag{5}\n",
    "$$\n",
    "\n",
    "然后，在一台经典计算机上，我们根据如下定义构造一个 $S\\times S$ 维的矩阵 $M(\\boldsymbol{\\theta},\\boldsymbol{\\phi})$：\n",
    "\n",
    "$$\n",
    "[M(\\boldsymbol{\\theta},\\boldsymbol{\\phi})]_{ij}\\equiv\\sum_tc_tE_{ijt}^A(\\boldsymbol{\\theta})E_{ijt}^B(\\boldsymbol{\\phi}).\n",
    "\\tag{6}\n",
    "$$\n",
    "\n",
    "这样，目标基态能量就可以写为 \n",
    "\n",
    "$$\n",
    "\\begin{aligned}\n",
    "E_{tar}   &= \\min_{\\boldsymbol{\\lambda}, \\boldsymbol{\\theta}, \\boldsymbol{\\phi}} \\langle{\\psi}|\\hat{H}|\\psi\\rangle \\\\\n",
    "    &= \\min_{\\boldsymbol{\\lambda}, \\boldsymbol{\\theta}, \\boldsymbol{\\phi}}\\Big(\\sum_{i,j=1}^S\\lambda_i\\lambda_j[M(\\boldsymbol{\\theta},\\boldsymbol{\\phi})]_{ij}\\Big)\\\\\n",
    "    &= \\min_{\\boldsymbol{\\theta}, \\boldsymbol{\\phi}} E(\\boldsymbol{\\theta},\\boldsymbol{\\phi}),\n",
    "\\end{aligned}\n",
    "\\tag{7}\n",
    "$$\n",
    "\n",
    "其中 $E(\\boldsymbol{\\theta},\\boldsymbol{\\phi})\\equiv\\min_{\\boldsymbol{\\lambda}} \\boldsymbol{\\lambda}^T M(\\boldsymbol{\\theta},\\boldsymbol{\\phi})\\boldsymbol{\\lambda}$。根据线性代数的内容，不难发现，$E(\\boldsymbol{\\theta},\\boldsymbol{\\phi})$ 正是矩阵 $M(\\boldsymbol{\\theta},\\boldsymbol{\\phi})$ 的最小特征值，可以通过经典算法求得。\n",
    "\n",
    "最终，我们重复如上过程，并使用基于梯度下降的优化方法最小化 $E(\\boldsymbol{\\theta},\\boldsymbol{\\phi})$，使其趋近于 $E_{tar}$。\n",
    "\n",
    "\n"
   ]
  },
  {
   "cell_type": "markdown",
   "id": "f79d3333",
   "metadata": {
    "tags": []
   },
   "source": [
    "## 量桨实现\n",
    "\n",
    "首先，我们导入必要的包。由于我们要使用飞桨和量桨的最新功能，请确保您的 *PaddlePaddle* >= 2.2.0 且 *Paddle Quantum* >= 2.2.0。"
   ]
  },
  {
   "cell_type": "code",
   "execution_count": 5,
   "id": "bb7c0db4",
   "metadata": {},
   "outputs": [],
   "source": [
    "import time\n",
    "import numpy as np\n",
    "from matplotlib import pyplot as plt\n",
    "\n",
    "import paddle\n",
    "import paddle_quantum\n",
    "from paddle_quantum.ansatz import Circuit\n",
    "from paddle_quantum.qinfo import pauli_str_to_matrix, schmidt_decompose\n",
    "import warnings\n",
    "\n",
    "warnings.filterwarnings(\"ignore\")"
   ]
  },
  {
   "cell_type": "markdown",
   "id": "c84dd264",
   "metadata": {},
   "source": [
    "定义一些全局常数："
   ]
  },
  {
   "cell_type": "code",
   "execution_count": 2,
   "id": "27e4ce36",
   "metadata": {},
   "outputs": [],
   "source": [
    "N = 10      # 量子比特数\n",
    "SEED = 16   # 固定随机种子\n",
    "ITR = 100   # 设置迭代次数\n",
    "LR = 0.1    # 设置学习率\n",
    "D = 3       # 设置量子神经网络的层数"
   ]
  },
  {
   "cell_type": "markdown",
   "id": "3db38f56",
   "metadata": {},
   "source": [
    "下面这一函数经典地计算出哈密顿量 $H$ 的基态信息（基态对能量和施密特秩），以作为后面量子模型的基准参照。"
   ]
  },
  {
   "cell_type": "code",
   "execution_count": 6,
   "id": "32b310ed",
   "metadata": {},
   "outputs": [],
   "source": [
    "def get_ground_state_info(H):\n",
    "\n",
    "    # 计算 H 的特征值与特征向量\n",
    "    vals, vecs = paddle.linalg.eigh(H)\n",
    "    # 获取基态\n",
    "    ground_state = paddle_quantum.State(vecs[:, 0])\n",
    "    # 获取基态能量\n",
    "    ground_state_energy = vals.tolist()[0]\n",
    "    print(f'The ground state energy is {ground_state_energy:.5f} Ha.')\n",
    "    # 对基态运用施密特分解\n",
    "    l, _, _ = schmidt_decompose(ground_state)\n",
    "    print(f'Schmidt rank of the ground state is {l.size}.')\n",
    "\n",
    "    return ground_state_energy"
   ]
  },
  {
   "cell_type": "markdown",
   "id": "8c2c88d3",
   "metadata": {},
   "source": [
    "现在，我们生成一个哈密顿量并计算其基态信息。"
   ]
  },
  {
   "cell_type": "code",
   "execution_count": 7,
   "id": "6149b4d4",
   "metadata": {},
   "outputs": [
    {
     "name": "stdout",
     "output_type": "stream",
     "text": [
      "The ground state energy is -0.99783 Ha.\n",
      "Schmidt rank of the ground state is 3.\n"
     ]
    }
   ],
   "source": [
    "# 固定随机种子\n",
    "np.random.seed(SEED)\n",
    "\n",
    "# 硬编码一个哈密顿量\n",
    "coefs = [-0.8886258, 0.453882]\n",
    "pauli_str = ['x0,z1,z2,z4,x5,y6,y7,x8,x9', 'y0,x1,x2,x3,y4,x5,z6,z7,y8,x9']\n",
    "pauli_str_A = ['x0,z1,z2,z4', 'y0,x1,x2,x3,y4']     # 子系统 A 的泡利字符串\n",
    "pauli_str_B = ['x0,y1,y2,x3,x4', 'x0,z1,z2,y3,x4']  # 子系统 B 的泡利字符串\n",
    "\n",
    "# 把相关对象转换为张量形式\n",
    "H_mtr = paddle.to_tensor(pauli_str_to_matrix(zip(coefs, pauli_str), n=N))\n",
    "coefs = paddle.to_tensor(coefs)\n",
    "H_A = [pauli_str_to_matrix([[1., pstr]], n=N//2) for pstr in pauli_str_A]\n",
    "H_A = paddle.to_tensor(np.stack(H_A))\n",
    "H_B = [pauli_str_to_matrix([[1., pstr]], n=N-N//2) for pstr in pauli_str_B]\n",
    "H_B = paddle.to_tensor(np.stack(H_B))\n",
    "\n",
    "# 计算该哈密顿量的基态信息\n",
    "ground_state_energy = get_ground_state_info(H_mtr)"
   ]
  },
  {
   "cell_type": "markdown",
   "id": "9abf331c",
   "metadata": {},
   "source": [
    "准备好一个哈密顿量后，我们可以构建一个分布式 VQE 来求解它。"
   ]
  },
  {
   "cell_type": "code",
   "execution_count": 12,
   "id": "32cacc67",
   "metadata": {},
   "outputs": [],
   "source": [
    "# 构造参数化量子电路\n",
    "def U_cir(N, D):\n",
    "    \n",
    "    cir = Circuit(N)  # 初始化一个宽度为 N 量子比特的电路\n",
    "    cir.complex_entangled_layer('full', N, D)  # 添加量子门\n",
    "    return cir  \n",
    "\n",
    "# 把参数化电路作用在计算基底上\n",
    "# 并返回一个形状为 [2**N, num_states] 的张量\n",
    "def output_states(num_states, N, cir):\n",
    "    # 创建 num_states 个计算基底\n",
    "    basis = paddle.eye(2**N, num_states)\n",
    "\n",
    "    # 获取参数化电路的矩阵\n",
    "    U = cir.unitary_matrix()\n",
    "    \n",
    "    # 把参数化电路作用在这些基底上\n",
    "    vec = U @ basis                         \n",
    "    \n",
    "    return vec"
   ]
  },
  {
   "cell_type": "markdown",
   "id": "0ca5787c",
   "metadata": {},
   "source": [
    "以下代码是本教程的核心。请读者仔细阅读，并与前文的公式叙述做比较。"
   ]
  },
  {
   "cell_type": "code",
   "execution_count": 22,
   "id": "6ebf5159",
   "metadata": {},
   "outputs": [],
   "source": [
    "# 构造分布式模型\n",
    "class DistributedVQE(paddle.nn.Layer):\n",
    "    def __init__(self, N, D, S):\n",
    "        super().__init__()\n",
    "        paddle.seed(SEED)\n",
    "\n",
    "        self.S = S  # 定义常数 S\n",
    "        self.N = N\n",
    "        self.cir = [U_cir(N//2, D), U_cir(N - N//2, D)]\n",
    "        \n",
    "    # 分布式 VQE 的核心逻辑\n",
    "    def forward(self):\n",
    "        # 分别获得子系统 A、B 上的 U|k> 和 V|k> \n",
    "        vec_A = output_states(self.S, self.N//2, self.cir[0])\n",
    "        vec_B = output_states(self.S, self.N - self.N//2, self.cir[1])\n",
    "        \n",
    "        # 计算由前文定义的 E_{ijt}^A 和 E_{ijt}^B 组成的张量 E_A, E_B\n",
    "        E_A = vec_A.conj().t() @ H_A @ vec_A\n",
    "        E_B = vec_B.conj().t() @ H_B @ vec_B\n",
    "        M = (coefs.reshape([-1, 1, 1]) * E_A * E_B).sum(0)\n",
    "\n",
    "        # 计算矩阵 M 的最小特征值\n",
    "        eigval = paddle.linalg.eigvalsh(M)\n",
    "        loss = eigval[0]\n",
    "        \n",
    "        return loss"
   ]
  },
  {
   "cell_type": "markdown",
   "id": "d04669ff",
   "metadata": {},
   "source": [
    "定义训练函数。"
   ]
  },
  {
   "cell_type": "code",
   "execution_count": 24,
   "id": "066f5e72",
   "metadata": {},
   "outputs": [],
   "source": [
    "def train(model):\n",
    "    start_time = time.time()    # 用以计算该函数的运行时长\n",
    "    params = sum([cir.parameters() for cir in model.cir], [])\n",
    "    # 我们使用基于梯度下降的优化器 Adam 来优化 theta 和 phi\n",
    "    opt = paddle.optimizer.Adam(learning_rate=LR, parameters=params)\n",
    "    summary_loss = []           # 记录损失历史\n",
    "\n",
    "    # 迭代优化\n",
    "    for itr in range(ITR):\n",
    "        # 前向传播，计算损失函数\n",
    "        loss = model()\n",
    "        # 后向传播，优化损失函数\n",
    "        loss.backward()\n",
    "        opt.minimize(loss)\n",
    "        opt.clear_grad()\n",
    "        # 更新优化结果\n",
    "        summary_loss.append(loss.numpy())\n",
    "        # 打印中间结果\n",
    "        if (itr+1) % 20 == 0:\n",
    "            print(f\"iter: {itr+1}, loss: {loss.tolist()[0]: .4f} Ha\")\n",
    "\n",
    "    print(f'Ground truth is  {ground_state_energy:.4f} Ha')\n",
    "    print(f'Training took {time.time() - start_time:.2f}s')\n",
    "    \n",
    "    plt.plot(list(range(ITR)), summary_loss, color='r', label='loss')\n",
    "    plt.hlines(y=ground_state_energy, xmin=0, xmax=ITR, linestyle=':',  label='ground truth')\n",
    "    plt.legend()\n",
    "    plt.title(f'Loss for {type(model).__name__} on a {N}-qubit Hamiltonian')\n",
    "    plt.show()"
   ]
  },
  {
   "cell_type": "markdown",
   "id": "c8770b19",
   "metadata": {},
   "source": [
    "现在，我们实例化并训练分布式模型。"
   ]
  },
  {
   "cell_type": "code",
   "execution_count": 26,
   "id": "78b46dcc",
   "metadata": {},
   "outputs": [
    {
     "name": "stdout",
     "output_type": "stream",
     "text": [
      "iter: 20, loss: -0.9244 Ha\n",
      "iter: 40, loss: -0.9906 Ha\n",
      "iter: 60, loss: -0.9968 Ha\n",
      "iter: 80, loss: -0.9977 Ha\n",
      "iter: 100, loss: -0.9978 Ha\n",
      "Ground truth is  -0.9978 Ha\n",
      "Training took 11.81s\n"
     ]
    },
    {
     "data": {
      "image/png": "[encoded data removed]",
      "text/plain": [
       "<Figure size 432x288 with 1 Axes>"
      ]
     },
     "metadata": {
      "needs_background": "light"
     },
     "output_type": "display_data"
    }
   ],
   "source": [
    "# 注意，由于我们构造的哈密顿量在两子系统间相互作用较小，我们只需设置 S = 4.\n",
    "#（更多解释请见总结部分）\n",
    "vqe = DistributedVQE(N, D, S=4)\n",
    "train(vqe)"
   ]
  },
  {
   "cell_type": "markdown",
   "id": "9eb85055",
   "metadata": {},
   "source": [
    "在上图中，我们用虚线画出了真实的基态能量。可以看到，loss 曲线收敛至虚线，表明我们的分布式 VQE 成功找到了该哈密顿量的基态能量。然而，要妥当地评估我们的模型，我们还需将它与标准 VQE 做比较。因此，下面我们构建标准 VQE 模型："
   ]
  },
  {
   "cell_type": "code",
   "execution_count": 29,
   "id": "2fff9166",
   "metadata": {},
   "outputs": [],
   "source": [
    "class StandardVQE(paddle.nn.Layer):\n",
    "    def __init__(self, N, D, S):\n",
    "        super().__init__()\n",
    "        paddle.seed(SEED)\n",
    "        self.N = N\n",
    "        self.S = S\n",
    "        self.cir = [U_cir(N, D)]\n",
    "      \n",
    "    def forward(self):\n",
    "        vec = output_states(self.S, self.N, self.cir[0])\n",
    "        loss = vec.conj().t() @ H_mtr @ vec\n",
    "        return loss.cast('float64').flatten()"
   ]
  },
  {
   "cell_type": "markdown",
   "id": "8bc5dcfd",
   "metadata": {},
   "source": [
    "实例化并训练标准 VQE。"
   ]
  },
  {
   "cell_type": "code",
   "execution_count": 30,
   "id": "a35f3eb4",
   "metadata": {},
   "outputs": [
    {
     "name": "stdout",
     "output_type": "stream",
     "text": [
      "iter: 20, loss: -0.8365 Ha\n",
      "iter: 40, loss: -0.9852 Ha\n",
      "iter: 60, loss: -0.9958 Ha\n",
      "iter: 80, loss: -0.9975 Ha\n",
      "iter: 100, loss: -0.9978 Ha\n",
      "Ground truth is  -0.9978 Ha\n",
      "Training took 2252.27s\n"
     ]
    },
    {
     "data": {
      "image/png": "[encoded data removed]",
      "text/plain": [
       "<Figure size 432x288 with 1 Axes>"
      ]
     },
     "metadata": {
      "needs_background": "light"
     },
     "output_type": "display_data"
    }
   ],
   "source": [
    "svqe = StandardVQE(N, D, S=1)\n",
    "train(svqe)  # 训练标准 VQE"
   ]
  },
  {
   "cell_type": "markdown",
   "id": "5688a618",
   "metadata": {},
   "source": [
    "有趣的是，通过比较两个模型的运行时间，我们发现，分布式 VQE 的运行速度比标准 VQE 快了一百多倍！事实上，这很容易理解：在分布式模型中，我们只需模拟两个 $N/2$ 量子比特的酉变换，这无论在时间还是空间上，都比标准 VQE 中模拟一个 $N$ 量子比特的酉变换高效得多。"
   ]
  },
  {
   "cell_type": "markdown",
   "id": "94cda668",
   "metadata": {
    "tags": []
   },
   "source": [
    "## 总结\n",
    "\n",
    "在此教程中，我们构造了一个分布式 VQE 并展示了其部分优势：\n",
    "- NISQ 设备的计算范围得以拓展。通过分布式策略，我们可以运行超过硬件量子比特数的量子算法。\n",
    "- 计算效率得到提升。对于量子过程的经典模拟而言，分布式算法降低了酉矩阵的维度，因此降低了模拟这些矩阵所需的时间、空间消耗。\n",
    "\n",
    "同时，需要注意的是，用户定义的常数 $S$ 在训练准确度和效率上扮演了重要角色：\n",
    "- 对于子系统间相互作用弱的哈密顿量而言，其基态在子系统间纠缠较弱 [7]。因此，其施密特秩较低，可以被一个较小的 $S$ 精确且高效地模拟。事实上，我们所给的演示及大多数物理、化学中有意义的哈密顿量都具有此性质。\n",
    "- 相反的，对于子系统间相互作用强的哈密顿量而言，其基态在子系统间纠缠较强，因此需要一个较大的 $S$ 来模拟。但是，无论如何，$S$ 的上界是 $2^{N/2}$，因此矩阵 $M$ 的维度上界是 $2^{N/2}\\times2^{N/2}$，这仍然比初始哈密顿量的维度（$2^{N}\\times 2^{N}$）小。因此，该算法的效率总是优于纯经典模拟。"
   ]
  },
  {
   "cell_type": "markdown",
   "id": "922679aa",
   "metadata": {
    "jp-MarkdownHeadingCollapsed": true,
    "tags": []
   },
   "source": [
    "_______\n",
    "\n",
    "# 参考文献\n",
    "\n",
    "[1] Fujii, Keisuke, et al. \"Deep Variational Quantum Eigensolver: a divide-and-conquer method for solving a larger problem with smaller size quantum computers.\" [arXiv preprint arXiv:2007.10917 (2020)](https://arxiv.org/abs/2007.10917).\n",
    "\n",
    "[2] Zhang, Yu, et al. \"Variational Quantum Eigensolver with Reduced Circuit Complexity.\" [arXiv preprint arXiv:2106.07619 (2021)](https://arxiv.org/abs/2106.07619).\n",
    "\n",
    "[3] Peng, Tianyi et al. \"Simulating Large Quantum Circuits On A Small Quantum Computer\". [Physical Review Letters 125.15, (2020): 150504](https://journals.aps.org/prl/abstract/10.1103/PhysRevLett.125.150504).\n",
    "\n",
    "[4] Eddins, Andrew, et al. \"Doubling the size of quantum simulators by entanglement forging.\" [arXiv preprint arXiv:2104.10220 (2021)](https://arxiv.org/abs/2104.10220).\n",
    "\n",
    "[5] Nielsen, Michael A., and Isaac L. Chuang. Quantum Computation and Quantum Information. Cambridge University Press, 2010.\n",
    "\n",
    "[6] Moll, Nikolaj, et al. \"Quantum optimization using variational algorithms on near-term quantum devices.\" [Quantum Science and Technology 3.3 (2018): 030503](https://iopscience.iop.org/article/10.1088/2058-9565/aab822).\n",
    "\n",
    "[7] Khatri, Sumeet, and Mark M. Wilde. \"Principles of quantum communication theory: A modern approach.\" [arXiv preprint arXiv:2011.04672 (2020)](https://arxiv.org/abs/2011.04672)."
   ]
  }
 ],
 "metadata": {
  "kernelspec": {
   "display_name": "Python 3",
   "language": "python",
   "name": "python3"
  },
  "language_info": {
   "codemirror_mode": {
    "name": "ipython",
    "version": 3
   },
   "file_extension": ".py",
   "mimetype": "text/x-python",
   "name": "python",
   "nbconvert_exporter": "python",
   "pygments_lexer": "ipython3",
   "version": "3.8.0"
  }
 },
 "nbformat": 4,
 "nbformat_minor": 5
}

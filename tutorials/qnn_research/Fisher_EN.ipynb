{
 "cells": [
  {
   "cell_type": "markdown",
   "metadata": {},
   "source": [
    "# Quantum Fisher Information\n",
    "\n",
    "<em> Copyright (c) 2021 Institute for Quantum Computing, Baidu Inc. All Rights Reserved. </em>"
   ]
  },
  {
   "cell_type": "markdown",
   "metadata": {},
   "source": [
    "## Overview\n",
    "\n",
    "In this tutorial, we briefly introduce the concepts of the classical and quantum Fisher information, along with their applications in quantum machine learning, and show how to compute them with Paddle Quantum."
   ]
  },
  {
   "cell_type": "markdown",
   "metadata": {},
   "source": [
    "## Background\n",
    "\n",
    "The quantum Fisher information (QFI) originates from the field of quantum sensing and have been versatile tools to study parameterized quantum systems [[1]](https://arxiv.org/abs/2103.15191), such as characterizing the overparameterization [[2]](https://arxiv.org/abs/2102.01659) and performing the quantum natural gradient descent [[3]](https://arxiv.org/abs/1909.02108). The QFI is a quantum analogue of the classical Fisher information (CFI). The CFI characterizes the sensibility of a parameterized **probability distribution** to parameter changes, while the QFI characterizes the sensibility of a parameterized **quantum state** to parameter changes.\n",
    "\n",
    "In a traditional introduction, the CFI will appear as a quantity of parameter estimation in mathematical statistics, which might be complicated and confusing for the beginners. This tutorial will introduce the CFI from a geometric point of view, which is not only helpful for intuitive understanding, but also easier to see the relationship between the CFI and QFI."
   ]
  },
  {
   "cell_type": "markdown",
   "metadata": {},
   "source": [
    "### Classical Fisher information\n",
    "\n",
    "Let's consider the classical Fisher information first. Suppose we now have a parameterized probability distribution $p(\\boldsymbol{x};\\boldsymbol{\\theta})$. Here comes a question:\n",
    "\n",
    "- How much does a small parameter change result in the probability distribution change ?\n",
    "\n",
    "Since the question sounds like a perturbation problem, an intuition is to perform something like the Taylor expansion. But before expansion, we need to know which function to expand, i.e. we need to quantify the probability distribution change first. More formally, we need to define a distance measure between any two probability distributions, denoted by $d(p(\\boldsymbol{x};\\boldsymbol{\\theta}),p(\\boldsymbol{x};\\boldsymbol{\\theta}'))$, or $d(\\boldsymbol{\\theta},\\boldsymbol{\\theta}')$ for short.\n",
    "\n",
    "Generally, a legal distance measure is supposed to be non-negative and equal to zero if and only if two points are identical, i.e.\n",
    "\n",
    "$$\n",
    "\\begin{aligned}\n",
    "&d(\\boldsymbol{\\theta},\\boldsymbol{\\theta}')\\geq 0,\\\\\n",
    "&d(\\boldsymbol{\\theta},\\boldsymbol{\\theta}')=0~\\Leftrightarrow~\\boldsymbol{\\theta}=\\boldsymbol{\\theta}'.\n",
    "\\end{aligned}\n",
    "\\tag{1}\n",
    "$$\n",
    "\n",
    "Considering the expansion of a small distance $d(\\boldsymbol{\\theta},\\boldsymbol{\\theta}+\\boldsymbol{\\delta})$, the conditions above lead to\n",
    "\n",
    "$$\n",
    "\\begin{aligned}\n",
    "&d(\\boldsymbol{\\theta},\\boldsymbol{\\theta})=0~\\Rightarrow~\\text{the zero order}=0,\\\\\n",
    "&d(\\boldsymbol{\\theta},\\boldsymbol{\\theta}+\\boldsymbol{\\delta})\\geq 0~\\Rightarrow~\\boldsymbol{\\delta}=0~\\text{takes minimum}\n",
    "~\\Rightarrow~\\text{the first order}=0.\n",
    "\\end{aligned}\n",
    "\\tag{2}\n",
    "$$\n",
    "\n",
    "Thus, the second order is the lowest order that does not vanish in the expansion. So the expansion can be written as\n",
    "\n",
    "$$\n",
    "\\begin{aligned}\n",
    "d(\\boldsymbol{\\theta},\\boldsymbol{\\theta}+\\boldsymbol{\\delta})\n",
    "=\\frac{1}{2}\\sum_{ij}\\delta_iM_{ij}\\delta_j+O(\\|\\boldsymbol{\\delta}\\|^3) \n",
    "=\\frac{1}{2} \\boldsymbol{\\delta}^T M \\boldsymbol{\\delta} + O(\\|\\boldsymbol{\\delta}\\|^3),\n",
    "\\end{aligned}\n",
    "\\tag{3}\n",
    "$$\n",
    "\n",
    "where\n",
    "\n",
    "$$\n",
    "M_{ij}(\\boldsymbol{\\theta})=\\left.\\frac{\\partial^2}{\\partial\\delta_i\\partial\\delta_j}d(\\boldsymbol{\\theta},\\boldsymbol{\\theta}+\\boldsymbol{\\delta})\\right|_{\\boldsymbol{\\delta}=0},\n",
    "\\tag{4}\n",
    "$$\n",
    "\n",
    "is exactly the Hessian matrix of the distance expansion, which is called [metric](http://en.wikipedia.org/wiki/Metric_tensor) of manifold in the context of differentiable geometry. The brief derivation above tells us that we can approximate a small distance as a quadratic form of the corresponding parameters, as shown in Fig.1, and the coefficient matrix  of the quadratic form is exactly the Hessian matrix from the distance expansion, up to a $1/2$ factor.\n",
    "\n",
    "![feature map](./figures/FIM-fig-Sphere-metric.png \"Figure 1. Approximate a small distance on the 2-sphere as a quadratic form\")\n",
    "<div style=\"text-align:center\">Figure 1. Approximate a small distance on the 2-sphere as a quadratic form </div>\n",
    "\n",
    "If the distance measure is specified to be the relative entropy / KL divergence, i.e.\n",
    "$$\n",
    "d_{\\mathrm{KL}}(\\boldsymbol{\\theta}, \\boldsymbol{\\theta}^{\\prime})=\\sum_{\\boldsymbol{x}} p(\\boldsymbol{x};\\boldsymbol{\\theta}) \\log \\frac{p(\\boldsymbol{x};\\boldsymbol{\\theta})}{p(\\boldsymbol{x};\\boldsymbol{\\theta}^{\\prime})}.\n",
    "\\tag{5}\n",
    "$$\n",
    "\n",
    "The corresponding Hessian matrix\n",
    "\n",
    "$$\n",
    "\\begin{aligned}\n",
    "\\mathcal{I}_{ij}(\\boldsymbol{\\theta})&= \\left.\\frac{\\partial^2}{\\partial\\delta_i\\partial\\delta_j}d_{\\mathrm{KL}}(\\boldsymbol{\\theta},\\boldsymbol{\\theta}+\\boldsymbol{\\delta})\\right|_{\\boldsymbol{\\delta}=0}\\\\\n",
    "&=-\\sum_{\\boldsymbol{x}} p(\\boldsymbol{x};\\boldsymbol{\\theta}) \\partial_{i} \\partial_{j} \\log p(\\boldsymbol{x};\\boldsymbol{\\theta})\n",
    "=\\mathbb{E}_{\\boldsymbol{x}}[-\\partial_{i} \\partial_{j} \\log p(\\boldsymbol{x};\\boldsymbol{\\theta})] \\\\\n",
    "&=\\sum_{\\boldsymbol{x}}  \\frac{1}{p(\\boldsymbol{x};\\boldsymbol{\\theta})} \\partial_i p(\\boldsymbol{x};\\boldsymbol{\\theta}) \\cdot \\partial_j p(\\boldsymbol{x};\\boldsymbol{\\theta})\n",
    "=\\mathbb{E}_{\\boldsymbol{x}}[\\partial_i\\log p(\\boldsymbol{x};\\boldsymbol{\\theta})\\cdot \\partial_j \\log p(\\boldsymbol{x};\\boldsymbol{\\theta})].\n",
    "\\end{aligned}\n",
    "\\tag{6}\n",
    "$$\n",
    "\n",
    "is the so-called classical Fisher information matrix (CFIM), with large entries indicating large sensibility to the corresponding parameter changes. Here we use the notation $\\partial_i=\\partial/\\partial \\theta_i$.\n",
    "\n",
    "Why is $\\mathcal{I}(\\boldsymbol{\\theta})$ called \"information\"? Geometrically, the CFIM characterizes the sensitivity / sharpness of a probability distribution in the vicinity of $\\boldsymbol{\\theta}$. The more sensitive it is to a parameter change, the easier one can discriminate it from others, the fewer samples are needed to discriminate it, the more information per sample can give.\n",
    "\n",
    "The measurement outcomes from a parameterized quantum circuit (PQC) form a parameterized probability distribution. So one can define a CFIM for each kind of measurement on a PQC. Currently, the main challenge of calculating CFIM on NISQ devices is that the number of possible measurement outputs increases exponentially with the number of qubits, which means that there may be many measurement outputs with low probabilities that never appear, leading to divergence in CFIM calculations. Possible solutions includes neglecting small probabilities (cause diverge) and Bayesian updating [[1]](https://arxiv.org/abs/2103.15191)."
   ]
  },
  {
   "cell_type": "markdown",
   "metadata": {},
   "source": [
    "### Quantum Fisher information\n",
    "\n",
    "The quantum Fisher information is a natural quantum analogue of the classical notion above, where the expanded distance is not defined between two probability distributions, but two quantum states. A common choice is the fidelity distance \n",
    "\n",
    "$$\n",
    "d_f(\\boldsymbol{\\theta},\\boldsymbol{\\theta}')=2-2|\\langle\\psi(\\boldsymbol{\\theta})|\\psi(\\boldsymbol{\\theta}')\\rangle|^2.\n",
    "\\tag{7}\n",
    "$$\n",
    "\n",
    "where an additional factor $2$ here is manually multiplied to make the subsequent results resemble the CFIM. Hence formally, the quantum Fisher information matrix (QFIM) at a parameterized pure quantum state $|\\psi(\\boldsymbol{\\theta})\\rangle, \\boldsymbol{\\theta}\\in\\mathbb{R}^m$ is the Hessian matrix of the fidelity distance expansion, i.e.\n",
    "\n",
    "$$\n",
    "\\begin{aligned}\n",
    "\\mathcal{F}_{ij}(\\boldsymbol{\\theta})\n",
    "&= \\left.\\frac{\\partial^2}{\\partial\\delta_i\\partial\\delta_j}d_{f}(\\boldsymbol{\\theta},\\boldsymbol{\\theta}+\\boldsymbol{\\delta})\\right|_{\\boldsymbol{\\delta}=0} \\\\\n",
    "&=4 \\operatorname{Re}\\left[\\left\\langle\\partial_{i} \\psi \\mid \\partial_{j} \\psi\\right\\rangle - \\left\\langle\\partial_{i} \\psi \\mid \\psi\\right\\rangle\\left\\langle\\psi \\mid \\partial_{j} \\psi\\right\\rangle\\right],\n",
    "\\end{aligned}\n",
    "\\tag{8}\n",
    "$$\n",
    "\n",
    "where we have omitted the argument $\\boldsymbol{\\theta}$ for simplicity. Similar to the CFIM, the QFIM characterizes the sensibility of a parameterized quantum state to a small change of parameters. In addition, it is worth mentioning that the QFIM can be seen as the real part of a complex matrix called the quantum geometric tensor, or say the Fubini-Study metric [[1]](https://arxiv.org/abs/2103.15191).\n",
    "\n",
    "Currently, the community has developed some techniques to calculate the QFIM for pure states on NISQ devices, among which the two most straight methods are\n",
    "\n",
    "- applying the second order parameter shift rule [[4]](https://arxiv.org/abs/2008.06517)\n",
    "$$\n",
    "\\begin{aligned}\n",
    "\\mathcal{F}_{i j}=-\\frac{1}{2} \\Big(&|\\langle\\psi(\\boldsymbol{\\theta}) \\mid \\psi(\\boldsymbol{\\theta}+(\\boldsymbol{e}_{i}+\\boldsymbol{e}_{j}) \\frac{\\pi}{2})\\rangle|^{2}\n",
    "-|\\langle\\psi(\\boldsymbol{\\theta}) \\mid \\psi(\\boldsymbol{\\theta}+(\\boldsymbol{e}_{i}-\\boldsymbol{e}_{j}) \\frac{\\pi}{2})\\rangle|^{2}\\\\\n",
    "-&|\\langle\\psi(\\boldsymbol{\\theta}) \\mid \\psi(\\boldsymbol{\\theta}-(\\boldsymbol{e}_{i}-\\boldsymbol{e}_{j}) \\frac{\\pi}{2})\\rangle|^{2}\n",
    "+|\\langle\\psi(\\boldsymbol{\\theta}) \\mid \\psi(\\boldsymbol{\\theta}-(\\boldsymbol{e}_{i}+\\boldsymbol{e}_{j}) \\frac{\\pi}{2})\\rangle|^{2}\\Big),\n",
    "\\end{aligned}\n",
    "\\tag{9}\n",
    "$$\n",
    "where $\\boldsymbol{e}_{i}$ denotes the unit vector corresponding to $\\theta_i$. Note that the parameter shift rule can not be directly applied to the case where there are dependencies among parameters in single-qubit rotation gates, such as controlled rotation gates.\n",
    "\n",
    "- applying the finite difference expression to calculate the projection along a certain direction [[1]](https://arxiv.org/abs/2103.15191)\n",
    "$$\n",
    "\\boldsymbol{v}^{T} \\mathcal{F} \\boldsymbol{v} \\approx \\frac{4 d_{f}(\\boldsymbol{\\theta}, \\boldsymbol{\\theta}+\\epsilon \\boldsymbol{v})}{\\epsilon^{2}}.\n",
    "\\tag{10}\n",
    "$$\n",
    "which can be regarded as the quantum analogue of the famed Fisher-Rao norm.\n",
    "\n",
    "For mixed states, the QFIM can be defined by the expansion of the Bures fidelity distance\n",
    "\n",
    "$$\n",
    "d_B(\\boldsymbol{\\theta},\\boldsymbol{\\theta}')\\equiv \n",
    "2-2\\left[\\text{Tr}\\left([\\sqrt{\\rho(\\boldsymbol{\\theta})} \\rho(\\boldsymbol{\\theta}')\\sqrt{\\rho(\\boldsymbol{\\theta})}]^{1/2}\\right)\\right]^2,\n",
    "\\tag{11}\n",
    "$$\n",
    "\n",
    "or equivalently ($\\log x\\sim x-1$), the $\\alpha=1/2$ \"sandwiched\" Rényi relative entropy [[5]](https://arxiv.org/abs/1308.5961)\n",
    "\n",
    "$$\n",
    "\\begin{aligned}\n",
    "d_R(\\boldsymbol{\\theta},\\boldsymbol{\\theta}') &\\equiv 2\\widetilde{D}_{\\alpha=1/2}(\\rho(\\boldsymbol{\\theta'}) \\| \\rho(\\boldsymbol{\\theta})), \\\\\n",
    "\\widetilde{D}_{\\alpha}(\\rho \\| \\sigma) \n",
    "&\\equiv \n",
    "\\frac{1}{\\alpha-1} \\log \\operatorname{Tr}\\left[\\left(\\sigma^{\\frac{1-\\alpha}{2 \\alpha}} \\rho \\sigma^{\\frac{1-\\alpha}{2 \\alpha}}\\right)^{\\alpha}\\right].\\\\\n",
    "\\end{aligned}\n",
    "\\tag{12}\n",
    "$$\n",
    "\n",
    "Please see the review [[1]](https://arxiv.org/abs/2103.15191) for more details."
   ]
  },
  {
   "cell_type": "markdown",
   "metadata": {},
   "source": [
    "### The relation between CFIM and QFIM\n",
    "\n",
    "By definition, for a parameterized quantum circuit, the CFIM depends on the measurement bases while the QFIM does not. In fact, one can prove that the QFIM of a quantum state $\\rho(\\boldsymbol{\\theta})$ is an upper bound of the CFIM obtained by arbitrary measurement from the same quantum state, i.e.\n",
    "\n",
    "$$\n",
    "\\mathcal{I}[\\mathcal{E}[\\rho(\\boldsymbol{\\theta})]]\\leq \\mathcal{F}[\\rho(\\boldsymbol{\\theta})],~\\forall\\mathcal{E},\n",
    "\\tag{13}\n",
    "$$\n",
    "\n",
    "where $\\mathcal{E}$ denotes the quantum operation corresponding to the measurement, and the inequality between two positive matrices means that the large minus the small is still a positive matrix. This is a natural result since measurements can not extract more information than the quantum state itself, which mathematically stems from the monotonicity of the fidelity distance with respect to trace-preserving quantum operations [[1]](https://arxiv.org/abs/2103.15191)."
   ]
  },
  {
   "cell_type": "markdown",
   "metadata": {},
   "source": [
    "### Application: effective dimension\n",
    "\n",
    "The maximal rank of the CFIM / QFIM over the parameter space $\\Theta$ is a quantity to characterize the **capacity** of a classical / quantum neural network, called effective classical / quantum dimension\n",
    "\n",
    "$$\n",
    "d_{\\text{eff}}=\\underset{\\boldsymbol{\\theta}\\in\\Theta} {\\max}\n",
    "\\operatorname{rank}{\\mathcal{F}}(\\boldsymbol{\\theta}).\n",
    "\\tag{14}\n",
    "$$\n",
    "\n",
    "The rank captures in how many directions parameter changes will result in the probability distribution / quantum state changes. A not-full rank means that some changes of parameters can not actually change the probability distribution / quantum state, or say there are redundant degrees of freedom of parameters that can be projected out and the model is therefore overparameterized. On the other hand, a larger effective dimension corresponds to more directions that can be extended, suggesting a more extensive space occupied by the model, i.e. a larger capacity.\n",
    "\n",
    "In the context of machine learning, the so-called empirical CFIM [[6]](https://arxiv.org/abs/2011.00027) is more widely used, which is defined by a summation over samples instead of the expectation in the original definition\n",
    "\n",
    "$$\n",
    "\\tilde{\\mathcal{I}}_{ij}(\\boldsymbol{\\theta})\n",
    "=\\frac{1}{n}\\sum_{k=1}^{n}\n",
    "\\partial_i\\log p(x_k,y_k;\\boldsymbol{\\theta})\n",
    "\\partial_j\\log p(x_k,y_k;\\boldsymbol{\\theta}),\n",
    "\\tag{15}\n",
    "$$\n",
    "\n",
    "where $(x_k,y_k)^{n}_{k=1}$ are identical independent distributed training data drawn from the distribution $p(x,y;\\boldsymbol{\\theta})=p(y|x;\\boldsymbol{\\theta})p(x)$. Clearly, the empirical CFIM can converge to the CFIM in the limit of infinite samples if (1) the model has been well-trained and (2) the model has enough capacity to cover the underlying data distribution. The advantage of the empirical CFIM is that it can be calculated directly using the training data at hand, instead of calculating the original integral by generating new samples. \n",
    "\n",
    "By use of the empirical CFIM, a variant of the effective dimension can be defined as\n",
    "\n",
    "$$\n",
    "d_{\\text{eff}}(\\gamma, n)=\n",
    "2 \\frac{\\log \\left(\\frac{1}{V_{\\Theta}} \\int_{\\Theta} \\sqrt{\\operatorname{det}\\left( 1 + \\frac{\\gamma n}{2 \\pi \\log n} \\hat{\\mathcal{I}}( \\boldsymbol{\\theta})\\right)} \\mathrm{d}  \\boldsymbol{\\theta} \\right)}\n",
    "{\\log \\left(\\frac{\\gamma n}{2 \\pi \\log n}\\right)},\n",
    "\\tag{16}\n",
    "$$\n",
    "\n",
    "where $V_{\\Theta}:=\\int_{\\Theta} \\mathrm{d} \\boldsymbol{\\theta} \\in \\mathbb{R}_{+}$ is the volume of the parameter space. $\\gamma\\in(0,1]$ is an artificial tunable parameter. $\\hat{\\mathcal{I}} (\\boldsymbol{\\theta}) \\in \\mathbb{R}^{d\\times d}$ is the normalized empirical CFIM\n",
    "\n",
    "$$\n",
    "\\hat{\\mathcal{I}}_{i j}(\\boldsymbol{\\theta}):= \\frac{V_{\\Theta} d }{\\int_{\\Theta} \\operatorname{Tr}(F( \\boldsymbol{\\theta} ) \\mathrm{d} \\theta} \\tilde{\\mathcal{I}}_{i j}(\\boldsymbol{\\theta}).\n",
    "\\tag{17}\n",
    "$$\n",
    "\n",
    "This definition might be strange and confusing at first glance, which is far more complicated than the maximal rank of the CFIM. However, it can converge to the maximal rank of the CFIM in the limit of infinite samples $n\\rightarrow \\infty$ [[6]](https://arxiv.org/abs/2011.00027). Regardless of the coefficients and the logarithm, the effective dimension here can be seen roughly as the geometric mean of the spectrum of the normalized CFIM plus an identity, then averaging over the parameter space. Associated with the inequality between the geometric mean and the arithmetic mean, we may expect that a more uniform empirical CFIM spectrum leads to a larger effective dimension, which is consistent with our natural impression. In this sense, it is a \"soft\" version of the effective dimension.\n",
    "\n",
    "In addition, the Fisher information can not only provide an capacity measure, but also can serve as an indicator of trainability. If the entries of the Fisher information vanish exponentially with the system size averaging over the parameter space, i.e. the sensitivity becomes exponentially small, we can not distinguish them efficiently, which indicates the existence of barrens plateaus [[6]](https://arxiv.org/abs/2011.00027)."
   ]
  },
  {
   "cell_type": "markdown",
   "metadata": {},
   "source": [
    "## Paddle Quantum Implementation"
   ]
  },
  {
   "cell_type": "markdown",
   "metadata": {},
   "source": [
    "### Calculate the QFIM\n",
    "\n",
    "With Paddle Quantum, one can obtain the QFIM conveniently by the following steps.\n",
    "\n",
    "1. Define a quantum circuit using `Circuit`.\n",
    "2. Define a `QuantumFisher` class as a calculator of the QFIM.\n",
    "3. Use the method `get_qfisher_matrix()` to calculate the QFIM.\n",
    "\n",
    "The calculator `QuantumFisher` will keep track of the change of the circuit `Circuit`.\n",
    "\n",
    "Now let's code. Firstly, import packages."
   ]
  },
  {
   "cell_type": "code",
   "execution_count": 16,
   "metadata": {},
   "outputs": [],
   "source": [
    "import paddle\n",
    "from paddle_quantum.ansatz import Circuit\n",
    "import numpy as np\n",
    "import matplotlib.pyplot as plt\n",
    "from paddle_quantum.fisher import QuantumFisher, ClassicalFisher\n",
    "import warnings\n",
    "warnings.filterwarnings(\"ignore\")"
   ]
  },
  {
   "cell_type": "markdown",
   "metadata": {},
   "source": [
    "Then, define a quantum circuit. As a simple example, we exploit a single qubit parameterized by two Bloch angles\n",
    "\n",
    "$$\n",
    "|\\psi(\\theta,\\phi)\\rangle=R_z(\\phi)R_y(\\theta)|0\\rangle=e^{-i\\phi/2}\\cos\\frac{\\theta}{2}|0\\rangle+e^{i\\phi/2}\\sin\\frac{\\theta}{2}|1\\rangle.\n",
    "\\tag{18}\n",
    "$$\n",
    "\n",
    "The corresponding QFIM can be directly calculated using Eq.(8). The analytical result reads\n",
    "\n",
    "$$\n",
    "\\mathcal{F}(\\theta,\\phi)=\\left(\\begin{matrix}\n",
    "1&0\\\\\n",
    "0&\\sin^2\\theta\n",
    "\\end{matrix}\\right).\n",
    "\\tag{19}\n",
    "$$"
   ]
  },
  {
   "cell_type": "code",
   "execution_count": 17,
   "metadata": {},
   "outputs": [],
   "source": [
    "def circuit_bloch():\n",
    "    cir = Circuit(1)\n",
    "    cir.ry()\n",
    "    cir.rz()\n",
    "    return cir"
   ]
  },
  {
   "cell_type": "code",
   "execution_count": 18,
   "metadata": {},
   "outputs": [
    {
     "name": "stdout",
     "output_type": "stream",
     "text": [
      "--Ry(2.384)----Rz(5.641)--\n",
      "                          \n"
     ]
    }
   ],
   "source": [
    "cir = circuit_bloch()\n",
    "print(cir)"
   ]
  },
  {
   "cell_type": "markdown",
   "metadata": {},
   "source": [
    "Define a QFIM calculator and calculate the QFIM element $\\mathcal{F}_{\\phi\\phi}$ corresponding to different $\\theta$."
   ]
  },
  {
   "cell_type": "code",
   "execution_count": 19,
   "metadata": {},
   "outputs": [
    {
     "name": "stdout",
     "output_type": "stream",
     "text": [
      "The QFIM at [0.         5.64109135] is \n",
      " [[ 9.99999881e-01  0.00000000e+00]\n",
      " [ 0.00000000e+00 -5.96046400e-08]].\n",
      "The QFIM at [0.15707963 5.64109135] is \n",
      " [[1.00000000e+00 6.53168000e-09]\n",
      " [6.53168000e-09 2.44715806e-02]].\n",
      "The QFIM at [0.31415927 5.64109135] is \n",
      " [[1.0000000e+00 6.0467490e-08]\n",
      " [6.0467490e-08 9.5491401e-02]].\n",
      "The QFIM at [0.4712389  5.64109135] is \n",
      " [[1.00000000e+00 3.25239200e-08]\n",
      " [3.25239200e-08 2.06107365e-01]].\n",
      "The QFIM at [0.62831853 5.64109135] is \n",
      " [[0.99999988 0.        ]\n",
      " [0.         0.34549142]].\n",
      "The QFIM at [0.78539816 5.64109135] is \n",
      " [[ 9.99999881e-01 -3.67179700e-08]\n",
      " [-3.67179700e-08  4.99999940e-01]].\n",
      "The QFIM at [0.9424778  5.64109135] is \n",
      " [[1.         0.        ]\n",
      " [0.         0.65450851]].\n",
      "The QFIM at [1.09955743 5.64109135] is \n",
      " [[0.99999976 0.        ]\n",
      " [0.         0.79389244]].\n",
      "The QFIM at [1.25663706 5.64109135] is \n",
      " [[0.99999988 0.        ]\n",
      " [0.         0.90450845]].\n",
      "The QFIM at [1.41371669 5.64109135] is \n",
      " [[ 1.00000000e+00 -4.52859700e-08]\n",
      " [-4.52859700e-08  9.75528206e-01]].\n",
      "The QFIM at [1.57079633 5.64109135] is \n",
      " [[1.000000e+00 4.214685e-08]\n",
      " [4.214685e-08 1.000000e+00]].\n",
      "The QFIM at [1.72787596 5.64109135] is \n",
      " [[1.         0.        ]\n",
      " [0.         0.97552827]].\n",
      "The QFIM at [1.88495559 5.64109135] is \n",
      " [[ 1.00000000e+00 -3.54160800e-08]\n",
      " [-3.54160800e-08  9.04508529e-01]].\n",
      "The QFIM at [2.04203522 5.64109135] is \n",
      " [[ 9.99999881e-01 -8.24729700e-08]\n",
      " [-8.24729700e-08  7.93892489e-01]].\n",
      "The QFIM at [2.19911486 5.64109135] is \n",
      " [[ 1.00000000e+00 -1.02392670e-07]\n",
      " [-1.02392670e-07  6.54508507e-01]].\n",
      "The QFIM at [2.35619449 5.64109135] is \n",
      " [[9.99999762e-01 3.67179700e-08]\n",
      " [3.67179700e-08 4.99999905e-01]].\n",
      "The QFIM at [2.51327412 5.64109135] is \n",
      " [[ 9.99999881e-01 -3.05229200e-08]\n",
      " [-3.05229200e-08  3.45491419e-01]].\n",
      "The QFIM at [2.67035376 5.64109135] is \n",
      " [[1.0000000e+00 3.2523910e-08]\n",
      " [3.2523910e-08 2.0610763e-01]].\n",
      "The QFIM at [2.82743339 5.64109135] is \n",
      " [[9.99999881e-01 4.79417900e-08]\n",
      " [4.79417900e-08 9.54914519e-02]].\n",
      "The QFIM at [2.98451302 5.64109135] is \n",
      " [[1.         0.        ]\n",
      " [0.         0.02447182]].\n",
      "The QFIM at [3.14159265 5.64109135] is \n",
      " [[ 9.99999881e-01  8.42936900e-08]\n",
      " [ 8.42936900e-08 -5.96046400e-08]].\n"
     ]
    }
   ],
   "source": [
    "qf = QuantumFisher(cir)\n",
    "# Record the QFIM element F_{phi,phi}\n",
    "list_qfisher_elements = []\n",
    "num_thetas = 21\n",
    "thetas = np.linspace(0, np.pi, num_thetas)\n",
    "for theta in thetas:\n",
    "    list_param = cir.param.tolist()\n",
    "    list_param[0] = theta\n",
    "    cir.update_param(list_param)\n",
    "    # Calculate the QFIM\n",
    "    qfim = qf.get_qfisher_matrix()\n",
    "    print(f'The QFIM at {np.array(list_param)} is \\n {qfim.round(14)}.')\n",
    "    list_qfisher_elements.append(qfim[1][1])"
   ]
  },
  {
   "cell_type": "markdown",
   "metadata": {},
   "source": [
    "Plot the outputs of the QFIM element $\\mathcal{F}_{\\phi\\phi}$ as function of $\\theta$."
   ]
  },
  {
   "cell_type": "code",
   "execution_count": 20,
   "metadata": {},
   "outputs": [
    {
     "data": {
      "image/png": "[encoded data removed]",
      "text/plain": [
       "<Figure size 648x432 with 1 Axes>"
      ]
     },
     "metadata": {
      "needs_background": "light"
     },
     "output_type": "display_data"
    }
   ],
   "source": [
    "# Create a figure\n",
    "fig = plt.figure(figsize=(9, 6))\n",
    "ax = fig.add_subplot(111)\n",
    "# Plot the QFIM\n",
    "ax.plot(thetas, list_qfisher_elements, 's', markersize=11, markerfacecolor='none')\n",
    "# Plot sin^2 theta\n",
    "ax.plot(thetas, np.sin(thetas) ** 2, linestyle=(0, (5, 3)))\n",
    "# Set legends, labels, ticks\n",
    "label_font_size = 18\n",
    "ax.legend(['get_qfisher_matrix()[1][1]', '$\\\\sin^2\\\\theta$'], \n",
    "          prop= {'size': label_font_size}, frameon=False) \n",
    "ax.set_xlabel('$\\\\theta$', fontsize=label_font_size)\n",
    "ax.set_ylabel('QFIM element $\\\\mathcal{F}_{\\\\phi\\\\phi}$', fontsize=label_font_size)\n",
    "ax.tick_params(labelsize=label_font_size)"
   ]
  },
  {
   "cell_type": "markdown",
   "metadata": {},
   "source": [
    "We can see that the outputs are consistent with the analytical results.\n",
    "\n",
    "Moreover, one can use the method `get_qfisher_norm()` to calculate the quantum Fisher-Rao norm in Eq.(10), i.e. the QFIM projection along a certain direction.\n",
    "\n",
    "As a different example, we exploit two qubits with a typical hardware-efficient ansatz\n",
    "\n",
    "$$\n",
    "|\\psi(\\boldsymbol{\\theta})\\rangle=\\left[R_{y}\\left( \\theta_{3}\\right) \\otimes R_{y}\\left( \\theta_{4}\\right)\\right] \\text{CNOT}_{0,1}\\left[ R_{y}\\left( \\theta_{1}\\right) \\otimes R_{y}\\left( \\theta_{2}\\right)\\right]|00\\rangle.\n",
    "\\tag{20}\n",
    "$$\n",
    "\n",
    "The corresponding QFIM reads\n",
    "\n",
    "$$\n",
    "\\mathcal{F}(\\theta_1,\\theta_2,\\theta_3,\\theta_4)=\\left(\\begin{array}{cc|cc}\n",
    "1 & 0 & \\sin  \\theta_{2} & 0 \\\\\n",
    "0 & 1 & 0 & \\cos  \\theta_{1} \\\\\n",
    "\\hline \n",
    "\\sin \\theta_{2} & 0 & 1 & -\\sin\\theta_1\\cos\\theta_2 \\\\\n",
    "0 & \\cos \\theta_{1} & -\\sin\\theta_1\\cos\\theta_2 & 1\n",
    "\\end{array}\\right).\n",
    "\\tag{21}\n",
    "$$\n",
    "\n",
    "Define the corresponding quantum circuit."
   ]
  },
  {
   "cell_type": "code",
   "execution_count": 21,
   "metadata": {},
   "outputs": [],
   "source": [
    "def circuit_hardeff_2qubit():\n",
    "    cir = Circuit(2)\n",
    "    cir.ry()\n",
    "    cir.cnot([0, 1])\n",
    "    cir.ry()\n",
    "\n",
    "    return cir"
   ]
  },
  {
   "cell_type": "code",
   "execution_count": 22,
   "metadata": {},
   "outputs": [
    {
     "name": "stdout",
     "output_type": "stream",
     "text": [
      "--Ry(0.069)----*----Ry(5.656)--\n",
      "               |               \n",
      "--Ry(0.001)----x----Ry(5.061)--\n",
      "                               \n"
     ]
    }
   ],
   "source": [
    "cir = circuit_hardeff_2qubit()\n",
    "print(cir)"
   ]
  },
  {
   "cell_type": "markdown",
   "metadata": {},
   "source": [
    "Define a QFIM calculator and calculate the quantum Fisher-Rao norm $\\boldsymbol{v}^T\\mathcal{F}\\boldsymbol{v}$ along the direction $\\boldsymbol{v}=(1,1,1,1)$ corresponding to different $\\theta$ (set $\\theta_1=\\theta_2=\\theta$)."
   ]
  },
  {
   "cell_type": "code",
   "execution_count": 23,
   "metadata": {},
   "outputs": [
    {
     "name": "stdout",
     "output_type": "stream",
     "text": [
      "The QFI norm along [1, 1, 1, 1] at [0.         0.         5.65593147 5.06090069] is 6.00792258.\n",
      "The QFI norm along [1, 1, 1, 1] at [0.31415927 0.31415927 5.65593147 5.06090069] is 5.93163433.\n",
      "The QFI norm along [1, 1, 1, 1] at [0.62831853 0.62831853 5.65593147 5.06090069] is 5.85534601.\n",
      "The QFI norm along [1, 1, 1, 1] at [0.9424778  0.9424778  5.65593147 5.06090069] is 5.83627391.\n",
      "The QFI norm along [1, 1, 1, 1] at [1.25663706 1.25663706 5.65593147 5.06090069] is 5.93163433.\n",
      "The QFI norm along [1, 1, 1, 1] at [1.57079633 1.57079633 5.65593147 5.06090069] is 6.01269060.\n",
      "The QFI norm along [1, 1, 1, 1] at [1.88495559 1.88495559 5.65593147 5.06090069] is 5.87441809.\n",
      "The QFI norm along [1, 1, 1, 1] at [2.19911486 2.19911486 5.65593147 5.06090069] is 5.37854233.\n",
      "The QFI norm along [1, 1, 1, 1] at [2.51327412 2.51327412 5.65593147 5.06090069] is 4.49644803.\n",
      "The QFI norm along [1, 1, 1, 1] at [2.82743339 2.82743339 5.65593147 5.06090069] is 3.28057238.\n",
      "The QFI norm along [1, 1, 1, 1] at [3.14159265 3.14159265 5.65593147 5.06090069] is 1.98361799.\n",
      "The QFI norm along [1, 1, 1, 1] at [3.45575192 3.45575192 5.65593147 5.06090069] is 0.87260724.\n",
      "The QFI norm along [1, 1, 1, 1] at [3.76991118 3.76991118 5.65593147 5.06090069] is 0.25749165.\n",
      "The QFI norm along [1, 1, 1, 1] at [4.08407045 4.08407045 5.65593147 5.06090069] is 0.26702836.\n",
      "The QFI norm along [1, 1, 1, 1] at [4.39822972 4.39822972 5.65593147 5.06090069] is 0.91552211.\n",
      "The QFI norm along [1, 1, 1, 1] at [4.71238898 4.71238898 5.65593147 5.06090069] is 2.04083701.\n",
      "The QFI norm along [1, 1, 1, 1] at [5.02654825 5.02654825 5.65593147 5.06090069] is 3.32825413.\n",
      "The QFI norm along [1, 1, 1, 1] at [5.34070751 5.34070751 5.65593147 5.06090069] is 4.54412905.\n",
      "The QFI norm along [1, 1, 1, 1] at [5.65486678 5.65486678 5.65593147 5.06090069] is 5.40715063.\n",
      "The QFI norm along [1, 1, 1, 1] at [5.96902604 5.96902604 5.65593147 5.06090069] is 5.89349018.\n",
      "The QFI norm along [1, 1, 1, 1] at [6.28318531 6.28318531 5.65593147 5.06090069] is 6.01269060.\n",
      "The QFI norm along [1, 1, 1, 1] at [6.59734457 6.59734457 5.65593147 5.06090069] is 5.94117037.\n",
      "The QFI norm along [1, 1, 1, 1] at [6.91150384 6.91150384 5.65593147 5.06090069] is 5.85057798.\n",
      "The QFI norm along [1, 1, 1, 1] at [7.2256631  7.2256631  5.65593147 5.06090069] is 5.83150589.\n",
      "The QFI norm along [1, 1, 1, 1] at [7.53982237 7.53982237 5.65593147 5.06090069] is 5.93163433.\n",
      "The QFI norm along [1, 1, 1, 1] at [7.85398163 7.85398163 5.65593147 5.06090069] is 6.00315457.\n",
      "The QFI norm along [1, 1, 1, 1] at [8.1681409  8.1681409  5.65593147 5.06090069] is 5.87918611.\n",
      "The QFI norm along [1, 1, 1, 1] at [8.48230016 8.48230016 5.65593147 5.06090069] is 5.38331038.\n",
      "The QFI norm along [1, 1, 1, 1] at [8.79645943 8.79645943 5.65593147 5.06090069] is 4.49167993.\n",
      "The QFI norm along [1, 1, 1, 1] at [9.1106187  9.1106187  5.65593147 5.06090069] is 3.29487691.\n",
      "The QFI norm along [1, 1, 1, 1] at [9.42477796 9.42477796 5.65593147 5.06090069] is 1.98361799.\n",
      "The QFI norm along [1, 1, 1, 1] at [9.73893723 9.73893723 5.65593147 5.06090069] is 0.88691220.\n",
      "The QFI norm along [1, 1, 1, 1] at [10.05309649 10.05309649  5.65593147  5.06090069] is 0.24795494.\n",
      "The QFI norm along [1, 1, 1, 1] at [10.36725576 10.36725576  5.65593147  5.06090069] is 0.26702836.\n",
      "The QFI norm along [1, 1, 1, 1] at [10.68141502 10.68141502  5.65593147  5.06090069] is 0.90598547.\n",
      "The QFI norm along [1, 1, 1, 1] at [10.99557429 10.99557429  5.65593147  5.06090069] is 2.02176400.\n",
      "The QFI norm along [1, 1, 1, 1] at [11.30973355 11.30973355  5.65593147  5.06090069] is 3.32825413.\n",
      "The QFI norm along [1, 1, 1, 1] at [11.62389282 11.62389282  5.65593147  5.06090069] is 4.52982475.\n",
      "The QFI norm along [1, 1, 1, 1] at [11.93805208 11.93805208  5.65593147  5.06090069] is 5.40715063.\n",
      "The QFI norm along [1, 1, 1, 1] at [12.25221135 12.25221135  5.65593147  5.06090069] is 5.88395414.\n",
      "The QFI norm along [1, 1, 1, 1] at [12.56637061 12.56637061  5.65593147  5.06090069] is 6.00792258.\n"
     ]
    }
   ],
   "source": [
    "qf = QuantumFisher(cir)\n",
    "v = [1, 1, 1, 1]\n",
    "# Record the QFI norm\n",
    "list_qfisher_norm = []\n",
    "num_thetas = 41\n",
    "thetas = np.linspace(0, np.pi * 4, num_thetas)\n",
    "for theta in thetas:\n",
    "    list_param = cir.param.tolist()\n",
    "    list_param[0] = theta\n",
    "    list_param[1] = theta\n",
    "    cir.update_param(list_param)\n",
    "    # 计算 QFIM 投影\n",
    "    qfisher_norm = qf.get_qfisher_norm(v)\n",
    "    print(\n",
    "        f'The QFI norm along {v} at {np.array(list_param)} is {qfisher_norm:.8f}.'\n",
    "    )\n",
    "    list_qfisher_norm.append(qfisher_norm)"
   ]
  },
  {
   "cell_type": "code",
   "execution_count": 24,
   "metadata": {},
   "outputs": [
    {
     "data": {
      "image/png": "[encoded data removed]",
      "text/plain": [
       "<Figure size 648x432 with 1 Axes>"
      ]
     },
     "metadata": {
      "needs_background": "light"
     },
     "output_type": "display_data"
    }
   ],
   "source": [
    "# Create a figure\n",
    "fig= plt.figure(figsize=(9, 6))\n",
    "ax = fig.add_subplot(111)\n",
    "# Plot the QFI norm\n",
    "ax.plot(thetas, list_qfisher_norm, 's', markersize=11, markerfacecolor='none')\n",
    "analytical_qfi_norm = 4 + 2 * np.sin(thetas) + 2 * np.cos(thetas) - 2 * np.cos(thetas) * np.sin(thetas)\n",
    "ax.plot(thetas, analytical_qfi_norm, linestyle=(0, (5, 3)))\n",
    "# Set legends, labels, ticks\n",
    "ax.legend(\n",
    "    ['get_qfisher_norm()', '$4+2\\\\sin\\\\theta+2\\\\cos\\\\theta-2\\\\sin\\\\theta\\\\cos\\\\theta$'], \n",
    "    loc='best', prop= {'size': label_font_size}, frameon=False,\n",
    ")\n",
    "ax.set_xlabel('$\\\\theta$', fontsize=label_font_size)\n",
    "ax.set_ylabel('QFI norm along $v=(1,1,1,1)$', fontsize=label_font_size)\n",
    "ax.set_ylim([-1, 9])\n",
    "ax.tick_params(labelsize=label_font_size)"
   ]
  },
  {
   "cell_type": "markdown",
   "metadata": {},
   "source": [
    "We can see that the outputs are consistent with the analytical results."
   ]
  },
  {
   "cell_type": "markdown",
   "metadata": {},
   "source": [
    "### Calculate the effective quantum dimension\n",
    "\n",
    "With Paddle Quantum, one can obtain the effective quantum dimension (EQD) by simply using the method `get_eff_qdim()`. For example, the EQD of the hardware-efficient ansatz shown above can be calculated as follows."
   ]
  },
  {
   "cell_type": "code",
   "execution_count": 25,
   "metadata": {},
   "outputs": [
    {
     "name": "stdout",
     "output_type": "stream",
     "text": [
      "--Ry(3.567)----*----Ry(2.500)--\n",
      "               |               \n",
      "--Ry(2.784)----x----Ry(2.298)--\n",
      "                               \n",
      "The number of parameters is 4.\n",
      "The EQD is 3. \n",
      "\n"
     ]
    }
   ],
   "source": [
    "cir = circuit_hardeff_2qubit()\n",
    "qf = QuantumFisher(cir)\n",
    "print(cir)\n",
    "print(f'The number of parameters is {len(cir.param.tolist())}.')\n",
    "print(f'The EQD is {qf.get_eff_qdim()}. \\n')"
   ]
  },
  {
   "cell_type": "markdown",
   "metadata": {},
   "source": [
    "In this example, the EQD is smaller than the number of parameters, which can be easily seen from the fact that the two $R_y$ gates on the control wire can be merged without changing anything. This inefficiency can be fixed by simply replacing one of the $R_y$ gates with a $R_x$ gate, and then the EQD will increase by one.\n",
    "\n",
    "If we continue to add gates to the circuit, can we make the EQD grow indefinitely? The answer is clearly no. Provided $n$ qubits, an obvious upper bound can be given by the real number degrees of freedom in a general quantum state, which is equal to $2\\cdot 2^n-2$. The minus two reflect the two constraints of normalization and global phase independence. This can be verified by the following example."
   ]
  },
  {
   "cell_type": "code",
   "execution_count": 26,
   "metadata": {},
   "outputs": [
    {
     "name": "stdout",
     "output_type": "stream",
     "text": [
      "--Ry(2.514)----Rx(3.037)----*----Ry(5.264)----Rx(0.932)--\n",
      "                            |                            \n",
      "--Ry(5.648)----Rx(5.991)----x----Ry(4.027)----Rx(2.537)--\n",
      "                                                         \n",
      "The number of parameters is 8.\n",
      "The EQD is 6. \n",
      "\n"
     ]
    }
   ],
   "source": [
    "def circuit_hardeff_overparam():\n",
    "    cir = Circuit(2)\n",
    "    cir.ry()\n",
    "    cir.rx()\n",
    "    cir.cnot([0, 1])\n",
    "    cir.ry()\n",
    "    cir.rx()\n",
    "\n",
    "    return cir\n",
    "\n",
    "\n",
    "cir = circuit_hardeff_overparam()\n",
    "qf = QuantumFisher(cir)\n",
    "print(cir)\n",
    "print(f'The number of parameters is {len(cir.param.tolist())}.')\n",
    "print(f'The EQD is {qf.get_eff_qdim()}. \\n')"
   ]
  },
  {
   "cell_type": "markdown",
   "metadata": {},
   "source": [
    "### Calculate the CFIM and effective dimension\n",
    "\n",
    "Here we exploit a brief example to show how to calculate the effective dimension defined in Eq.(16) with respect to a quantum neural network with Paddle Quantum."
   ]
  },
  {
   "cell_type": "markdown",
   "metadata": {},
   "source": [
    "Define our quantum neural network along with the loss function using PaddlePaddle."
   ]
  },
  {
   "cell_type": "code",
   "execution_count": 27,
   "metadata": {},
   "outputs": [],
   "source": [
    "import paddle.nn as nn\n",
    "from paddle_quantum.gate import IQPEncoding, ComplexEntangledLayer, RX\n",
    "from paddle_quantum.hamiltonian import Hamiltonian\n",
    "from paddle_quantum.state import zero_state\n",
    "\n",
    "class QuantumNeuralNetwork(nn.Layer):\n",
    "    def __init__(self, num_qubits, depth, encoding):\n",
    "        super().__init__()\n",
    "        self.num_qubits, self.encoding = num_qubits, encoding\n",
    "        self.S = [[i, i + 1] for i in range(num_qubits - 1)]\n",
    "        self.init_state = zero_state(num_qubits)\n",
    "        \n",
    "        if encoding == 'IQP':\n",
    "            self.complex_layer = nn.LayerList([ComplexEntangledLayer(num_qubits=num_qubits, depth=depth)])\n",
    "        elif encoding == 're-uploading':\n",
    "            self.complex_layers = nn.LayerList([ComplexEntangledLayer(num_qubits=num_qubits) for _ in range(depth + 1)])\n",
    "        else:\n",
    "            raise RuntimeError('Non-existent encoding method')\n",
    "\n",
    "    def forward(self, x):\n",
    "        if not paddle.is_tensor(x):\n",
    "            x = paddle.to_tensor(x, dtype='float32')\n",
    "\n",
    "        state = self.init_state\n",
    "        if self.encoding == 'IQP':\n",
    "            state = IQPEncoding(x, qubits_idx=self.S)(state)\n",
    "            state = self.complex_layer[0](state)\n",
    "        else:\n",
    "            for i in range(depth):\n",
    "                state = self.complex_layers[i](state)\n",
    "                for j in range(num_qubits):\n",
    "                    state = RX(j, param=x[j].item())(state)\n",
    "            state = self.complex_layers[depth](state)\n",
    "\n",
    "        return state.expec_val(Hamiltonian([[1.0, 'z0']])) * 0.5 + 0.5"
   ]
  },
  {
   "cell_type": "markdown",
   "metadata": {},
   "source": [
    "Finally, define a CFIM calculator and calculate the effective dimension corresponding to different size of training samples."
   ]
  },
  {
   "cell_type": "code",
   "execution_count": 28,
   "metadata": {},
   "outputs": [
    {
     "name": "stderr",
     "output_type": "stream",
     "text": [
      "running in get_gradient: 100%|##################################| 1000/1000 [00:47<00:00, 20.99it/s]\n"
     ]
    }
   ],
   "source": [
    "from paddle_quantum import set_backend\n",
    "\n",
    "# Configure model parameters\n",
    "num_qubits = 4\n",
    "depth = 2\n",
    "num_inputs = 100\n",
    "num_thetas = 10\n",
    "set_backend('state_vector')\n",
    "# Define the CFIM calculator\n",
    "cfim = ClassicalFisher(model=QuantumNeuralNetwork,\n",
    "                       num_thetas=num_thetas,\n",
    "                       num_inputs=num_inputs,\n",
    "                       num_qubits=num_qubits,\n",
    "                       depth=depth,\n",
    "                       encoding='IQP')\n",
    "# Compute the normalized classical Fisher information\n",
    "fim, _ = cfim.get_normalized_cfisher()\n",
    "# Compute the effective dimension for different size of samples\n",
    "n = [5000, 8000, 10000, 40000, 60000, 100000, 150000, 200000, 500000, 1000000]\n",
    "effdim = cfim.get_eff_dim(fim, n)"
   ]
  },
  {
   "cell_type": "markdown",
   "metadata": {},
   "source": [
    "Plot the ratio of the effective dimension over number of parameters vs. sample size."
   ]
  },
  {
   "cell_type": "code",
   "execution_count": 29,
   "metadata": {},
   "outputs": [
    {
     "name": "stdout",
     "output_type": "stream",
     "text": [
      "the number of parameters：24\n"
     ]
    },
    {
     "data": {
      "image/png": "[encoded data removed]",
      "text/plain": [
       "<Figure size 648x432 with 1 Axes>"
      ]
     },
     "metadata": {
      "needs_background": "light"
     },
     "output_type": "display_data"
    }
   ],
   "source": [
    "fig = plt.figure(figsize=(9, 6))\n",
    "ax = fig.add_subplot(111)\n",
    "print('the number of parameters: %s' % cfim.num_params)\n",
    "ax.plot(n, np.array(effdim) / cfim.num_params)\n",
    "label_font_size = 14\n",
    "ax.set_xlabel('sample size', fontsize=label_font_size)\n",
    "ax.set_ylabel('effective dimension / number of parameters', fontsize=label_font_size)\n",
    "ax.tick_params(labelsize=label_font_size)"
   ]
  },
  {
   "cell_type": "markdown",
   "metadata": {},
   "source": [
    "## Conclusion\n",
    "\n",
    "This tutorial briefly introduces the concept of classical and quantum Fisher information and their relationship from a geometric point of view. Then, we illustrates their applications in quantum machine learning by taking effective dimension as an example. Finally, we show how to actually perform calculations of these quantities with Paddle Quantum."
   ]
  },
  {
   "cell_type": "markdown",
   "metadata": {},
   "source": [
    "_______\n",
    "\n",
    "## References\n",
    "\n",
    "[1] Meyer, Johannes Jakob. \"Fisher information in noisy intermediate-scale quantum applications.\" [arXiv preprint arXiv:2103.15191 (2021).](https://arxiv.org/abs/2103.15191)\n",
    "\n",
    "[2] Haug, Tobias, Kishor Bharti, and M. S. Kim. \"Capacity and quantum geometry of parametrized quantum circuits.\" [arXiv preprint arXiv:2102.01659 (2021).](https://arxiv.org/abs/2102.01659)\n",
    "\n",
    "[3] Stokes, James, et al. \"Quantum natural gradient.\" [Quantum 4 (2020): 269.](https://quantum-journal.org/papers/q-2020-05-25-269/)\n",
    "\n",
    "[4] Mari, Andrea, Thomas R. Bromley, and Nathan Killoran. \"Estimating the gradient and higher-order derivatives on quantum hardware.\" [Physical Review A 103.1 (2021): 012405.](https://journals.aps.org/pra/abstract/10.1103/PhysRevA.103.012405)\n",
    "\n",
    "[5] Datta, Nilanjana, and Felix Leditzky. \"A limit of the quantum Rényi divergence.\" [Journal of Physics A: Mathematical and Theoretical 47.4 (2014): 045304.](https://iopscience.iop.org/article/10.1088/1751-8113/47/4/045304)\n",
    "\n",
    "[6] Abbas, Amira, et al. \"The power of quantum neural networks.\" [Nature Computational Science 1.6 (2021): 403-409.](https://www.nature.com/articles/s43588-021-00084-1)"
   ]
  }
 ],
 "metadata": {
  "interpreter": {
   "hash": "2ab84abaf8d5bbc8765aba8eb82d11e7069f2ff20e8f79b8a9cdeccefd2ac4da"
  },
  "kernelspec": {
   "display_name": "Python 3.8.13 ('pq_new')",
   "language": "python",
   "name": "python3"
  },
  "language_info": {
   "codemirror_mode": {
    "name": "ipython",
    "version": 3
   },
   "file_extension": ".py",
   "mimetype": "text/x-python",
   "name": "python",
   "nbconvert_exporter": "python",
   "pygments_lexer": "ipython3",
   "version": "3.8.13"
  }
 },
 "nbformat": 4,
 "nbformat_minor": 5
}

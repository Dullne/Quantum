{
 "cells": [
  {
   "cell_type": "markdown",
   "source": [
    "# 量子费舍信息\n",
    "\n",
    "<em> Copyright (c) 2021 Institute for Quantum Computing, Baidu Inc. All Rights Reserved. </em>"
   ],
   "metadata": {}
  },
  {
   "cell_type": "markdown",
   "source": [
    "## 概览\n",
    "\n",
    "本教程简要介绍经典费舍信息（classical Fisher information, CFI）和量子费舍信息（quantum Fisher information, QFI）的概念及其在量子机器学习中的应用，并展示如何调用量桨来计算它们。"
   ],
   "metadata": {}
  },
  {
   "cell_type": "markdown",
   "source": [
    "## 背景\n",
    "\n",
    "量子费舍信息这一概念源自量子传感领域，现已逐渐成为研究参数化量子系统的通用工具 [[1]](https://arxiv.org/abs/2103.15191)，例如描述过参数化现象 [[2]](https://arxiv.org/abs/2102.01659)，量子自然梯度下降 [[3]](https://arxiv.org/abs/1909.02108) 等。量子费舍信息是经典费舍信息在量子系统中的自然类比。经典费舍信息刻画了一个参数化的『概率分布』对其参数变化的灵敏度，而量子费舍信息刻画了一个参数化的『量子态』对其参数变化的灵敏度。\n",
    "\n",
    "按照传统的介绍方式，经典费舍信息会作为数理统计中参数估计的一部分内容出现，但对于初学者来说可能是复杂且不直观的。本教程将从几何的角度出发来介绍经典费舍信息，这不仅有助于直观理解，且更容易由此看出其与量子费舍信息之间的联系。"
   ],
   "metadata": {}
  },
  {
   "cell_type": "markdown",
   "source": [
    "### 经典费舍信息\n",
    "\n",
    "首先介绍经典费舍信息。对于一个参数化的概率分布 $p(\\boldsymbol{x};\\boldsymbol{\\theta})$，考虑如下问题\n",
    "\n",
    "- 一个轻微的参数改变会在多大程度上造成概率分布的改变？\n",
    "\n",
    "这是个关于微扰的问题，所以自然地想到做类似泰勒展开的操作。但在此之前，我们需要知道展开哪个函数，即我们需要量化『概率分布的改变』。更正式的说法是，我们需要定义任意两个概率分布之间的『距离』，记为 $d(p(\\boldsymbol{x};\\boldsymbol{\\theta}),p(\\boldsymbol{x};\\boldsymbol{\\theta}'))$，或简记为 $d(\\boldsymbol{\\theta},\\boldsymbol{\\theta}')$。\n",
    "\n",
    "一般地，一个合法的距离定义应该是非负的，当且仅当两点重合时为零，即\n",
    "\n",
    "$$\n",
    "\\begin{aligned}\n",
    "&d(\\boldsymbol{\\theta},\\boldsymbol{\\theta}')\\geq 0,\\\\\n",
    "&d(\\boldsymbol{\\theta},\\boldsymbol{\\theta}')=0~\\Leftrightarrow~\\boldsymbol{\\theta}=\\boldsymbol{\\theta}'.\n",
    "\\end{aligned}\n",
    "\\tag{1}\n",
    "$$\n",
    "\n",
    "考虑一个很短的距离函数的展开 $d(\\boldsymbol{\\theta},\\boldsymbol{\\theta}+\\boldsymbol{\\delta})$，以上条件会导致\n",
    "\n",
    "$$\n",
    "\\begin{aligned}\n",
    "&d(\\boldsymbol{\\theta},\\boldsymbol{\\theta})=0~\\Rightarrow~\\text{零阶项}=0,\\\\\n",
    "&d(\\boldsymbol{\\theta},\\boldsymbol{\\theta}+\\boldsymbol{\\delta})\\geq 0~\\Rightarrow~\\boldsymbol{\\delta}=0~\\text{取极小值}\n",
    "~\\Rightarrow~\\text{一阶项}=0.\n",
    "\\end{aligned}\n",
    "\\tag{2}\n",
    "$$\n",
    "\n",
    "因此，在这个展开中最低阶的非零贡献来自二阶。因此它可被写为\n",
    "\n",
    "$$\n",
    "\\begin{aligned}\n",
    "d(\\boldsymbol{\\theta},\\boldsymbol{\\theta}+\\boldsymbol{\\delta})\n",
    "=\\frac{1}{2}\\sum_{ij}\\delta_iM_{ij}\\delta_j+O(\\|\\boldsymbol{\\delta}\\|^3) \n",
    "=\\frac{1}{2} \\boldsymbol{\\delta}^T M \\boldsymbol{\\delta} + O(\\|\\boldsymbol{\\delta}\\|^3),\n",
    "\\end{aligned}\n",
    "\\tag{3}\n",
    "$$\n",
    "\n",
    "此处\n",
    "\n",
    "$$\n",
    "M_{ij}(\\boldsymbol{\\theta})=\\left.\\frac{\\partial^2}{\\partial\\delta_i\\partial\\delta_j}d(\\boldsymbol{\\theta},\\boldsymbol{\\theta}+\\boldsymbol{\\delta})\\right|_{\\boldsymbol{\\delta}=0},\n",
    "\\tag{4}\n",
    "$$\n",
    "\n",
    "正是这个距离函数展开的海森矩阵。在微分几何的框架下，这称作流形的[度规](http://en.wikipedia.org/wiki/Metric_tensor)。以上简单的推导说明，我们总是可以用参数的一个二次型来近似表示一小段距离（如图1）。而二次型的系数矩阵，除了有一个 $1/2$ 因子的差别外，正是距离函数展开的海森矩阵。\n",
    "\n",
    "![feature map](./figures/FIM-fig-Sphere-metric.png \"Figure 1. Approximate a small distance on the 2-sphere as a quadratic form\")\n",
    "<div style=\"text-align:center\">图 1. 将一小段距离近似为二次型，此处以二维球面为例绘制 </div>\n",
    "\n",
    "如果我们定义概率分布之间的距离为相对熵或称 KL 散度\n",
    "\n",
    "$$\n",
    "d_{\\mathrm{KL}}(\\boldsymbol{\\theta}, \\boldsymbol{\\theta}^{\\prime})=\\sum_{\\boldsymbol{x}} p(\\boldsymbol{x};\\boldsymbol{\\theta}) \\log \\frac{p(\\boldsymbol{x};\\boldsymbol{\\theta})}{p(\\boldsymbol{x};\\boldsymbol{\\theta}^{\\prime})}.\n",
    "\\tag{5}\n",
    "$$\n",
    "\n",
    "对应的海森矩阵为\n",
    "\n",
    "$$\n",
    "\\begin{aligned}\n",
    "\\mathcal{I}_{ij}(\\boldsymbol{\\theta})&= \\left.\\frac{\\partial^2}{\\partial\\delta_i\\partial\\delta_j}d_{\\mathrm{KL}}(\\boldsymbol{\\theta},\\boldsymbol{\\theta}+\\boldsymbol{\\delta})\\right|_{\\boldsymbol{\\delta}=0}\\\\\n",
    "&=-\\sum_{\\boldsymbol{x}} p(\\boldsymbol{x};\\boldsymbol{\\theta}) \\partial_{i} \\partial_{j} \\log p(\\boldsymbol{x};\\boldsymbol{\\theta})\n",
    "=\\mathbb{E}_{\\boldsymbol{x}}[-\\partial_{i} \\partial_{j} \\log p(\\boldsymbol{x};\\boldsymbol{\\theta})] \\\\\n",
    "&=\\sum_{\\boldsymbol{x}}  \\frac{1}{p(\\boldsymbol{x};\\boldsymbol{\\theta})} \\partial_i p(\\boldsymbol{x};\\boldsymbol{\\theta}) \\cdot \\partial_j p(\\boldsymbol{x};\\boldsymbol{\\theta})\n",
    "=\\mathbb{E}_{\\boldsymbol{x}}[\\partial_i\\log p(\\boldsymbol{x};\\boldsymbol{\\theta})\\cdot \\partial_j \\log p(\\boldsymbol{x};\\boldsymbol{\\theta})].\n",
    "\\end{aligned}\n",
    "\\tag{6}\n",
    "$$\n",
    "\n",
    "这就是所谓的经典费舍信息矩阵（classical Fisher information matrix, CFIM），矩阵元越大说明概率分布对相应的参数变化越灵敏。上式中我们使用了偏导数符号的简记 $\\partial_i=\\partial/\\partial \\theta_i$。\n",
    "\n",
    "为什么 $\\mathcal{I}(\\boldsymbol{\\theta})$ 称为『信息』？这是因为，CFIM 刻画了概率分布在对应参数一个领域内的灵敏度，或称锐度。对参数变化越灵敏，说明我们越容易将其同其它概率分布区分开来，进一步地，说明我们需要越少的样本就可以完成这种区分，那么每个样本中平均所含的信息量就越多。\n",
    "\n",
    "参数化量子电路（parameterized quantum circuit, PQC）的测量结果会形成一个概率分布，因此可以对不同的测量基定义不同的 CFIM。目前在 NISQ 设备上计算 CFIM 的主要挑战是，可能出现的测量结果的数量会随着量子比特数的增加而指数地增加，这意味着可能有很多小概率的测量结果从未出现过，导致 CFIM 的计算出现发散。一些可能的解决方案包括直接忽略小的概率事件，以及贝叶斯更新等 [[1]](https://arxiv.org/abs/2103.15191)。"
   ],
   "metadata": {}
  },
  {
   "cell_type": "markdown",
   "source": [
    "### 量子费舍信息\n",
    "\n",
    "量子费舍信息是经典费舍信息的自然类比，只是距离函数不再定义在两个概率分布之间，而是定义在两个量子态之间。我们通常选用保真度距离\n",
    "\n",
    "$$\n",
    "d_f(\\boldsymbol{\\theta},\\boldsymbol{\\theta}')=2-2|\\langle\\psi(\\boldsymbol{\\theta})|\\psi(\\boldsymbol{\\theta}')\\rangle|^2.\n",
    "\\tag{7}\n",
    "$$\n",
    "\n",
    "此处因子 $2$ 是人为乘上去的，为的是让后续的结果与 CFIM 对应上。一个参数化量子纯态 $|\\psi(\\boldsymbol{\\theta})\\rangle, \\boldsymbol{\\theta}\\in\\mathbb{R}^m$ 的量子费舍信息矩阵（quantum Fisher information matrix, QFIM）就是保真度距离展开的海森矩阵，即\n",
    "\n",
    "$$\n",
    "\\begin{aligned}\n",
    "\\mathcal{F}_{ij}(\\boldsymbol{\\theta})\n",
    "&= \\left.\\frac{\\partial^2}{\\partial\\delta_i\\partial\\delta_j}d_{f}(\\boldsymbol{\\theta},\\boldsymbol{\\theta}+\\boldsymbol{\\delta})\\right|_{\\boldsymbol{\\delta}=0} \\\\\n",
    "&=4 \\operatorname{Re}\\left[\\left\\langle\\partial_{i} \\psi \\mid \\partial_{j} \\psi\\right\\rangle - \\left\\langle\\partial_{i} \\psi \\mid \\psi\\right\\rangle\\left\\langle\\psi \\mid \\partial_{j} \\psi\\right\\rangle\\right],\n",
    "\\end{aligned}\n",
    "\\tag{8}\n",
    "$$\n",
    "\n",
    "上式中简洁起见我们略写了自变量 $\\boldsymbol{\\theta}$。与 CFIM 类似，QFIM 刻画了参数化量子态对参数微小变化的灵敏度。此外值得一提的是，QFIM 可以被视为另一个被称作量子几何张量的复数矩阵的实部，或称为 Fubini-Study 度规 [[1]](https://arxiv.org/abs/2103.15191)。\n",
    "\n",
    "目前，人们已经提出了一些在 NISQ 设备上计算纯态 QFIM 的方法，其中最直接的两个方法是\n",
    "\n",
    "- 利用二阶参数平移规则计算每个矩阵元 [[4]](https://arxiv.org/abs/2008.06517)\n",
    "$$\n",
    "\\begin{aligned}\n",
    "\\mathcal{F}_{i j}=-\\frac{1}{2} \\Big(&|\\langle\\psi(\\boldsymbol{\\theta}) \\mid \\psi(\\boldsymbol{\\theta}+(\\boldsymbol{e}_{i}+\\boldsymbol{e}_{j}) \\frac{\\pi}{2})\\rangle|^{2}\n",
    "-|\\langle\\psi(\\boldsymbol{\\theta}) \\mid \\psi(\\boldsymbol{\\theta}+(\\boldsymbol{e}_{i}-\\boldsymbol{e}_{j}) \\frac{\\pi}{2})\\rangle|^{2}\\\\\n",
    "-&|\\langle\\psi(\\boldsymbol{\\theta}) \\mid \\psi(\\boldsymbol{\\theta}-(\\boldsymbol{e}_{i}-\\boldsymbol{e}_{j}) \\frac{\\pi}{2})\\rangle|^{2}\n",
    "+|\\langle\\psi(\\boldsymbol{\\theta}) \\mid \\psi(\\boldsymbol{\\theta}-(\\boldsymbol{e}_{i}+\\boldsymbol{e}_{j}) \\frac{\\pi}{2})\\rangle|^{2}\\Big),\n",
    "\\end{aligned}\n",
    "\\tag{9}\n",
    "$$\n",
    "其中 $\\boldsymbol{e}_{i}$ 是 $\\theta_i$ 对应方向的单位向量。\n",
    "\n",
    "- 利用有限差分计算 QFIM 沿一个确定方向的投影 [[1]](https://arxiv.org/abs/2103.15191)\n",
    "$$\n",
    "\\boldsymbol{v}^{T} \\mathcal{F} \\boldsymbol{v} \\approx \\frac{4 d_{f}(\\boldsymbol{\\theta}, \\boldsymbol{\\theta}+\\epsilon \\boldsymbol{v})}{\\epsilon^{2}}.\n",
    "\\tag{10}\n",
    "$$\n",
    "这个量可以被视为著名的 Fisher-Rao 模在量子态空间的类比。\n",
    "\n",
    "对于混态，QFIM 可以类似地通过 Bures 保真度距离的展开来定义\n",
    "\n",
    "$$\n",
    "d_B(\\boldsymbol{\\theta},\\boldsymbol{\\theta}')\\equiv \n",
    "2-2\\left[\\text{Tr}\\left([\\sqrt{\\rho(\\boldsymbol{\\theta})} \\rho(\\boldsymbol{\\theta}')\\sqrt{\\rho(\\boldsymbol{\\theta})}]^{1/2}\\right)\\right]^2,\n",
    "\\tag{11}\n",
    "$$\n",
    "\n",
    "或者等价地（$\\log x\\sim x-1$），通过如下形式的 $\\alpha=1/2$ 的 Rényi 相对熵的展开来定义 [[5]](https://arxiv.org/abs/1308.5961)\n",
    "\n",
    "$$\n",
    "\\begin{aligned}\n",
    "d_R(\\boldsymbol{\\theta},\\boldsymbol{\\theta}') &\\equiv 2\\widetilde{D}_{\\alpha=1/2}(\\rho(\\boldsymbol{\\theta'}) \\| \\rho(\\boldsymbol{\\theta})), \\\\\n",
    "\\widetilde{D}_{\\alpha}(\\rho \\| \\sigma) \n",
    "&\\equiv \n",
    "\\frac{1}{\\alpha-1} \\log \\operatorname{Tr}\\left[\\left(\\sigma^{\\frac{1-\\alpha}{2 \\alpha}} \\rho \\sigma^{\\frac{1-\\alpha}{2 \\alpha}}\\right)^{\\alpha}\\right].\\\\\n",
    "\\end{aligned}\n",
    "\\tag{12}\n",
    "$$\n",
    "\n",
    "更多细节请参考这篇综述 [[1]](https://arxiv.org/abs/2103.15191) 。"
   ],
   "metadata": {}
  },
  {
   "cell_type": "markdown",
   "source": [
    "### 经典与量子费舍信息的关系\n",
    "\n",
    "根据定义，对于一个参数化的量子电路，CFIM 依赖于测量基，而 QFIM 不依赖。事实上可以证明，一个量子态 $\\rho(\\boldsymbol{\\theta})$ 的 QFIM 是其在任意测量基下对应 CFIM 的一个上限，即\n",
    "\n",
    "$$\n",
    "\\mathcal{I}[\\mathcal{E}[\\rho(\\boldsymbol{\\theta})]]\\leq \\mathcal{F}[\\rho(\\boldsymbol{\\theta})],~\\forall\\mathcal{E},\n",
    "\\tag{13}\n",
    "$$\n",
    "\n",
    "此处 $\\mathcal{E}$ 表示测量对应的量子操作。正定矩阵间不等式的含义是，大的减去小的结果仍然是一个正定矩阵。由于对量子态的测量永远无法提取出比量子态本身更多的信息，因此上式的成立是很自然的。数学上这根源于保真度距离对于保迹量子操作的单调性 [[1]](https://arxiv.org/abs/2103.15191)。"
   ],
   "metadata": {}
  },
  {
   "cell_type": "markdown",
   "source": [
    "### 应用：有效维数\n",
    "\n",
    "经典/量子费舍信息矩阵的秩在参数空间的最大值可以用来衡量神经网络表达能力，称为经典/量子有效维数\n",
    "\n",
    "$$\n",
    "d_{\\text{eff}}=\\underset{\\boldsymbol{\\theta}\\in\\Theta} {\\max}\n",
    "\\operatorname{rank}{\\mathcal{F}}(\\boldsymbol{\\theta}).\n",
    "\\tag{14}\n",
    "$$\n",
    "\n",
    "秩的大小刻画了参数变化会造成概率分布/量子态变化的方向的数量。非满秩意味着有一些特定方向的参数变化不能实际地导致概率分布/量子态发生变化，或者说有一些参数自由度是冗余的，可以把它们从模型中投影掉，因此这种现象被称作过参数化。另一方面，有效维数越大，对应着更多可以延伸的方向，这意味着模型对应的函数空间更大，即表达能力更强。\n",
    "\n",
    "在机器学习的语境下，『经验费舍信息矩阵』[[6]](https://arxiv.org/abs/2011.00027) 的使用更为广泛，它与 CFIM 的区别是用对样本的求和代替了求期望\n",
    "\n",
    "$$\n",
    "\\tilde{\\mathcal{I}}_{ij}(\\boldsymbol{\\theta})\n",
    "=\\frac{1}{n}\\sum_{k=1}^{n}\n",
    "\\partial_i\\log p(x_k,y_k;\\boldsymbol{\\theta})\n",
    "\\partial_j\\log p(x_k,y_k;\\boldsymbol{\\theta}),\n",
    "\\tag{15}\n",
    "$$\n",
    "\n",
    "此处 $(x_k,y_k)^{n}_{k=1}$ 是独立同分布的样本，分布为 $p(x,y;\\boldsymbol{\\theta})=p(y|x;\\boldsymbol{\\theta})p(x)$。显然，经验费舍信息矩阵在无限样本的极限下可以回到 CFIM，只要满足（1）模型被训练到全局最优；（2）模型拥有足够的表达能力来表达底层的数据分布。使用经验费舍信息矩阵的优势在于，它可以利用现成的样本直接计算，而不是为了计算公式中的积分而生成新的样本。\n",
    "\n",
    "利用经验费舍信息矩阵，我们可以定义有效维数的一个变体 \n",
    "\n",
    "$$\n",
    "d_{\\text{eff}}(\\gamma, n)=\n",
    "2 \\frac{\\log \\left(\\frac{1}{V_{\\Theta}} \\int_{\\Theta} \\sqrt{\\operatorname{det}\\left( 1 + \\frac{\\gamma n}{2 \\pi \\log n} \\hat{\\mathcal{I}}( \\boldsymbol{\\theta})\\right)} \\mathrm{d}  \\boldsymbol{\\theta} \\right)}\n",
    "{\\log \\left(\\frac{\\gamma n}{2 \\pi \\log n}\\right)},\n",
    "\\tag{16}\n",
    "$$\n",
    "\n",
    "其中 $V_{\\Theta}:=\\int_{\\Theta} \\mathrm{d} \\boldsymbol{\\theta} \\in \\mathbb{R}_{+}$ 是参数空间的体积。$\\gamma\\in(0,1]$ 是一个人为可调参数。$\\hat{\\mathcal{I}} (\\boldsymbol{\\theta}) \\in \\mathbb{R}^{d\\times d}$ 是归一化的经验费舍信息矩阵\n",
    "\n",
    "$$\n",
    "\\hat{\\mathcal{I}}_{i j}(\\boldsymbol{\\theta}):= \\frac{V_{\\Theta} d }{\\int_{\\Theta} \\operatorname{Tr}(F( \\boldsymbol{\\theta} ) \\mathrm{d} \\theta} \\tilde{\\mathcal{I}}_{i j}(\\boldsymbol{\\theta}).\n",
    "\\tag{17}\n",
    "$$\n",
    "\n",
    "这个定义乍看起来可能很迷惑，因为它比上文通过秩来定义要复杂得多。然而，它实际上可以在无限样本的极限下 $n\\rightarrow \\infty$  回到 CFIM 最大秩的定义 [[6]](https://arxiv.org/abs/2011.00027)。若忽略定义中的一些系数和取对数的操作，此处定义的有效维数可以粗略地看作归一化 CFIM 加上一个单位矩阵的本征谱的几何平均。依据几何平均与算术平均间的不等式关系，可知本征谱分布越均匀，有效维数越大。这和我们的直觉是一致的。在这个意义上，它可以看作是一个软化版本的有效维数。\n",
    "\n",
    "另外，费舍信息不仅可以用来计算模型的表达能力，还可以用来表征模型的可训练性。如果费舍信息矩阵的矩阵元在参数空间的平均随体系规模的增大而指数地趋于零，即概率分布/量子态对参数变化的灵敏度指数地趋于零，那么我们将无法高效地区分它们，也就意味着贫瘠高原现象的存在 [[6]](https://arxiv.org/abs/2011.00027)。"
   ],
   "metadata": {}
  },
  {
   "cell_type": "markdown",
   "source": [
    "## 调用量桨计算费舍信息"
   ],
   "metadata": {}
  },
  {
   "cell_type": "markdown",
   "source": [
    "### 计算量子费舍信息\n",
    "\n",
    "利用量桨工具，通过以下步骤我们就可以方便地算出 QFIM。\n",
    "\n",
    "1. 调用 `UAnsatz` 类定义一个量子电路。\n",
    "2. 调用 `QuantumFisher` 类定义一个 QFIM 计算器。\n",
    "3. 调用 `get_qfisher_matrix()` 方法计算 QFIM。\n",
    "\n",
    "其中计算器 `QuantumFisher` 会追踪量子电路 `UAnsatz` 的实时变化。\n",
    "\n",
    "现在来着手写代码。首先导入一些必要的包。"
   ],
   "metadata": {}
  },
  {
   "cell_type": "code",
   "execution_count": 1,
   "source": [
    "import paddle\n",
    "from paddle_quantum.circuit import UAnsatz\n",
    "import numpy as np\n",
    "import matplotlib.pyplot as plt\n",
    "from paddle_quantum.utils import QuantumFisher, ClassicalFisher\n",
    "import warnings\n",
    "warnings.filterwarnings(\"ignore\")"
   ],
   "outputs": [],
   "metadata": {}
  },
  {
   "cell_type": "markdown",
   "source": [
    "然后定义量子电路。作为一个简单的例子，我们采用布洛赫角表示的单个量子比特\n",
    "\n",
    "$$\n",
    "|\\psi(\\theta,\\phi)\\rangle=R_z(\\phi)R_y(\\theta)|0\\rangle=e^{-i\\phi/2}\\cos\\frac{\\theta}{2}|0\\rangle+e^{i\\phi/2}\\sin\\frac{\\theta}{2}|1\\rangle.\n",
    "\\tag{18}\n",
    "$$\n",
    "\n",
    "利用 (8) 式可以计算出对应 QFIM 的解析表达式为\n",
    "\n",
    "$$\n",
    "\\mathcal{F}(\\theta,\\phi)=\\left(\\begin{matrix}\n",
    "1&0\\\\\n",
    "0&\\sin^2\\theta\n",
    "\\end{matrix}\\right).\n",
    "\\tag{19}\n",
    "$$"
   ],
   "metadata": {}
  },
  {
   "cell_type": "code",
   "execution_count": 2,
   "source": [
    "def circuit_bloch():\n",
    "    cir = UAnsatz(1)\n",
    "    theta = 2 * np.pi * np.random.random(2)\n",
    "    theta = paddle.to_tensor(theta, stop_gradient=False, dtype='float64')\n",
    "    cir.ry(theta[0], which_qubit=0)\n",
    "    cir.rz(theta[1], which_qubit=0)\n",
    "    \n",
    "    return cir"
   ],
   "outputs": [],
   "metadata": {}
  },
  {
   "cell_type": "code",
   "execution_count": 3,
   "source": [
    "cir = circuit_bloch()\n",
    "print(cir)"
   ],
   "outputs": [
    {
     "output_type": "stream",
     "name": "stdout",
     "text": [
      "--Ry(1.888)----Rz(2.181)--\n",
      "                          \n"
     ]
    }
   ],
   "metadata": {}
  },
  {
   "cell_type": "markdown",
   "source": [
    "定义 QFIM 计算器然后计算不同 $\\theta$ 对应的 QFIM 矩阵元 $\\mathcal{F}_{\\phi\\phi}$ 。"
   ],
   "metadata": {}
  },
  {
   "cell_type": "code",
   "execution_count": 4,
   "source": [
    "qf = QuantumFisher(cir)\n",
    "# 记录 QFIM 的矩阵元 F_{phi,phi}\n",
    "list_qfisher_elements = []\n",
    "num_thetas = 21\n",
    "thetas = np.linspace(0, np.pi, num_thetas)\n",
    "for theta in thetas:\n",
    "    list_param = cir.get_param().tolist()\n",
    "    list_param[0] = theta\n",
    "    cir.update_param(list_param)\n",
    "    # 计算 QFIM\n",
    "    qfim = qf.get_qfisher_matrix()\n",
    "    print(f'The QFIM at {np.array(list_param)} is \\n {qfim.round(14)}.')\n",
    "    list_qfisher_elements.append(qfim[1][1])"
   ],
   "outputs": [
    {
     "output_type": "stream",
     "name": "stdout",
     "text": [
      "The QFIM at [0.         2.18107874] is \n",
      " [[1. 0.]\n",
      " [0. 0.]].\n",
      "The QFIM at [0.15707963 2.18107874] is \n",
      " [[1.         0.        ]\n",
      " [0.         0.02447174]].\n",
      "The QFIM at [0.31415927 2.18107874] is \n",
      " [[1.        0.       ]\n",
      " [0.        0.0954915]].\n",
      "The QFIM at [0.4712389  2.18107874] is \n",
      " [[1.         0.        ]\n",
      " [0.         0.20610737]].\n",
      "The QFIM at [0.62831853 2.18107874] is \n",
      " [[ 1.        -0.       ]\n",
      " [-0.         0.3454915]].\n",
      "The QFIM at [0.78539816 2.18107874] is \n",
      " [[1.  0. ]\n",
      " [0.  0.5]].\n",
      "The QFIM at [0.9424778  2.18107874] is \n",
      " [[ 1.        -0.       ]\n",
      " [-0.         0.6545085]].\n",
      "The QFIM at [1.09955743 2.18107874] is \n",
      " [[1.         0.        ]\n",
      " [0.         0.79389263]].\n",
      "The QFIM at [1.25663706 2.18107874] is \n",
      " [[1.        0.       ]\n",
      " [0.        0.9045085]].\n",
      "The QFIM at [1.41371669 2.18107874] is \n",
      " [[1.         0.        ]\n",
      " [0.         0.97552826]].\n",
      "The QFIM at [1.57079633 2.18107874] is \n",
      " [[1. 0.]\n",
      " [0. 1.]].\n",
      "The QFIM at [1.72787596 2.18107874] is \n",
      " [[1.         0.        ]\n",
      " [0.         0.97552826]].\n",
      "The QFIM at [1.88495559 2.18107874] is \n",
      " [[1.        0.       ]\n",
      " [0.        0.9045085]].\n",
      "The QFIM at [2.04203522 2.18107874] is \n",
      " [[1.         0.        ]\n",
      " [0.         0.79389263]].\n",
      "The QFIM at [2.19911486 2.18107874] is \n",
      " [[1.        0.       ]\n",
      " [0.        0.6545085]].\n",
      "The QFIM at [2.35619449 2.18107874] is \n",
      " [[1.  0. ]\n",
      " [0.  0.5]].\n",
      "The QFIM at [2.51327412 2.18107874] is \n",
      " [[1.        0.       ]\n",
      " [0.        0.3454915]].\n",
      "The QFIM at [2.67035376 2.18107874] is \n",
      " [[ 1.         -0.        ]\n",
      " [-0.          0.20610737]].\n",
      "The QFIM at [2.82743339 2.18107874] is \n",
      " [[1.        0.       ]\n",
      " [0.        0.0954915]].\n",
      "The QFIM at [2.98451302 2.18107874] is \n",
      " [[1.         0.        ]\n",
      " [0.         0.02447174]].\n",
      "The QFIM at [3.14159265 2.18107874] is \n",
      " [[1. 0.]\n",
      " [0. 0.]].\n"
     ]
    }
   ],
   "metadata": {}
  },
  {
   "cell_type": "markdown",
   "source": [
    "画出 $\\mathcal{F}_{\\phi\\phi}$ 随 $\\theta$ 变化的图像。"
   ],
   "metadata": {}
  },
  {
   "cell_type": "code",
   "execution_count": 5,
   "source": [
    "# 创建图像\n",
    "fig = plt.figure(figsize=(9, 6))\n",
    "ax = fig.add_subplot(111)\n",
    "# 绘制 QFIM\n",
    "ax.plot(thetas, list_qfisher_elements, 's', markersize=11, markerfacecolor='none')\n",
    "# 绘制 sin^2 theta\n",
    "ax.plot(thetas, np.sin(thetas) ** 2, linestyle=(0, (5, 3)))\n",
    "# 设置图例，标签，刻度\n",
    "label_font_size = 18\n",
    "ax.legend(['get_qfisher_matrix()[1][1]', '$\\\\sin^2\\\\theta$'], \n",
    "          prop= {'size': label_font_size}, frameon=False) \n",
    "ax.set_xlabel('$\\\\theta$', fontsize=label_font_size)\n",
    "ax.set_ylabel('QFIM element $\\\\mathcal{F}_{\\\\phi\\\\phi}$', fontsize=label_font_size)\n",
    "ax.tick_params(labelsize=label_font_size)"
   ],
   "outputs": [
    {
     "output_type": "display_data",
     "data": {
      "text/plain": [
       "<Figure size 648x432 with 1 Axes>"
      ],
      "image/png": "[encoded data removed]"
     },
     "metadata": {
      "needs_background": "light"
     }
    }
   ],
   "metadata": {}
  },
  {
   "cell_type": "markdown",
   "source": [
    "可以看到程序输出和解析结果是一致的。\n",
    "\n",
    "此外，我们还可以调用 `get_qfisher_norm()` 方法来计算式 (10) 中的量子费舍信息矩阵在某个方向的投影。\n",
    "\n",
    "举一个和上面不同的例子，两个量子比特上的一个典型的 hardware-efficient 拟设\n",
    "\n",
    "$$\n",
    "|\\psi(\\boldsymbol{\\theta})\\rangle=\\left[R_{y}\\left( \\theta_{3}\\right) \\otimes R_{y}\\left( \\theta_{4}\\right)\\right] \\text{CNOT}_{0,1}\\left[ R_{y}\\left( \\theta_{1}\\right) \\otimes R_{y}\\left( \\theta_{2}\\right)\\right]|00\\rangle.\n",
    "\\tag{20}\n",
    "$$\n",
    "\n",
    "对应的 QFIM 为\n",
    "\n",
    "$$\n",
    "\\mathcal{F}(\\theta_1,\\theta_2,\\theta_3,\\theta_4)=\\left(\\begin{array}{cc|cc}\n",
    "1 & 0 & \\sin  \\theta_{2} & 0 \\\\\n",
    "0 & 1 & 0 & \\cos  \\theta_{1} \\\\\n",
    "\\hline \n",
    "\\sin \\theta_{2} & 0 & 1 & -\\sin\\theta_1\\cos\\theta_2 \\\\\n",
    "0 & \\cos \\theta_{1} & -\\sin\\theta_1\\cos\\theta_2 & 1\n",
    "\\end{array}\\right).\n",
    "\\tag{21}\n",
    "$$\n",
    "\n",
    "定义相应的量子电路。"
   ],
   "metadata": {}
  },
  {
   "cell_type": "code",
   "execution_count": 6,
   "source": [
    "def circuit_hardeff_2qubit():\n",
    "    cir = UAnsatz(2)\n",
    "    theta = 2 * np.pi * np.random.random(4)\n",
    "    theta = paddle.to_tensor(theta, stop_gradient=False, dtype='float64')\n",
    "    cir.ry(theta[0], which_qubit=0)\n",
    "    cir.ry(theta[1], which_qubit=1)\n",
    "    cir.cnot(control=[0, 1])\n",
    "    cir.ry(theta[2], which_qubit=0)\n",
    "    cir.ry(theta[3], which_qubit=1)\n",
    "\n",
    "    return cir"
   ],
   "outputs": [],
   "metadata": {}
  },
  {
   "cell_type": "code",
   "execution_count": 7,
   "source": [
    "cir = circuit_hardeff_2qubit()\n",
    "print(cir)"
   ],
   "outputs": [
    {
     "output_type": "stream",
     "name": "stdout",
     "text": [
      "--Ry(2.614)----*----Ry(3.253)--\n",
      "               |               \n",
      "--Ry(2.906)----x----Ry(5.027)--\n",
      "                               \n"
     ]
    }
   ],
   "metadata": {}
  },
  {
   "cell_type": "markdown",
   "source": [
    "定义 QFIM 计算器并计算不同 $\\theta$ 对应的 QFIM 在 $\\boldsymbol{v}=(1,1,1,1)$ 方向上的投影 $\\boldsymbol{v}^T\\mathcal{F}\\boldsymbol{v}$ （固定 $\\theta_1=\\theta_2=\\theta$）。"
   ],
   "metadata": {}
  },
  {
   "cell_type": "code",
   "execution_count": 8,
   "source": [
    "qf = QuantumFisher(cir)\n",
    "v = [1, 1, 1, 1]\n",
    "# 记录 QFIM 投影\n",
    "list_qfisher_norm = []\n",
    "num_thetas = 41\n",
    "thetas = np.linspace(0, np.pi * 4, num_thetas)\n",
    "for theta in thetas:\n",
    "    list_param = cir.get_param().tolist()\n",
    "    list_param[0] = theta\n",
    "    list_param[1] = theta\n",
    "    cir.update_param(list_param)\n",
    "    # 计算 QFIM 投影\n",
    "    qfisher_norm = qf.get_qfisher_norm(v)\n",
    "    print(\n",
    "        f'The QFI norm along {v} at {np.array(list_param)} is {qfisher_norm:.8f}.'\n",
    "    )\n",
    "    list_qfisher_norm.append(qfisher_norm)"
   ],
   "outputs": [
    {
     "output_type": "stream",
     "name": "stdout",
     "text": [
      "The QFI norm along [1, 1, 1, 1] at [0.         0.         3.2533421  5.02652273] is 5.99962501.\n",
      "The QFI norm along [1, 1, 1, 1] at [0.31415927 0.31415927 3.2533421  5.02652273] is 5.93033916.\n",
      "The QFI norm along [1, 1, 1, 1] at [0.62831853 0.62831853 3.2533421  5.02652273] is 5.84133590.\n",
      "The QFI norm along [1, 1, 1, 1] at [0.9424778  0.9424778  3.2533421  5.02652273] is 5.84309143.\n",
      "The QFI norm along [1, 1, 1, 1] at [1.25663706 1.25663706 3.2533421  5.02652273] is 5.93367838.\n",
      "The QFI norm along [1, 1, 1, 1] at [1.57079633 1.57079633 3.2533421  5.02652273] is 5.99962501.\n",
      "The QFI norm along [1, 1, 1, 1] at [1.88495559 1.88495559 3.2533421  5.02652273] is 5.86697827.\n",
      "The QFI norm along [1, 1, 1, 1] at [2.19911486 2.19911486 3.2533421  5.02652273] is 5.38230779.\n",
      "The QFI norm along [1, 1, 1, 1] at [2.51327412 2.51327412 3.2533421  5.02652273] is 4.49128513.\n",
      "The QFI norm along [1, 1, 1, 1] at [2.82743339 2.82743339 3.2533421  5.02652273] is 3.28287364.\n",
      "The QFI norm along [1, 1, 1, 1] at [3.14159265 3.14159265 3.2533421  5.02652273] is 1.97995933.\n",
      "The QFI norm along [1, 1, 1, 1] at [3.45575192 3.45575192 3.2533421  5.02652273] is 0.87758767.\n",
      "The QFI norm along [1, 1, 1, 1] at [3.76991118 3.76991118 3.2533421  5.02652273] is 0.25010151.\n",
      "The QFI norm along [1, 1, 1, 1] at [4.08407045 4.08407045 3.2533421  5.02652273] is 0.26070618.\n",
      "The QFI norm along [1, 1, 1, 1] at [4.39822972 4.39822972 3.2533421  5.02652273] is 0.90660775.\n",
      "The QFI norm along [1, 1, 1, 1] at [4.71238898 4.71238898 3.2533421  5.02652273] is 2.01995733.\n",
      "The QFI norm along [1, 1, 1, 1] at [5.02654825 5.02654825 3.2533421  5.02652273] is 3.32425271.\n",
      "The QFI norm along [1, 1, 1, 1] at [5.34070751 5.34070751 3.2533421  5.02652273] is 4.52539873.\n",
      "The QFI norm along [1, 1, 1, 1] at [5.65486678 5.65486678 3.2533421  5.02652273] is 5.40406149.\n",
      "The QFI norm along [1, 1, 1, 1] at [5.96902604 5.96902604 3.2533421  5.02652273] is 5.87599852.\n",
      "The QFI norm along [1, 1, 1, 1] at [6.28318531 6.28318531 3.2533421  5.02652273] is 5.99962501.\n",
      "The QFI norm along [1, 1, 1, 1] at [6.59734457 6.59734457 3.2533421  5.02652273] is 5.93033916.\n",
      "The QFI norm along [1, 1, 1, 1] at [6.91150384 6.91150384 3.2533421  5.02652273] is 5.84133590.\n",
      "The QFI norm along [1, 1, 1, 1] at [7.2256631  7.2256631  3.2533421  5.02652273] is 5.84309143.\n",
      "The QFI norm along [1, 1, 1, 1] at [7.53982237 7.53982237 3.2533421  5.02652273] is 5.93367838.\n",
      "The QFI norm along [1, 1, 1, 1] at [7.85398163 7.85398163 3.2533421  5.02652273] is 5.99962501.\n",
      "The QFI norm along [1, 1, 1, 1] at [8.1681409  8.1681409  3.2533421  5.02652273] is 5.86697827.\n",
      "The QFI norm along [1, 1, 1, 1] at [8.48230016 8.48230016 3.2533421  5.02652273] is 5.38230779.\n",
      "The QFI norm along [1, 1, 1, 1] at [8.79645943 8.79645943 3.2533421  5.02652273] is 4.49128513.\n",
      "The QFI norm along [1, 1, 1, 1] at [9.1106187  9.1106187  3.2533421  5.02652273] is 3.28287364.\n",
      "The QFI norm along [1, 1, 1, 1] at [9.42477796 9.42477796 3.2533421  5.02652273] is 1.97995933.\n",
      "The QFI norm along [1, 1, 1, 1] at [9.73893723 9.73893723 3.2533421  5.02652273] is 0.87758767.\n",
      "The QFI norm along [1, 1, 1, 1] at [10.05309649 10.05309649  3.2533421   5.02652273] is 0.25010151.\n",
      "The QFI norm along [1, 1, 1, 1] at [10.36725576 10.36725576  3.2533421   5.02652273] is 0.26070618.\n",
      "The QFI norm along [1, 1, 1, 1] at [10.68141502 10.68141502  3.2533421   5.02652273] is 0.90660775.\n",
      "The QFI norm along [1, 1, 1, 1] at [10.99557429 10.99557429  3.2533421   5.02652273] is 2.01995733.\n",
      "The QFI norm along [1, 1, 1, 1] at [11.30973355 11.30973355  3.2533421   5.02652273] is 3.32425271.\n",
      "The QFI norm along [1, 1, 1, 1] at [11.62389282 11.62389282  3.2533421   5.02652273] is 4.52539873.\n",
      "The QFI norm along [1, 1, 1, 1] at [11.93805208 11.93805208  3.2533421   5.02652273] is 5.40406149.\n",
      "The QFI norm along [1, 1, 1, 1] at [12.25221135 12.25221135  3.2533421   5.02652273] is 5.87599852.\n",
      "The QFI norm along [1, 1, 1, 1] at [12.56637061 12.56637061  3.2533421   5.02652273] is 5.99962501.\n"
     ]
    }
   ],
   "metadata": {}
  },
  {
   "cell_type": "code",
   "execution_count": 9,
   "source": [
    "# 创建图像\n",
    "fig = plt.figure(figsize=(9, 6))\n",
    "ax = fig.add_subplot(111)\n",
    "# 绘制 QFIM 投影\n",
    "ax.plot(thetas, list_qfisher_norm, 's', markersize=11, markerfacecolor='none')\n",
    "analytical_qfi_norm = 4 + 2 * np.sin(thetas) + 2 * np.cos(thetas) - 2 * np.cos(thetas) * np.sin(thetas)\n",
    "ax.plot(thetas, analytical_qfi_norm, linestyle=(0, (5, 3)))\n",
    "# 设置图例，标签，刻度\n",
    "ax.legend(\n",
    "    ['get_qfisher_norm()', '$4+2\\\\sin\\\\theta+2\\\\cos\\\\theta-2\\\\sin\\\\theta\\\\cos\\\\theta$'], \n",
    "    loc='best', prop= {'size': label_font_size}, frameon=False,\n",
    ")\n",
    "ax.set_xlabel('$\\\\theta$', fontsize=label_font_size)\n",
    "ax.set_ylabel('QFI norm along $v=(1,1,1,1)$', fontsize=label_font_size)\n",
    "ax.set_ylim([-1, 9])\n",
    "ax.tick_params(labelsize=label_font_size)"
   ],
   "outputs": [
    {
     "output_type": "display_data",
     "data": {
      "text/plain": [
       "<Figure size 648x432 with 1 Axes>"
      ],
      "image/png": "[encoded data removed]"
     },
     "metadata": {
      "needs_background": "light"
     }
    }
   ],
   "metadata": {}
  },
  {
   "cell_type": "markdown",
   "source": [
    "可以看到程序的输出和解析结果是一致的。"
   ],
   "metadata": {}
  },
  {
   "cell_type": "markdown",
   "source": [
    "### 计算有效量子维数\n",
    "\n",
    "利用量桨，我们可以通过调用 `get_eff_qdim()` 方法方便地计算有效量子维数（effective quantum dimension, EQD）。以下是上面提到的 hardware-efficient 拟设的 EQD 计算示例。"
   ],
   "metadata": {}
  },
  {
   "cell_type": "code",
   "execution_count": 10,
   "source": [
    "cir = circuit_hardeff_2qubit()\n",
    "qf = QuantumFisher(cir)\n",
    "print(cir)\n",
    "print(f'The number of parameters is {len(cir.get_param().tolist())}.')\n",
    "print(f'The EQD is {qf.get_eff_qdim()}. \\n')"
   ],
   "outputs": [
    {
     "output_type": "stream",
     "name": "stdout",
     "text": [
      "--Ry(4.248)----*----Ry(1.233)--\n",
      "               |               \n",
      "--Ry(6.121)----x----Ry(4.717)--\n",
      "                               \n",
      "The number of parameters is 4.\n",
      "The EQD is 3. \n",
      "\n"
     ]
    }
   ],
   "metadata": {}
  },
  {
   "cell_type": "markdown",
   "source": [
    "在这个例子中，EQD 比参数个数要少，这实际上可以通过控制电路上两个 $R_y$ 可以直接合并这一点上看出来。这可以通过替换其中一个 $R_y$ 门为 $R_x$ 门来修复，这会使得 EQD 增长 1。\n",
    "\n",
    "如果继续在电路上增加门，EQD 会无限增长吗？答案显然是不会，这是因为对于 $n$ 个量子比特，量子态的实数自由度为 $2\\cdot 2^n-2$，其中减 $2$ 是由于归一化和全局相位无关性这两条约束。这说明无论门的数量为多少，EQD 都不会超过 $2\\cdot 2^n-2$。我们可以通过下面的例子做一简单的验证。"
   ],
   "metadata": {}
  },
  {
   "cell_type": "code",
   "execution_count": 11,
   "source": [
    "def circuit_hardeff_overparam():\n",
    "    cir = UAnsatz(2)\n",
    "    theta = 2 * np.pi * np.random.random(8)\n",
    "    theta = paddle.to_tensor(theta, stop_gradient=False, dtype='float64')\n",
    "    cir.ry(theta[0], which_qubit=0)\n",
    "    cir.ry(theta[1], which_qubit=1)\n",
    "    cir.rx(theta[2], which_qubit=0)\n",
    "    cir.rx(theta[3], which_qubit=1)\n",
    "    cir.cnot(control=[0, 1])\n",
    "    cir.ry(theta[4], which_qubit=0)\n",
    "    cir.ry(theta[5], which_qubit=1)\n",
    "    cir.rx(theta[6], which_qubit=0)\n",
    "    cir.rx(theta[7], which_qubit=1)\n",
    "\n",
    "    return cir\n",
    "\n",
    "\n",
    "cir = circuit_hardeff_overparam()\n",
    "qf = QuantumFisher(cir)\n",
    "print(cir)\n",
    "print(f'The number of parameters is {len(cir.get_param().tolist())}.')\n",
    "print(f'The EQD is {qf.get_eff_qdim()}. \\n')"
   ],
   "outputs": [
    {
     "output_type": "stream",
     "name": "stdout",
     "text": [
      "--Ry(0.173)----Rx(5.837)----*----Ry(3.082)----Rx(3.997)--\n",
      "                            |                            \n",
      "--Ry(1.354)----Rx(0.536)----x----Ry(5.267)----Rx(5.647)--\n",
      "                                                         \n",
      "The number of parameters is 8.\n",
      "The EQD is 6. \n",
      "\n"
     ]
    }
   ],
   "metadata": {}
  },
  {
   "cell_type": "markdown",
   "source": [
    "### 计算经典费舍信息和有效维数\n",
    "\n",
    "这里我们举一个简单的例子来展示如何利用量桨对于一个量子神经网络计算式 (16) 中的有效维数。\n",
    "\n",
    "首先，定义经典数据到量子数据的编码方式。"
   ],
   "metadata": {}
  },
  {
   "cell_type": "code",
   "execution_count": 12,
   "source": [
    "def U_theta(x, theta, num_qubits, depth, encoding):\n",
    "    cir = UAnsatz(num_qubits)\n",
    "    if encoding == 'IQP':\n",
    "        S = [[i, i + 1] for i in range(num_qubits - 1)]\n",
    "        cir.iqp_encoding(x, num_repeats=1, pattern=S)\n",
    "        cir.complex_entangled_layer(theta, depth)\n",
    "    elif encoding == 're-uploading':\n",
    "        for i in range(depth):\n",
    "            cir.complex_entangled_layer(theta[i:i + 1], depth=1)\n",
    "            for j in range(num_qubits):\n",
    "                cir.rx(x[j], which_qubit=j)\n",
    "        cir.complex_entangled_layer(theta[-1:], depth=1)\n",
    "    else:\n",
    "        raise RuntimeError('Non-existent encoding method')\n",
    "    return cir"
   ],
   "outputs": [],
   "metadata": {}
  },
  {
   "cell_type": "markdown",
   "source": [
    "然后调用飞桨定义量子神经网络和相应的损失函数。"
   ],
   "metadata": {}
  },
  {
   "cell_type": "code",
   "execution_count": 13,
   "source": [
    "import paddle.nn as nn\n",
    "\n",
    "class QuantumNeuralNetwork(nn.Layer):\n",
    "    def __init__(self, num_qubits, depth, encoding):\n",
    "        super().__init__()\n",
    "        self.num_qubits, self.depth, self.encoding = num_qubits, depth, encoding\n",
    "        if self.encoding == 'IQP':\n",
    "            self.theta = self.create_parameter(\n",
    "                shape=[self.depth, self.num_qubits, 3],\n",
    "                default_initializer=paddle.nn.initializer.Uniform(low=0.0,\n",
    "                                                                  high=2 *\n",
    "                                                                  np.pi),\n",
    "                dtype='float64',\n",
    "                is_bias=False)\n",
    "        elif self.encoding == 're-uploading':\n",
    "            self.theta = self.create_parameter(\n",
    "                shape=[self.depth + 1, self.num_qubits, 3],\n",
    "                default_initializer=paddle.nn.initializer.Uniform(low=0.0,\n",
    "                                                                  high=2 *\n",
    "                                                                  np.pi),\n",
    "                dtype='float64',\n",
    "                is_bias=False)\n",
    "        else:\n",
    "            raise RuntimeError('Non-existent encoding method')\n",
    "\n",
    "    def forward(self, x):\n",
    "        if not paddle.is_tensor(x):\n",
    "            x = paddle.to_tensor(x)\n",
    "        cir = U_theta(x, self.theta, self.num_qubits, self.depth,\n",
    "                      self.encoding)\n",
    "        cir.run_state_vector()\n",
    "        return cir.expecval([[1.0, 'z0']]) * paddle.to_tensor(\n",
    "            [0.5], dtype='float64') + paddle.to_tensor([0.5], dtype='float64')"
   ],
   "outputs": [],
   "metadata": {}
  },
  {
   "cell_type": "markdown",
   "source": [
    "最后，定义 CFIM 计算器并计算不同大小的训练集对应的有效维数。"
   ],
   "metadata": {}
  },
  {
   "cell_type": "code",
   "execution_count": 17,
   "source": [
    "# 配置模型参数\n",
    "num_qubits = 4\n",
    "depth = 2\n",
    "num_inputs = 100\n",
    "num_thetas = 10\n",
    "# 定义 CFIM 计算器\n",
    "cfim = ClassicalFisher(model=QuantumNeuralNetwork,\n",
    "                       num_thetas=num_thetas,\n",
    "                       num_inputs=num_inputs,\n",
    "                       num_qubits=num_qubits,\n",
    "                       depth=depth,\n",
    "                       encoding='IQP')\n",
    "# 计算归一化的 CFIM\n",
    "fim, _ = cfim.get_normalized_cfisher()\n",
    "# 计算不同样本大小对应的有效维数\n",
    "n = [5000, 8000, 10000, 40000, 60000, 100000, 150000, 200000, 500000, 1000000]\n",
    "effdim = cfim.get_eff_dim(fim, n)"
   ],
   "outputs": [
    {
     "output_type": "stream",
     "name": "stderr",
     "text": [
      "running in get_gradient: 100%|##################################| 1000/1000 [02:05<00:00,  7.94it/s]\n"
     ]
    }
   ],
   "metadata": {}
  },
  {
   "cell_type": "markdown",
   "source": [
    "画出有效维数与参数个数之比随训练集大小的变化规律。"
   ],
   "metadata": {}
  },
  {
   "cell_type": "code",
   "execution_count": 19,
   "source": [
    "fig = plt.figure(figsize=(9, 6))\n",
    "ax = fig.add_subplot(111)\n",
    "print('the number of parameters：%s' % cfim.num_params)\n",
    "ax.plot(n, np.array(effdim) / cfim.num_params)\n",
    "label_font_size = 14\n",
    "ax.set_xlabel('sample size', fontsize=label_font_size)\n",
    "ax.set_ylabel('effective dimension / number of parameters', fontsize=label_font_size)\n",
    "ax.tick_params(labelsize=label_font_size)"
   ],
   "outputs": [
    {
     "output_type": "stream",
     "name": "stdout",
     "text": [
      "the number of parameters：24\n"
     ]
    },
    {
     "output_type": "display_data",
     "data": {
      "text/plain": [
       "<Figure size 648x432 with 1 Axes>"
      ],
      "image/png": "[encoded data removed]"
     },
     "metadata": {
      "needs_background": "light"
     }
    }
   ],
   "metadata": {}
  },
  {
   "cell_type": "markdown",
   "source": [
    "## 总结\n",
    "\n",
    "本教程从几何的角度简要介绍了经典费舍信息和量子费舍信息的概念及二者之间的关系，并以有效维数为例阐述了它们在量子机器学习中的应用，最后展示了如何调用量桨来具体地计算它们。"
   ],
   "metadata": {}
  },
  {
   "cell_type": "markdown",
   "source": [
    "_______\n",
    "\n",
    "## 参考文献\n",
    "\n",
    "[1] Meyer, Johannes Jakob. \"Fisher information in noisy intermediate-scale quantum applications.\" [arXiv preprint arXiv:2103.15191 (2021).](https://arxiv.org/abs/2103.15191)\n",
    "\n",
    "[2] Haug, Tobias, Kishor Bharti, and M. S. Kim. \"Capacity and quantum geometry of parametrized quantum circuits.\" [arXiv preprint arXiv:2102.01659 (2021).](https://arxiv.org/abs/2102.01659)\n",
    "\n",
    "[3] Stokes, James, et al. \"Quantum natural gradient.\" [Quantum 4 (2020): 269.](https://quantum-journal.org/papers/q-2020-05-25-269/)\n",
    "\n",
    "[4] Mari, Andrea, Thomas R. Bromley, and Nathan Killoran. \"Estimating the gradient and higher-order derivatives on quantum hardware.\" [Physical Review A 103.1 (2021): 012405.](https://journals.aps.org/pra/abstract/10.1103/PhysRevA.103.012405)\n",
    "\n",
    "[5] Datta, Nilanjana, and Felix Leditzky. \"A limit of the quantum Rényi divergence.\" [Journal of Physics A: Mathematical and Theoretical 47.4 (2014): 045304.](https://iopscience.iop.org/article/10.1088/1751-8113/47/4/045304)\n",
    "\n",
    "[6] Abbas, Amira, et al. \"The power of quantum neural networks.\" [Nature Computational Science 1.6 (2021): 403-409.](https://www.nature.com/articles/s43588-021-00084-1)"
   ],
   "metadata": {}
  }
 ],
 "metadata": {
  "kernelspec": {
   "display_name": "Python 3",
   "language": "python",
   "name": "python3"
  },
  "language_info": {
   "codemirror_mode": {
    "name": "ipython",
    "version": 3
   },
   "file_extension": ".py",
   "mimetype": "text/x-python",
   "name": "python",
   "nbconvert_exporter": "python",
   "pygments_lexer": "ipython3",
   "version": "3.7.10"
  }
 },
 "nbformat": 4,
 "nbformat_minor": 5
}
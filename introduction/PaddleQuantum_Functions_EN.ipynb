{
 "cells": [
  {
   "cell_type": "markdown",
   "metadata": {},
   "source": [
    "# Frequently Used Functions in Paddle Quantum\n",
    "\n",
    "<em> Copyright (c) 2021 Institute for Quantum Computing, Baidu Inc. All Rights Reserved. </em>"
   ]
  },
  {
   "cell_type": "markdown",
   "metadata": {},
   "source": [
    "## Overview"
   ]
  },
  {
   "cell_type": "markdown",
   "metadata": {},
   "source": [
    "In this file, we list some frequently used functions in Paddle Quantum.\n",
    "\n",
    "You can see other functions in [API](https://qml.baidu.com/api/introduction.html)\n",
    "\n",
    "Here we will also use preparing a pure state as an example to see how to use Paddle Quantum to realize quantum neural network algorithms."
   ]
  },
  {
   "cell_type": "markdown",
   "metadata": {},
   "source": [
    "## 1. Import Mudules "
   ]
  },
  {
   "cell_type": "code",
   "execution_count": 1,
   "metadata": {},
   "outputs": [],
   "source": [
    "# 1.1 Import numpy and paddle\n",
    "import numpy as np\n",
    "import paddle\n",
    "\n",
    "# 1.2 Create quantum circuit\n",
    "from paddle_quantum.circuit import UAnsatz \n",
    "\n",
    "# 1.3 Create quantum state - in np.ndarray form\n",
    "from paddle_quantum.state import vec, vec_random  # As vector\n",
    "from paddle_quantum.state import density_op, density_op_random, completely_mixed_computational  # As matrix\n",
    "\n",
    "# 1.4 Create Matrix - in np.ndarray form\n",
    "from scipy.stats import unitary_group  # Random U matrix\n",
    "from paddle_quantum.utils import pauli_str_to_matrix  # Pauli matrices for n qubits\n",
    "\n",
    "# 1.5 Matrix calculation with paddle.Tensor\n",
    "from paddle import matmul, trace  # Calculate the inner product and trace\n",
    "from paddle_quantum.utils import dagger  # Get dagger of a paddle.Tensor (note: for numpy.ndarray, you can use “.conj().T” to do dagger)\n",
    "\n",
    "# 1.6 Plot figure\n",
    "import matplotlib.pyplot as plt"
   ]
  },
  {
   "cell_type": "markdown",
   "metadata": {},
   "source": [
    "## 2. Often Used Parameters"
   ]
  },
  {
   "cell_type": "code",
   "execution_count": 2,
   "metadata": {},
   "outputs": [],
   "source": [
    "# 2.1 Parameters for quantum circuit\n",
    "\n",
    "N = 3  # Qubits number in Quantum circuit\n",
    "DEPTH = 2  # Depth of the quantum circuit (Layers number)"
   ]
  },
  {
   "cell_type": "code",
   "execution_count": 3,
   "metadata": {},
   "outputs": [],
   "source": [
    "# 2.2 Parameters in the iteration \n",
    "\n",
    "ITR = 200  # Iteration number \n",
    "LR = 0.2   # Learning rate \n",
    "SEED = 1   # Random seed \n",
    "paddle.seed(SEED)     # seed for paddle\n",
    "np.random.seed(SEED)  # seed for numpy"
   ]
  },
  {
   "cell_type": "markdown",
   "metadata": {},
   "source": [
    "## 3. Numpy Matrix"
   ]
  },
  {
   "cell_type": "code",
   "execution_count": 4,
   "metadata": {},
   "outputs": [],
   "source": [
    "# 3.1 Random unitary gate\n",
    "V = unitary_group.rvs(2)  # Random 2*2 V"
   ]
  },
  {
   "cell_type": "code",
   "execution_count": 5,
   "metadata": {},
   "outputs": [],
   "source": [
    "# 3.2 Diagonal matrix\n",
    "D = np.diag([0.2, 0.8])"
   ]
  },
  {
   "cell_type": "code",
   "execution_count": 6,
   "metadata": {},
   "outputs": [],
   "source": [
    "# 3.3 Transpose complex conjugate\n",
    "V_dagger = V.conj().T"
   ]
  },
  {
   "cell_type": "code",
   "execution_count": 7,
   "metadata": {},
   "outputs": [],
   "source": [
    "# 3.4 Matrix multiplication: @\n",
    "H = (V @ D @ V_dagger)"
   ]
  },
  {
   "cell_type": "code",
   "execution_count": 8,
   "metadata": {},
   "outputs": [
    {
     "data": {
      "text/plain": [
       "(0.9999999999999998-8.239936510889834e-18j)"
      ]
     },
     "execution_count": 8,
     "metadata": {},
     "output_type": "execute_result"
    }
   ],
   "source": [
    "# 3.5 Trace\n",
    "H.trace()"
   ]
  },
  {
   "cell_type": "code",
   "execution_count": 9,
   "metadata": {},
   "outputs": [
    {
     "data": {
      "text/plain": [
       "array([0.2, 0.8])"
      ]
     },
     "execution_count": 9,
     "metadata": {},
     "output_type": "execute_result"
    }
   ],
   "source": [
    "# 3.6 Eigenvalues\n",
    "np.linalg.eigh(H)[0]"
   ]
  },
  {
   "cell_type": "code",
   "execution_count": 10,
   "metadata": {},
   "outputs": [],
   "source": [
    "# 3.7 Tensor product: A \\otimes B\n",
    "A = np.eye(2)\n",
    "B = H\n",
    "T = np.kron(A, B)"
   ]
  },
  {
   "cell_type": "markdown",
   "metadata": {},
   "source": [
    "- Note: in Paddle Quantum, you can use string to create matrix for Pauli matices with $n$ qubit."
   ]
  },
  {
   "cell_type": "code",
   "execution_count": 11,
   "metadata": {},
   "outputs": [],
   "source": [
    "# An example: 0.4*I⊗Z+0.4*Z⊗I+0.2*X⊗X\n",
    "# In the string form: 0.4*kron(I, Z) + 0.4*kron(Z, I) + 0.2*kron(X, X)\n",
    "H_info = [[0.4, 'z0'], [0.4, 'z1'], [0.2, 'x0,x1']]\n",
    "H_matrix = pauli_str_to_matrix(H_info, 3)  # pauli matices with 3 qubits"
   ]
  },
  {
   "cell_type": "markdown",
   "metadata": {},
   "source": [
    "## 4. Quantum States"
   ]
  },
  {
   "cell_type": "code",
   "execution_count": 12,
   "metadata": {},
   "outputs": [],
   "source": [
    "# 4.1 Get pure states (a row vector in np.ndarray form)\n",
    "\n",
    "initial_state_pure1 = vec(0, N)      # Get |00…0>, 2**N dimension row vector\n",
    "initial_state_pure2 = vec_random(N)  # Get random pure state, row vector"
   ]
  },
  {
   "cell_type": "code",
   "execution_count": 13,
   "metadata": {},
   "outputs": [],
   "source": [
    "# 4.2 Get mixed states (in np.ndarray form)\n",
    "\n",
    "initial_state_mixed1 = density_op(N)  # Get |00…0><00…0|\n",
    "# Get a random density matrix, can decide real or complex and its rank (rank = 1 means pure) \n",
    "initial_state_mixed2 = density_op_random(N, real_or_complex=2, rank=4)\n",
    "initial_state_mixed3 = completely_mixed_computational(N)  # Get a maximally mixed state "
   ]
  },
  {
   "cell_type": "markdown",
   "metadata": {},
   "source": [
    "## 5. Quantum Circuit"
   ]
  },
  {
   "cell_type": "code",
   "execution_count": 14,
   "metadata": {},
   "outputs": [],
   "source": [
    "# 5.1 Create an N qubits quantum circuit\n",
    "cir = UAnsatz(N)"
   ]
  },
  {
   "cell_type": "code",
   "execution_count": 15,
   "metadata": {},
   "outputs": [],
   "source": [
    "# 5.2 Add gates to the circuit - see Section 7\n",
    "# An example: add a CNOT gate to the first two qubits:\n",
    "cir.cnot([0, 1])"
   ]
  },
  {
   "cell_type": "code",
   "execution_count": 16,
   "metadata": {},
   "outputs": [],
   "source": [
    "# 5.3 The output state of the circuit\n",
    "# The output state of the circuit as a vector in paddle.Tensor form.\n",
    "# Note: the shape of the output here is not a vector. It can be changed to a column vector \n",
    "    # via function \"paddle.reshape(final_state, [2**N, 1]) —— it will be made better in the next version\n",
    "\n",
    "# Initial state is |00...0>\n",
    "final_state = cir.run_state_vector()\n",
    "# Initial state is not |00...0>\n",
    "initial_state_pure = paddle.to_tensor(initial_state_pure2)\n",
    "final_state_pure = cir.run_state_vector(initial_state_pure)\n",
    "# Change to np.array form\n",
    "final_state_pure_np = cir.run_state_vector().reshape([2**N, 1]).numpy()"
   ]
  },
  {
   "cell_type": "code",
   "execution_count": 17,
   "metadata": {},
   "outputs": [],
   "source": [
    "# Initial state is |00…0><00…0|\n",
    "cir.run_density_matrix()\n",
    "# Initial state is not |00...0><00...0|\n",
    "initial_state_mixed = paddle.to_tensor(initial_state_mixed2)\n",
    "final_state_mixed = cir.run_density_matrix(initial_state_mixed)\n",
    "# Change to np.ndarray form\n",
    "final_state_mixed_np = cir.run_density_matrix().numpy()"
   ]
  },
  {
   "cell_type": "code",
   "execution_count": 18,
   "metadata": {},
   "outputs": [
    {
     "data": {
      "text/plain": [
       "array([[1., 0., 0., 0., 0., 0., 0., 0.],\n",
       "       [0., 1., 0., 0., 0., 0., 0., 0.],\n",
       "       [0., 0., 1., 0., 0., 0., 0., 0.],\n",
       "       [0., 0., 0., 1., 0., 0., 0., 0.],\n",
       "       [0., 0., 0., 0., 0., 0., 1., 0.],\n",
       "       [0., 0., 0., 0., 0., 0., 0., 1.],\n",
       "       [0., 0., 0., 0., 1., 0., 0., 0.],\n",
       "       [0., 0., 0., 0., 0., 1., 0., 0.]])"
      ]
     },
     "execution_count": 18,
     "metadata": {},
     "output_type": "execute_result"
    }
   ],
   "source": [
    "# 5.4 The unitary matrix of the circuit (in paddle.Tensor form)\n",
    "cir.U\n",
    "# Change to np.ndarray form\n",
    "cir.U.numpy()\n",
    "# Only keep the real part:\n",
    "cir.U.real()\n",
    "cir.U.numpy().real"
   ]
  },
  {
   "cell_type": "code",
   "execution_count": 19,
   "metadata": {},
   "outputs": [
    {
     "name": "stdout",
     "output_type": "stream",
     "text": [
      "--*--\n",
      "  |  \n",
      "--x--\n",
      "     \n",
      "-----\n",
      "     \n"
     ]
    }
   ],
   "source": [
    "# 5.5 Print the circuit\n",
    "print(cir)"
   ]
  },
  {
   "cell_type": "code",
   "execution_count": 20,
   "metadata": {},
   "outputs": [
    {
     "data": {
      "image/png": "[encoded data removed]",
      "text/plain": [
       "<Figure size 432x288 with 1 Axes>"
      ]
     },
     "metadata": {
      "needs_background": "light"
     },
     "output_type": "display_data"
    }
   ],
   "source": [
    "# 5.6 Measure outcome\n",
    "res = cir.measure(shots=0, plot=True)"
   ]
  },
  {
   "cell_type": "markdown",
   "metadata": {},
   "source": [
    "## 6. Angles in Quantum Gate\n",
    "&emsp;Note: \n",
    "- For qubits unitary gate, they can always be characterized by a rotation axis and a rotation angle. \n",
    "- The rotation axis in Paddle Quantum is always chosen to be $x,y,z$-axis.\n",
    "- The rotation angle will be the variable in QNN tasks, and **they should be given in paddle.Tensor form**."
   ]
  },
  {
   "cell_type": "code",
   "execution_count": 21,
   "metadata": {},
   "outputs": [],
   "source": [
    "# 6.1 A Single Angle\n",
    "\n",
    "phi, theta, omega = 2 * np.pi * np.random.uniform(size=3)  # Generate a random angle\n",
    "# change to paddle.Tensor\n",
    "phi = paddle.to_tensor(phi, dtype='float64')"
   ]
  },
  {
   "cell_type": "code",
   "execution_count": 22,
   "metadata": {},
   "outputs": [],
   "source": [
    "# 6.2 Angles in Arrays\n",
    "# 1D arrays\n",
    "\n",
    "theta = np.array([np.pi, 2 ,3, 5])  # 4 angles are different\n",
    "theta = np.full([4], np.pi)  # 4 angles all equal to pi\n",
    "# change to be paddle.Tensor\n",
    "theta = paddle.to_tensor(theta)"
   ]
  },
  {
   "cell_type": "code",
   "execution_count": 23,
   "metadata": {},
   "outputs": [],
   "source": [
    "# Multidimensional Arrays\n",
    "\n",
    "theta = np.random.randn(DEPTH, N, 3)  # A 3D np.ndarray"
   ]
  },
  {
   "cell_type": "markdown",
   "metadata": {},
   "source": [
    "For a frequently used quantum circuit: cir.complex_entangled_layer(theta, DEPTH), see \n",
    "[here](https://qml.baidu.com/quick-start/quantum-neural-network.html), the shape of theta should be(DEPTH, N, OTHER=3)"
   ]
  },
  {
   "cell_type": "markdown",
   "metadata": {},
   "source": [
    "## 7. Add Quantum Gates to the Circuit"
   ]
  },
  {
   "cell_type": "code",
   "execution_count": 24,
   "metadata": {},
   "outputs": [],
   "source": [
    "# 7.1 Single qubit gates \n",
    "# Note: angles should be in paddle.Tensor form.\n",
    "# Subscript is the rotating axis, the first parameter is the rotating angle, the second is which qubit it acts\n",
    "\n",
    "cir.rz(theta[0], 0)"
   ]
  },
  {
   "cell_type": "code",
   "execution_count": 25,
   "metadata": {},
   "outputs": [],
   "source": [
    "# # 7.2 Two-qubit gate\n",
    "\n",
    "cir.cnot([0, 1])"
   ]
  },
  {
   "cell_type": "code",
   "execution_count": 26,
   "metadata": {},
   "outputs": [],
   "source": [
    "# 7.3 Some frequently used gates\n",
    "\n",
    "# Add Hadamard gates to each qubit\n",
    "cir.superposition_layer()\n",
    "# Add a Ry(pi/4) rotation to each qubit\n",
    "cir.weak_superposition_layer()"
   ]
  },
  {
   "cell_type": "markdown",
   "metadata": {},
   "source": [
    "General rotation gate in Euler representation, and the corresponding circuit click [here](https://qml.baidu.com/quick-start/quantum-neural-network.html)"
   ]
  },
  {
   "cell_type": "markdown",
   "metadata": {},
   "source": [
    "## 8. VQA basic structure (1) -- Create your own quantum circuit as a function\n",
    "- step 1: Create an N qubit circuit;\n",
    "- step 2: Add gates to each layer"
   ]
  },
  {
   "cell_type": "code",
   "execution_count": 27,
   "metadata": {},
   "outputs": [],
   "source": [
    "def circuit(N, DEPTH, theta):\n",
    "    \"\"\"\n",
    "    Input data:\n",
    "         N,         qubits number\n",
    "         DEPTH,     layers number\n",
    "         theta,     [N, DEPTH, 2], 3D matrix in paddle.Tensor form\n",
    "    Return:\n",
    "         cir,       the final circuit\n",
    "    \"\"\"\n",
    "    # step 1: Create an N qubit circuit\n",
    "    cir = UAnsatz(N)\n",
    "    # step 2: Add gates to each layer\n",
    "    for dep in range(DEPTH):\n",
    "        for n in range(N):\n",
    "            cir.rx(theta[n][dep][0], n)  # add an Rx gate to the n-th qubit\n",
    "            cir.rz(theta[n][dep][1], n)  # add an Rz gate to the n-th qubit\n",
    "        for n in range(N - 1):\n",
    "            cir.cnot([n, n + 1])  # add CNOT gate to every neighbor pair\n",
    "\n",
    "    return cir"
   ]
  },
  {
   "cell_type": "code",
   "execution_count": 28,
   "metadata": {},
   "outputs": [
    {
     "name": "stdout",
     "output_type": "stream",
     "text": [
      "--Rx(0.069)----Rz(0.473)----*----Rx(-0.65)----Rz(-0.77)-----------------*-------\n",
      "                            |                                           |       \n",
      "--Rx(-0.77)----Rz(0.623)----x--------*--------Rx(0.428)----Rz(0.074)----x----*--\n",
      "                                     |                                       |  \n",
      "--Rx(-0.45)----Rz(0.604)-------------x--------Rx(2.385)----Rz(-0.12)---------x--\n",
      "                                                                                \n"
     ]
    }
   ],
   "source": [
    "# Here is the printed final circuit for (N=3, DEPTH=2, theta is randomly generated):\n",
    "theta = paddle.to_tensor(np.random.randn(N, DEPTH, 2))\n",
    "theta = paddle.to_tensor(theta)\n",
    "cir = circuit(N, DEPTH, theta)\n",
    "print(cir)"
   ]
  },
  {
   "cell_type": "markdown",
   "metadata": {},
   "source": [
    "## 9. VQA basic structure (2) -- forward part, calculate the loss function\n",
    "- QNN optimization can be done with a Python Iterator, here is an example for preparing quantum state;\n",
    "- In forward part, all variables should be always in paddle.Tensor form."
   ]
  },
  {
   "cell_type": "code",
   "execution_count": 29,
   "metadata": {},
   "outputs": [],
   "source": [
    "class StatePrepNet(paddle.nn.Layer):\n",
    "    # Step 1: Give the initial input: def __init__(…)\n",
    "    # Here you need to give the parameters for creating your quantum circuit and loss\n",
    "    def __init__(self, N, DEPTH, psi, dtype='float64'):\n",
    "        # N, DEPTH: circuit parameter\n",
    "        # psi: target output pure state, np.row_vector form\n",
    "        super(StatePrepNet, self).__init__()\n",
    "        self.N = N\n",
    "        self.DEPTH = DEPTH\n",
    "        # The initial circuit parameter theta is generated randomly\n",
    "        self.theta = self.create_parameter(shape=[self.N, self.DEPTH, 2],\n",
    "              default_initializer=paddle.nn.initializer.Uniform(low=0., high=2 * np.pi), \n",
    "              dtype=dtype, is_bias=False)\n",
    "        # Target output state, used for loss function\n",
    "        self.psi = paddle.to_tensor(psi)\n",
    "    # Step 2: Calculate the loss function: L = - <psi_out | psi><psi | psi_out>\n",
    "    # note: here we want to minimize the loss function, so we use “-Fidelity”\n",
    "    def forward(self):\n",
    "        # Create the quantum circuit\n",
    "        cir = circuit(self.N, self.DEPTH, self.theta)\n",
    "        # Get the final state\n",
    "        psi_out = cir.run_state_vector()\n",
    "        psi_out = paddle.reshape(psi_out, [2 ** self.N, 1])  # reshape to ket\n",
    "        # Calculate the loss function: L = - <psi_out | psi><psi | psi_out>\n",
    "        inner = matmul(self.psi, psi_out)\n",
    "        loss = - paddle.real(matmul(inner, dagger(inner)))[0]  # change to shape tensor([1])\n",
    "\n",
    "        return loss, cir"
   ]
  },
  {
   "cell_type": "markdown",
   "metadata": {},
   "source": [
    "## 10. VQA basic structure (3) -- backward part, optimize over iteration\n",
    "- Here we still use preparing a 3-qubit pure state $|01\\rangle\\otimes|+\\rangle$ as an example, and the circuit we use is given in section 8.\n",
    "- Usually we use Adam as the optimizer."
   ]
  },
  {
   "cell_type": "code",
   "execution_count": 30,
   "metadata": {},
   "outputs": [],
   "source": [
    "N = 3      # Qubits number in Quantum circuit\n",
    "DEPTH = 2  # Depth of the quantum circuit (Layers number)\n",
    "ITR = 115  # Iteration number \n",
    "LR = 0.2   # Learning rate "
   ]
  },
  {
   "cell_type": "code",
   "execution_count": 31,
   "metadata": {},
   "outputs": [],
   "source": [
    "# target output state, np.ndarray row vector\n",
    "psi_target = np.kron(np.kron(np.array([[1,0]]), np.array([[0,1]])), np.array([[1/np.sqrt(2), 1/np.sqrt(2)]]))  # <01+|"
   ]
  },
  {
   "cell_type": "code",
   "execution_count": 32,
   "metadata": {},
   "outputs": [],
   "source": [
    "# 10.1 Record the iteration\n",
    "loss_list = []\n",
    "parameter_list = []"
   ]
  },
  {
   "cell_type": "code",
   "execution_count": 33,
   "metadata": {},
   "outputs": [],
   "source": [
    "# 10.2 Use Iterator defined in section 9\n",
    "# (N=3, DEPTH=2, ITR=110, LR=0.2)\n",
    "myLayer = StatePrepNet(N, DEPTH, psi_target)"
   ]
  },
  {
   "cell_type": "code",
   "execution_count": 34,
   "metadata": {},
   "outputs": [],
   "source": [
    "# 10.3 Choose the optimizer\n",
    "# Usually we use Adam.\n",
    "opt = paddle.optimizer.Adam(learning_rate = LR, parameters = myLayer.parameters())    "
   ]
  },
  {
   "cell_type": "code",
   "execution_count": 35,
   "metadata": {},
   "outputs": [
    {
     "name": "stdout",
     "output_type": "stream",
     "text": [
      "iter: 0   loss: -0.0176\n",
      "iter: 10   loss: -0.8356\n",
      "iter: 20   loss: -0.9503\n",
      "iter: 30   loss: -0.9837\n",
      "iter: 40   loss: -0.9971\n",
      "iter: 50   loss: -0.9974\n",
      "iter: 60   loss: -0.9995\n",
      "iter: 70   loss: -0.9999\n",
      "iter: 80   loss: -0.9999\n",
      "iter: 90   loss: -1.0000\n",
      "iter: 100   loss: -1.0000\n",
      "iter: 110   loss: -1.0000\n"
     ]
    }
   ],
   "source": [
    "# 10.4 Optimize during iteration\n",
    "for itr in range(ITR):\n",
    "    # Use forward part to calculate the loss function\n",
    "    loss = myLayer()[0]\n",
    "    # Backward optimize via Gradient descent algorithm\n",
    "    loss.backward()\n",
    "    opt.minimize(loss)\n",
    "    opt.clear_grad()\n",
    "    # Record the learning curve\n",
    "    loss_list.append(loss.numpy()[0])\n",
    "    parameter_list.append(myLayer.parameters()[0].numpy())\n",
    "    if itr % 10 == 0:\n",
    "        print('iter:', itr, '  loss: %.4f' % loss.numpy())"
   ]
  },
  {
   "cell_type": "code",
   "execution_count": 36,
   "metadata": {},
   "outputs": [
    {
     "name": "stdout",
     "output_type": "stream",
     "text": [
      "The minimum of the loss function:  -0.9999873168488457\n",
      "Parameters after optimizationL theta:\n",
      " [[[-0.00816927  7.41571003]\n",
      "  [ 6.28197865  0.29031951]]\n",
      "\n",
      " [[ 3.14801248  6.1562368 ]\n",
      "  [ 6.2890315   4.08082862]]\n",
      "\n",
      " [[ 4.57489065  1.58064113]\n",
      "  [ 4.78145659  3.28051687]]]\n",
      "--Rx(-0.00)----Rz(7.416)----*----Rx(6.282)----Rz(0.290)-----------------*-------\n",
      "                            |                                           |       \n",
      "--Rx(3.148)----Rz(6.156)----x--------*--------Rx(6.289)----Rz(4.081)----x----*--\n",
      "                                     |                                       |  \n",
      "--Rx(4.575)----Rz(1.581)-------------x--------Rx(4.781)----Rz(3.281)---------x--\n",
      "                                                                                \n",
      "state_final:\n",
      " [-0.0001236 +1.65203739e-04j -0.00051346-3.22614883e-04j\n",
      "  0.09637039-7.00598643e-01j  0.09558872-7.00513830e-01j\n",
      "  0.00038931+1.78566178e-04j  0.0003892 +1.76713800e-04j\n",
      "  0.00209719+1.98540264e-03j  0.0025603 +1.33735551e-03j]\n"
     ]
    }
   ],
   "source": [
    "# 10.5 Print the output\n",
    "\n",
    "print('The minimum of the loss function: ', loss_list[-1])\n",
    "# The parameters after optimization\n",
    "theta_opt = parameter_list[-1]  # Get self.theta\n",
    "print(\"Parameters after optimizationL theta:\\n\", theta_opt)\n",
    "# Draw the circuit picture and the output state\n",
    "# Get theta\n",
    "theta_final = parameter_list[-1]\n",
    "theta_final = paddle.to_tensor(theta_final)\n",
    "# Print the circuit\n",
    "cir_final = circuit(N, DEPTH, theta_final)\n",
    "print(cir_final)\n",
    "# Print the final state\n",
    "#state_final = cir_final.run_density_matrix()\n",
    "state_final = cir_final.run_state_vector()\n",
    "print(\"state_final:\\n\", state_final.numpy())"
   ]
  },
  {
   "cell_type": "code",
   "execution_count": 37,
   "metadata": {},
   "outputs": [
    {
     "data": {
      "image/png": "[encoded data removed]",
      "text/plain": [
       "<Figure size 432x288 with 1 Axes>"
      ]
     },
     "metadata": {
      "needs_background": "light"
     },
     "output_type": "display_data"
    }
   ],
   "source": [
    "# Print the loss function during iteration\n",
    "plt.figure(1)\n",
    "ITR_list = []\n",
    "for i in range(ITR):\n",
    "    ITR_list.append(i)\n",
    "func = plt.plot(ITR_list, loss_list, alpha=0.7, marker='', linestyle='-', color='r')\n",
    "plt.xlabel('iterations')\n",
    "plt.ylabel('loss')\n",
    "plt.legend(labels=[\"loss function during iteration\"], loc='best')\n",
    "plt.show()"
   ]
  },
  {
   "cell_type": "markdown",
   "metadata": {},
   "source": [
    "**As the \"-Fidelity\" becomes \"-1\", this circuit learns to prepare the target state \"$|01\\rangle\\otimes|+\\rangle$\".**"
   ]
  }
 ],
 "metadata": {
  "interpreter": {
   "hash": "b79f688f118b7eec4a7bc67db8fbcf9e8f165bc4247c9c8f9f9067a5de2aa71e"
  },
  "kernelspec": {
   "display_name": "Python 3",
   "language": "python",
   "name": "python3"
  },
  "language_info": {
   "codemirror_mode": {
    "name": "ipython",
    "version": 3
   },
   "file_extension": ".py",
   "mimetype": "text/x-python",
   "name": "python",
   "nbconvert_exporter": "python",
   "pygments_lexer": "ipython3",
   "version": "3.7.10"
  }
 },
 "nbformat": 4,
 "nbformat_minor": 2
}

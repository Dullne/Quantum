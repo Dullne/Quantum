{
 "cells": [
  {
   "cell_type": "markdown",
   "metadata": {},
   "source": [
    "# 利用 Paddle Quantum 的 qchem 模块进行量子化学计算\n",
    "_Copyright (c) 2021 Institute for Quantum Computing, Baidu Inc. All Rights Reserved._\n"
   ]
  },
  {
   "cell_type": "markdown",
   "metadata": {},
   "source": [
    "qchem 是基于 Paddle Quantum 推出的用于量子化学研究的工具集。qchem 为量子化学领域的研究者提供了一系列工具，使他们可以利用量子计算方法完成量子化学任务。与此同时，qchem 也提供了方便开发者进行功能拓展的方式。目前，qchem 正处于开发之中，您可以将需求和建议通过 Github 的 issue 或 pull request 反馈给我们，我们会及时给出回复。"
   ]
  },
  {
   "cell_type": "markdown",
   "metadata": {},
   "source": [
    "## 分子基态能量计算\n",
    "qchem 提供了 `run_chem` 函数来计算给定分子的基态能量和基态波函数。让我们通过计算氢分子基态能量的例子来了解一下整个计算过程。首先，让我们导入需要用的函数。"
   ]
  },
  {
   "cell_type": "code",
   "execution_count": null,
   "metadata": {},
   "outputs": [],
   "source": [
    "from paddle_quantum import qchem"
   ]
  },
  {
   "cell_type": "markdown",
   "metadata": {},
   "source": [
    "接下来，让我们把与计算相关的信息输入到 `run_chem` 函数中，这些信息包括：分子的几何结构、分子的电荷、计算需要用到的量子化学基函数等。"
   ]
  },
  {
   "cell_type": "code",
   "execution_count": null,
   "metadata": {},
   "outputs": [],
   "source": [
    "# define the geometry of hydrogen molecule, length unit use angstrom.\n",
    "h2_geometry = [(\"H\", [0.0, 0.0, 0.0]), (\"H\", [0.0, 0.0, 0.74])]\n",
    "charge = 0\n",
    "basis_set = \"sto-3g\""
   ]
  },
  {
   "cell_type": "markdown",
   "metadata": {},
   "source": [
    "现在，我们需要选择一种多体波函数的量子线路模版来作为基态能量计算中的变分波函数。目前，qchem 提供了两种模式，分别是 \"hardware efficient\" [<sup>1</sup>](#refer-1) 和 \"hartree fock\" [<sup>2</sup>](#refer-2) ，更多的模式正在开发中，很快也会上线。"
   ]
  },
  {
   "cell_type": "code",
   "execution_count": null,
   "metadata": {},
   "outputs": [],
   "source": [
    "# call run_chem function with \"hardware efficient\" ansatz.\n",
    "h2_gs_en, h2_wf_model = qchem.run_chem(\n",
    "    h2_geometry,\n",
    "    \"hardware efficient\",\n",
    "    basis_set, \n",
    "    charge\n",
    ")\n",
    "\n",
    "# additional information for optimizer can be passed using `optimizer_option` keyword argument.\n",
    "h2_gs_en, h2_wf_model = qchem.run_chem(\n",
    "    h2_geometry,\n",
    "    \"hardware efficient\",\n",
    "    basis_set, \n",
    "    charge,\n",
    "    optimizer_option={\"learning_rate\": 0.6, \"weight_decay\": 0.9}\n",
    ")\n",
    "\n",
    "# additional information for ansatz can be passed using `ansatz_option` keyword argument, e.g.\n",
    "# \"hardware efficient\" ansatz has a parameter \"cir_depth\", which can be used to specify the depth\n",
    "# of quantum circuit.\n",
    "h2_gs_en, h2_wf_model = qchem.run_chem(\n",
    "    h2_geometry,\n",
    "    \"hardware efficient\",\n",
    "    basis_set, \n",
    "    charge,\n",
    "    ansatz_option={\"cir_depth\": 5}\n",
    ")"
   ]
  },
  {
   "cell_type": "markdown",
   "metadata": {},
   "source": [
    "除了上面这些参数，我们也可以通过给定 `max_iters` 和 `a_tol` 来控制训练过程的迭代次数和收敛条件。如果想使用 \"hartree fock\" 量子线路，我们只需要把上面代码中的 \"hardware efficient\" 替换为 \"hartree fock\" 就可以了。我们也可以通过 `print(h2_wf_model.circuit)` 的方法来查看氢分子波函数的量子线路。"
   ]
  },
  {
   "cell_type": "markdown",
   "metadata": {},
   "source": [
    "## 自定义量子线路\n",
    "在 qchem 中，我们也为感兴趣的使用者提供了自定义量子线路的方法。我们只需要继承 qchem 中的 Qmodel 类就可以像在 paddlepaddle 中定义神经网络一样定义波函数对应的量子线路。"
   ]
  },
  {
   "cell_type": "code",
   "execution_count": null,
   "metadata": {},
   "outputs": [],
   "source": [
    "from paddle_quantum.circuit import UAnsatz\n",
    "from paddle_quantum import qchem\n",
    "from paddle_quantum.qchem.layers import CrossResonanceLayer, EulerRotationLayer\n",
    "\n",
    "\n",
    "# Your own model should inherit from `Qmodel`.\n",
    "## NOTE: THIS MODEL IS ONLY DEFINED FOR DEMONSTRATION PURPOSE! \n",
    "class MyAnsatz(qchem.QModel):\n",
    "    def __init__(self, n_qubits):\n",
    "        super().__init__(n_qubits)\n",
    "\n",
    "        self.entangle = CrossResonanceLayer(self._n_qubit)\n",
    "        self.rot = EulerRotationLayer(self._n_qubit)\n",
    "\n",
    "    def forward(self, state):\n",
    "        self._circuit = UAnsatz(self.n_qubit)\n",
    "\n",
    "        out = self.entangle(state)\n",
    "        self._circuit += self.entangle.circuit\n",
    "\n",
    "        out = self.rot(out)\n",
    "        self._circuit += self.rot.circuit\n",
    "\n",
    "        out = self.entangle(out)\n",
    "        self._circuit += self.entangle.circuit\n",
    "\n",
    "        return out\n",
    "\n",
    "# instantiate your model\n",
    "my_cir = MyAnsatz(5)"
   ]
  },
  {
   "cell_type": "markdown",
   "metadata": {},
   "source": [
    "在定义好线路之后，我们就可以利用 paddlepaddle 提供的多种优化器来优化线路中的参数以获得最佳结果。"
   ]
  },
  {
   "cell_type": "code",
   "execution_count": null,
   "metadata": {},
   "outputs": [],
   "source": [
    "# use paddlepaddle's optimizer\n",
    "import numpy as np \n",
    "import paddle\n",
    "\n",
    "optimizer = paddle.optimizer.Adam(parameters=my_cir.parameters(), learning_rate=0.08)\n",
    "\n",
    "# define the loss function\n",
    "## NOTE: THIS LOSS FUNCTION IS ONLY DEFINED FOR DEMONSTRATION PURPOSE!\n",
    "def loss_fn(state: paddle.Tensor) -> paddle.Tensor:\n",
    "    return paddle.norm(state.real())\n",
    "\n",
    "# start learning\n",
    "s0 = np.zeros((2**5,), dtype=np.complex128)\n",
    "s0[0] = 1.0+0.0j\n",
    "s0 = paddle.to_tensor(s0)\n",
    "\n",
    "for i in range(10):\n",
    "    loss = loss_fn(my_cir(s0))\n",
    "    print(f\"At {i:>d}th step: loss={loss.item():>.5f}.\")\n",
    "\n",
    "    optimizer.clear_grad()\n",
    "    loss.backward()\n",
    "    optimizer.step()"
   ]
  },
  {
   "cell_type": "markdown",
   "metadata": {},
   "source": [
    "---\n",
    "## 参考文献\n",
    "\n",
    "[1] Kandala, Abhinav, et al. \"Hardware-efficient variational quantum eigensolver for small molecules and quantum magnets.\" [Nature 549.7671 (2017): 242-246.](https://www.nature.com/articles/nature23879)\n",
    "\n",
    "[2] Arute, Frank, et al. \"Hartree-Fock on a superconducting qubit quantum computer.\" [Science 369.6507 (2020): 1084-1089.](https://www.science.org/doi/10.1126/science.abb9811)"
   ]
  }
 ],
 "metadata": {
  "interpreter": {
   "hash": "385f93486cadd2f2140b6b583192a2daa18c8b591e699592075836b347373dd4"
  },
  "kernelspec": {
   "display_name": "Python 3",
   "language": "python",
   "name": "python3"
  },
  "language_info": {
   "codemirror_mode": {
    "name": "ipython",
    "version": 3
   },
   "file_extension": ".py",
   "mimetype": "text/x-python",
   "name": "python",
   "nbconvert_exporter": "python",
   "pygments_lexer": "ipython3",
   "version": "3.7.10"
  }
 },
 "nbformat": 4,
 "nbformat_minor": 2
}

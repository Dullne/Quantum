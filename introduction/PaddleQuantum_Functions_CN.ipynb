{
 "cells": [
  {
   "cell_type": "markdown",
   "metadata": {},
   "source": [
    "# 量桨中的常用函数\n",
    "\n",
    "<em> Copyright (c) 2021 Institute for Quantum Computing, Baidu Inc. All Rights Reserved. </em>"
   ]
  },
  {
   "cell_type": "markdown",
   "metadata": {},
   "source": [
    "## 概览"
   ]
  },
  {
   "cell_type": "markdown",
   "metadata": {},
   "source": [
    "此处我们列举量桨中常用的函数，对初学者来说已可以处理大多数问题。\n",
    "\n",
    "其他量桨函数以及具体细节可见 [API](https://qml.baidu.com/api/introduction.html).\n",
    "\n",
    "在本节末尾，给出制备量子纯态的量桨实现代码，介绍量桨实现量子神经网络算法的基本框架。"
   ]
  },
  {
   "cell_type": "markdown",
   "metadata": {},
   "source": [
    "## 1. 加入模块"
   ]
  },
  {
   "cell_type": "code",
   "execution_count": 1,
   "metadata": {},
   "outputs": [],
   "source": [
    "# 1.1 Numpy, Paddle\n",
    "import numpy as np\n",
    "import paddle\n",
    "\n",
    "# 1.2 量子电路\n",
    "from paddle_quantum.circuit import UAnsatz \n",
    "\n",
    "# 1.3 量子态 —— np.ndarray 形式\n",
    "from paddle_quantum.state import vec, vec_random  # 向量\n",
    "from paddle_quantum.state import density_op, density_op_random, completely_mixed_computational  # 矩阵\n",
    "\n",
    "# 1.4 矩阵 —— np.ndarray 形式\n",
    "from scipy.stats import unitary_group  # 随机 U 矩阵\n",
    "from paddle_quantum.utils import pauli_str_to_matrix  # n 量子比特泡利矩阵\n",
    "\n",
    "# 1.5 矩阵运算 —— paddle.Tensor 形式\n",
    "from paddle import matmul, trace  # 计算內积与迹\n",
    "from paddle_quantum.utils import dagger  # 对 paddle.Tensor 计算复共轭 (注：对 numpy.ndarray 通过“.conj().T”)\n",
    "\n",
    "# 1.6 画图\n",
    "import matplotlib.pyplot as plt"
   ]
  },
  {
   "cell_type": "markdown",
   "metadata": {},
   "source": [
    "## 2. 常用参数"
   ]
  },
  {
   "cell_type": "code",
   "execution_count": 2,
   "metadata": {},
   "outputs": [],
   "source": [
    "# 2.1 用于构造量子电路\n",
    "\n",
    "N = 3      # 量子电路量子比特数\n",
    "DEPTH = 2  # 量子电路深度 (层数)"
   ]
  },
  {
   "cell_type": "code",
   "execution_count": 3,
   "metadata": {},
   "outputs": [],
   "source": [
    "# 2.2 迭代优化参数\n",
    "\n",
    "ITR = 200  # 迭代次数 \n",
    "LR = 0.2   # 学习速率 \n",
    "SEED = 1   # 随机种子 \n",
    "paddle.seed(SEED)     # paddle种子\n",
    "np.random.seed(SEED)  # numpy种子"
   ]
  },
  {
   "cell_type": "markdown",
   "metadata": {},
   "source": [
    "## 3. Numpy 矩阵相关"
   ]
  },
  {
   "cell_type": "code",
   "execution_count": 4,
   "metadata": {},
   "outputs": [],
   "source": [
    "# 3.1 随机幺正矩阵\n",
    "V = unitary_group.rvs(2)  # 随机 2*2 V"
   ]
  },
  {
   "cell_type": "code",
   "execution_count": 5,
   "metadata": {},
   "outputs": [],
   "source": [
    "# 3.2 对角矩阵\n",
    "D = np.diag([0.2, 0.8])"
   ]
  },
  {
   "cell_type": "code",
   "execution_count": 6,
   "metadata": {},
   "outputs": [],
   "source": [
    "# 3.3 复共轭\n",
    "V_dagger = V.conj().T"
   ]
  },
  {
   "cell_type": "code",
   "execution_count": 7,
   "metadata": {},
   "outputs": [],
   "source": [
    "# 3.4 矩阵乘法：@\n",
    "H = (V @ D @ V_dagger)"
   ]
  },
  {
   "cell_type": "code",
   "execution_count": 8,
   "metadata": {},
   "outputs": [
    {
     "data": {
      "text/plain": [
       "(0.9999999999999998-8.239936510889834e-18j)"
      ]
     },
     "execution_count": 8,
     "metadata": {},
     "output_type": "execute_result"
    }
   ],
   "source": [
    "# 3.5 迹\n",
    "H.trace()"
   ]
  },
  {
   "cell_type": "code",
   "execution_count": 9,
   "metadata": {},
   "outputs": [
    {
     "data": {
      "text/plain": [
       "array([0.2, 0.8])"
      ]
     },
     "execution_count": 9,
     "metadata": {},
     "output_type": "execute_result"
    }
   ],
   "source": [
    "# 3.6 特征值\n",
    "np.linalg.eigh(H)[0]"
   ]
  },
  {
   "cell_type": "code",
   "execution_count": 10,
   "metadata": {},
   "outputs": [],
   "source": [
    "# 3.7 张量积： A \\otimes B\n",
    "A = np.eye(2)\n",
    "B = H\n",
    "T = np.kron(A, B)"
   ]
  },
  {
   "cell_type": "markdown",
   "metadata": {},
   "source": [
    "- 注：在量桨中，可以通过字符串形式构建 $n$ 量子比特泡利矩阵。"
   ]
  },
  {
   "cell_type": "code",
   "execution_count": 11,
   "metadata": {},
   "outputs": [],
   "source": [
    "# 例: 0.4*I⊗Z+0.4*Z⊗I+0.2*X⊗X\n",
    "# 文字形式: 0.4*kron(I, Z) + 0.4*kron(Z, I) + 0.2*kron(X, X)\n",
    "H_info = [[0.4, 'z0'], [0.4, 'z1'], [0.2, 'x0,x1']]\n",
    "H_matrix = pauli_str_to_matrix(H_info, 3)  # 3 量子比特泡利矩阵"
   ]
  },
  {
   "cell_type": "markdown",
   "metadata": {},
   "source": [
    "## 4. 量子态相关"
   ]
  },
  {
   "cell_type": "code",
   "execution_count": 12,
   "metadata": {},
   "outputs": [],
   "source": [
    "# 4.1 得到纯态 (np.ndarray 形式的行向量)\n",
    "\n",
    "initial_state_pure1 = vec(0, N)      # 得到 |00…0>, 2**N 维行向量\n",
    "initial_state_pure2 = vec_random(N)  # 得到随机纯态，行向量"
   ]
  },
  {
   "cell_type": "code",
   "execution_count": 13,
   "metadata": {},
   "outputs": [],
   "source": [
    "# 4.2 得到混态(np.ndarray 形式）\n",
    "\n",
    "initial_state_mixed1 = density_op(N)  # 得到 |00…0><00…0|\n",
    "initial_state_mixed2 = density_op_random(N, real_or_complex=2, rank=4)  # 得到随机密度矩阵，可选择为实数或复数，可选择秩\n",
    "initial_state_mixed3 = completely_mixed_computational(N)  # 得到最大混态 "
   ]
  },
  {
   "cell_type": "markdown",
   "metadata": {},
   "source": [
    "## 5. 量子电路相关"
   ]
  },
  {
   "cell_type": "code",
   "execution_count": 14,
   "metadata": {},
   "outputs": [],
   "source": [
    "# 5.1 创建 N 量子比特电路\n",
    "cir = UAnsatz(N)"
   ]
  },
  {
   "cell_type": "code",
   "execution_count": 15,
   "metadata": {},
   "outputs": [],
   "source": [
    "# 5.2 添加量子门 —— 具体见第7节\n",
    "# 例：添加CNOT门到前两个量子比特\n",
    "cir.cnot([0, 1])"
   ]
  },
  {
   "cell_type": "code",
   "execution_count": 16,
   "metadata": {},
   "outputs": [],
   "source": [
    "# 5.3 输出量子态\n",
    "# 输出向量形式量子态（paddle.Tensor）。\n",
    "# 注：此处输出态shape并不是向量，可通过paddle.reshape(final_state, [2**N, 1])转化为列向量 —— 在后续版本中将进一步优化。\n",
    "\n",
    "# 初始态为 |00...0>\n",
    "final_state = cir.run_state_vector()\n",
    "# 初始态非 |00...0>\n",
    "initial_state_pure = paddle.to_tensor(initial_state_pure2)\n",
    "final_state_pure = cir.run_state_vector(initial_state_pure)\n",
    "# 化为 numpy 列向量形式\n",
    "final_state_pure_np = cir.run_state_vector().reshape([2**N, 1]).numpy()"
   ]
  },
  {
   "cell_type": "code",
   "execution_count": 17,
   "metadata": {},
   "outputs": [],
   "source": [
    "# 初始态为 |00…0><00…0|\n",
    "cir.run_density_matrix()\n",
    "# 初始态非 |00...0><00…0|\n",
    "initial_state_mixed = paddle.to_tensor(initial_state_mixed2)\n",
    "final_state_mixed = cir.run_density_matrix(initial_state_mixed)\n",
    "# 改变为 numpy 矩阵形式\n",
    "final_state_mixed_np = cir.run_density_matrix().numpy()"
   ]
  },
  {
   "cell_type": "code",
   "execution_count": 18,
   "metadata": {},
   "outputs": [
    {
     "data": {
      "text/plain": [
       "array([[1., 0., 0., 0., 0., 0., 0., 0.],\n",
       "       [0., 1., 0., 0., 0., 0., 0., 0.],\n",
       "       [0., 0., 1., 0., 0., 0., 0., 0.],\n",
       "       [0., 0., 0., 1., 0., 0., 0., 0.],\n",
       "       [0., 0., 0., 0., 0., 0., 1., 0.],\n",
       "       [0., 0., 0., 0., 0., 0., 0., 1.],\n",
       "       [0., 0., 0., 0., 1., 0., 0., 0.],\n",
       "       [0., 0., 0., 0., 0., 1., 0., 0.]])"
      ]
     },
     "execution_count": 18,
     "metadata": {},
     "output_type": "execute_result"
    }
   ],
   "source": [
    "# 5.4 量子电路对应幺正矩阵 (paddle.Tensor)\n",
    "cir.U\n",
    "# 改变为 numpy 矩阵形式\n",
    "cir.U.numpy()\n",
    "# 仅保留实数部分\n",
    "cir.U.real()\n",
    "cir.U.numpy().real"
   ]
  },
  {
   "cell_type": "code",
   "execution_count": 19,
   "metadata": {},
   "outputs": [
    {
     "name": "stdout",
     "output_type": "stream",
     "text": [
      "--*--\n",
      "  |  \n",
      "--x--\n",
      "     \n",
      "-----\n",
      "     \n"
     ]
    }
   ],
   "source": [
    "# 5.5 打印量子电路\n",
    "print(cir)"
   ]
  },
  {
   "cell_type": "code",
   "execution_count": 20,
   "metadata": {},
   "outputs": [
    {
     "data": {
      "image/png": "[encoded data removed]",
      "text/plain": [
       "<Figure size 432x288 with 1 Axes>"
      ]
     },
     "metadata": {
      "needs_background": "light"
     },
     "output_type": "display_data"
    }
   ],
   "source": [
    "# 5.6 测量结果\n",
    "res = cir.measure(shots=0, plot=True)"
   ]
  },
  {
   "cell_type": "markdown",
   "metadata": {},
   "source": [
    "## 6. 量子门旋转角参数\n",
    "&emsp;注： \n",
    "- 单量子比特门总可以由绕轴旋转表示，由旋转轴与旋转角度决定。\n",
    "- 量桨中旋转轴通常设置为 $x,y,z$-轴。\n",
    "- 旋转角度是量子神经网络的可变参数，**需要设置为 paddle.Tensor 形式**."
   ]
  },
  {
   "cell_type": "code",
   "execution_count": 21,
   "metadata": {},
   "outputs": [],
   "source": [
    "# 6.1 单个旋转角度\n",
    "\n",
    "phi, theta, omega = 2 * np.pi * np.random.uniform(size=3)  # 随机旋转角度，服从均匀分布\n",
    "# 变为 paddle.Tensor 形式\n",
    "phi = paddle.to_tensor(phi, dtype='float64')"
   ]
  },
  {
   "cell_type": "code",
   "execution_count": 22,
   "metadata": {},
   "outputs": [],
   "source": [
    "# 6.2 数组形式旋转角度\n",
    "# 一维数组\n",
    "\n",
    "theta = np.array([np.pi, 2 ,3, 5])  # 4个角度均不相同\n",
    "theta = np.full([4], np.pi)  # 4个角度均等于pi\n",
    "# 变为 paddle.Tensor 形式\n",
    "phi = paddle.to_tensor(theta)"
   ]
  },
  {
   "cell_type": "code",
   "execution_count": 23,
   "metadata": {},
   "outputs": [],
   "source": [
    "# 高维数组\n",
    "\n",
    "theta = np.random.randn(DEPTH, N, 3)  # 一个三维 np.ndarray"
   ]
  },
  {
   "cell_type": "markdown",
   "metadata": {},
   "source": [
    "对于一种常用的量子神经网络: ‘cir.complex_entangled_layer(theta, DEPTH)’，具体见[这里](https://qml.baidu.com/quick-start/quantum-neural-network.html), theta 需要为(DEPTH, N, OTHER=3)形式。"
   ]
  },
  {
   "cell_type": "markdown",
   "metadata": {},
   "source": [
    "## 7. 添加量子门操作"
   ]
  },
  {
   "cell_type": "code",
   "execution_count": 24,
   "metadata": {},
   "outputs": [],
   "source": [
    "# 7.1 添加单比特量子门 \n",
    "# 注意旋转角度需要 paddle.Tensor 形式。\n",
    "# 下标对于旋转轴，第一个参数为旋转角度，第二个参数为作用于第几个量子比特\n",
    "\n",
    "cir.rz(theta[0], 0)"
   ]
  },
  {
   "cell_type": "code",
   "execution_count": 25,
   "metadata": {},
   "outputs": [],
   "source": [
    "# 7.2 添加双量子比特门\n",
    "\n",
    "cir.cnot([0, 1])"
   ]
  },
  {
   "cell_type": "code",
   "execution_count": 26,
   "metadata": {},
   "outputs": [],
   "source": [
    "# 7.3 一些常用的量子门\n",
    "\n",
    "# 对每一个量子比特添加 Hadamard 门\n",
    "cir.superposition_layer()\n",
    "# 对每一个量子比特添加 Ry(pi/4) 门\n",
    "cir.weak_superposition_layer()"
   ]
  },
  {
   "cell_type": "markdown",
   "metadata": {},
   "source": [
    "广义旋转门，基于欧拉角表示，以及对于量子电路具体见[这里](https://qml.baidu.com/quick-start/quantum-neural-network.html)"
   ]
  },
  {
   "cell_type": "markdown",
   "metadata": {},
   "source": [
    "## 8. 变分量子算法基本框架（1）—— 构建量子电路（函数形式）\n",
    "- 步骤1：构建 N 量子比特线路\n",
    "- 步骤2：对每一层添加量子门"
   ]
  },
  {
   "cell_type": "code",
   "execution_count": 27,
   "metadata": {},
   "outputs": [],
   "source": [
    "def circuit(N, DEPTH, theta):\n",
    "    \"\"\"\n",
    "    输入数据:\n",
    "         N,         量子比特数\n",
    "         DEPTH,     电路层数\n",
    "         theta,     [N, DEPTH, 2], 3维数组，数据类型：paddle.Tensor\n",
    "    返回数据:\n",
    "         cir,       最终量子电路\n",
    "    \"\"\"\n",
    "    # 步骤1：构建N量子比特线路\n",
    "    cir = UAnsatz(N)\n",
    "    # 步骤1：对每一层添加量子门\n",
    "    for dep in range(DEPTH):\n",
    "        for n in range(N):\n",
    "            cir.rx(theta[n][dep][0], n)  # 对第 n 个量子比特添加 Rx 门\n",
    "            cir.rz(theta[n][dep][1], n)  # 对第 n 个量子比特添加 Rz 门\n",
    "        for n in range(N - 1):\n",
    "            cir.cnot([n, n + 1])  # 对每一对临近量子比特添加CNOT门\n",
    "\n",
    "    return cir"
   ]
  },
  {
   "cell_type": "code",
   "execution_count": 28,
   "metadata": {},
   "outputs": [
    {
     "name": "stdout",
     "output_type": "stream",
     "text": [
      "--Rx(0.069)----Rz(0.473)----*----Rx(-0.65)----Rz(-0.77)-----------------*-------\n",
      "                            |                                           |       \n",
      "--Rx(-0.77)----Rz(0.623)----x--------*--------Rx(0.428)----Rz(0.074)----x----*--\n",
      "                                     |                                       |  \n",
      "--Rx(-0.45)----Rz(0.604)-------------x--------Rx(2.385)----Rz(-0.12)---------x--\n",
      "                                                                                \n"
     ]
    }
   ],
   "source": [
    "# 以下为一个例子，包含3量子比特，两层，可调参数随机产生：\n",
    "theta = paddle.to_tensor(np.random.randn(N, DEPTH, 2))\n",
    "cir = circuit(N, DEPTH, theta)\n",
    "print(cir)"
   ]
  },
  {
   "cell_type": "markdown",
   "metadata": {},
   "source": [
    "## 9. 变分量子算法基本框架（2）—— 设置并计算损失函数\n",
    "- 此处我们使用 “-fidelity” 作为损失函数。当输出态为我们想要的量子态时，损失函数达到最小。\n",
    "- 注：量子神经网络优化在 Python 中总可以通过迭代器实现，要注意 theta 需要是 paddle.Tensor 形式"
   ]
  },
  {
   "cell_type": "code",
   "execution_count": 29,
   "metadata": {},
   "outputs": [],
   "source": [
    "class StatePrepNet(paddle.nn.Layer):\n",
    "    # 步骤1：给出量子神经网络初始值: def __init__(…)\n",
    "    def __init__(self, N, DEPTH, psi, dtype='float64'):\n",
    "        # N, DEPTH: 电路参数\n",
    "        # psi: 目标量子态，数据类型：numpy行向量\n",
    "        super(StatePrepNet, self).__init__()\n",
    "        self.N = N\n",
    "        self.DEPTH = DEPTH\n",
    "        # 量子电路可调参数初始化随机产生\n",
    "        self.theta = self.create_parameter(shape=[self.N, self.DEPTH, 2],\n",
    "              default_initializer=paddle.nn.initializer.Uniform(low=0., high=2 * np.pi), \n",
    "              dtype=dtype, is_bias=False)\n",
    "        # 目标量子态，用于计算损失函数(需要 paddle.Tensor 类型)\n",
    "        self.psi = paddle.to_tensor(psi)\n",
    "    # 步骤2：计算损失函数L = - <psi_out | psi><psi | psi_out>\n",
    "    # 注：由于需要最小化损失函数，取“-fidelity”\n",
    "    def forward(self):\n",
    "        # 构建量子电路，参数随迭代改变\n",
    "        cir = circuit(self.N, self.DEPTH, self.theta)\n",
    "        # 得到此量子电路输出量子态\n",
    "        psi_out = cir.run_state_vector()\n",
    "        psi_out = paddle.reshape(psi_out, [2 ** self.N, 1])  # reshape to ket\n",
    "        # 计算损失函数: L = - <psi_out | psi><psi | psi_out>\n",
    "        inner = matmul(self.psi, psi_out)\n",
    "        loss = - paddle.real(matmul(inner, dagger(inner)))[0]  # 改变shape为tensor([1])\n",
    "        \n",
    "        return loss, cir"
   ]
  },
  {
   "cell_type": "markdown",
   "metadata": {},
   "source": [
    "## 10. 变分量子算法基本框架（3）—— 通过优化器优化参数\n",
    "- 此处我们对制备3量子比特 $|01\\rangle\\otimes|+\\rangle$ 为例，使用的量子电路有上述 “8. 量子神经网络算法基本框架” 部分给出。\n",
    "- 通常我们选 Adam 为优化器。\n",
    "- 首先我们给出一些训练用的参数。"
   ]
  },
  {
   "cell_type": "code",
   "execution_count": 30,
   "metadata": {},
   "outputs": [],
   "source": [
    "N = 3      # 目标量子比特数\n",
    "DEPTH = 2  # 量子电路层数\n",
    "ITR = 115  # 学习迭代次数\n",
    "LR = 0.2   # 学习速率"
   ]
  },
  {
   "cell_type": "code",
   "execution_count": 31,
   "metadata": {},
   "outputs": [],
   "source": [
    "# 目标量子态，取 numpy 行向量形式\n",
    "psi_target = np.kron(np.kron(np.array([[1,0]]), np.array([[0,1]])), np.array([[1/np.sqrt(2), 1/np.sqrt(2)]]))  # <01+|"
   ]
  },
  {
   "cell_type": "code",
   "execution_count": 32,
   "metadata": {},
   "outputs": [],
   "source": [
    "# 10.1 记录迭代中间过程\n",
    "loss_list = []\n",
    "parameter_list = []"
   ]
  },
  {
   "cell_type": "code",
   "execution_count": 33,
   "metadata": {},
   "outputs": [],
   "source": [
    "# 10.2 构造迭代器\n",
    "# (N=3, DEPTH=2, ITR=110, LR=0.2)\n",
    "myLayer = StatePrepNet(N, DEPTH, psi_target)"
   ]
  },
  {
   "cell_type": "code",
   "execution_count": 34,
   "metadata": {},
   "outputs": [],
   "source": [
    "# 10.3 选择优化器\n",
    "# 通常使用 Adam。\n",
    "opt = paddle.optimizer.Adam(learning_rate = LR, parameters = myLayer.parameters())    "
   ]
  },
  {
   "cell_type": "code",
   "execution_count": 35,
   "metadata": {},
   "outputs": [
    {
     "name": "stdout",
     "output_type": "stream",
     "text": [
      "iter: 0   loss: -0.0176\n",
      "iter: 10   loss: -0.8356\n",
      "iter: 20   loss: -0.9503\n",
      "iter: 30   loss: -0.9837\n",
      "iter: 40   loss: -0.9971\n",
      "iter: 50   loss: -0.9974\n",
      "iter: 60   loss: -0.9995\n",
      "iter: 70   loss: -0.9999\n",
      "iter: 80   loss: -0.9999\n",
      "iter: 90   loss: -1.0000\n",
      "iter: 100   loss: -1.0000\n",
      "iter: 110   loss: -1.0000\n"
     ]
    }
   ],
   "source": [
    "# 10.4 迭代优化\n",
    "for itr in range(ITR):\n",
    "    # 计算损失函数\n",
    "    loss = myLayer()[0]\n",
    "    # 通过梯度下降算法优化\n",
    "    loss.backward()\n",
    "    opt.minimize(loss)\n",
    "    opt.clear_grad()\n",
    "    # 记录学习曲线\n",
    "    loss_list.append(loss.numpy()[0])\n",
    "    parameter_list.append(myLayer.parameters()[0].numpy())\n",
    "    if itr % 10 == 0:\n",
    "        print('iter:', itr, '  loss: %.4f' % loss.numpy())"
   ]
  },
  {
   "cell_type": "code",
   "execution_count": 36,
   "metadata": {},
   "outputs": [
    {
     "name": "stdout",
     "output_type": "stream",
     "text": [
      "The minimum of the loss function:  -0.9999873168488457\n",
      "Parameters after optimizationL theta:\n",
      " [[[-0.00816927  7.41571003]\n",
      "  [ 6.28197865  0.29031951]]\n",
      "\n",
      " [[ 3.14801248  6.1562368 ]\n",
      "  [ 6.2890315   4.08082862]]\n",
      "\n",
      " [[ 4.57489065  1.58064113]\n",
      "  [ 4.78145659  3.28051687]]]\n",
      "--Rx(-0.00)----Rz(7.416)----*----Rx(6.282)----Rz(0.290)-----------------*-------\n",
      "                            |                                           |       \n",
      "--Rx(3.148)----Rz(6.156)----x--------*--------Rx(6.289)----Rz(4.081)----x----*--\n",
      "                                     |                                       |  \n",
      "--Rx(4.575)----Rz(1.581)-------------x--------Rx(4.781)----Rz(3.281)---------x--\n",
      "                                                                                \n",
      "state_final:\n",
      " [-0.0001236 +1.65203739e-04j -0.00051346-3.22614883e-04j\n",
      "  0.09637039-7.00598643e-01j  0.09558872-7.00513830e-01j\n",
      "  0.00038931+1.78566178e-04j  0.0003892 +1.76713800e-04j\n",
      "  0.00209719+1.98540264e-03j  0.0025603 +1.33735551e-03j]\n"
     ]
    }
   ],
   "source": [
    "# 10.5 输出结果\n",
    "\n",
    "# 输出最终损失函数值\n",
    "print('The minimum of the loss function: ', loss_list[-1])\n",
    "# 输出最终量子电路参数\n",
    "theta_final = parameter_list[-1]  # 得到self.theta\n",
    "print(\"Parameters after optimizationL theta:\\n\", theta_final)\n",
    "# 绘制最终电路与输出量子态\n",
    "# 输入量子电路参数需要转化为 paddle.Tensor 类型\n",
    "theta_final = paddle.to_tensor(theta_final)\n",
    "# 绘制电路\n",
    "cir_final = circuit(N, DEPTH, theta_final)\n",
    "print(cir_final)\n",
    "# 最终得到量子态\n",
    "#state_final = cir_final.run_density_matrix()\n",
    "state_final = cir_final.run_state_vector()\n",
    "print(\"state_final:\\n\", state_final.numpy())"
   ]
  },
  {
   "cell_type": "code",
   "execution_count": 37,
   "metadata": {},
   "outputs": [
    {
     "data": {
      "image/png": "[encoded data removed]",
      "text/plain": [
       "<Figure size 432x288 with 1 Axes>"
      ]
     },
     "metadata": {
      "needs_background": "light"
     },
     "output_type": "display_data"
    }
   ],
   "source": [
    "# 绘制迭代过程中损失函数变化曲线\n",
    "plt.figure(1)\n",
    "ITR_list = []\n",
    "for i in range(ITR):\n",
    "    ITR_list.append(i)\n",
    "func = plt.plot(ITR_list, loss_list, alpha=0.7, marker='', linestyle='-', color='r')\n",
    "plt.xlabel('iterations')\n",
    "plt.ylabel('loss')\n",
    "plt.legend(labels=[\"loss function during iteration\"], loc='best')\n",
    "plt.show()"
   ]
  },
  {
   "cell_type": "markdown",
   "metadata": {},
   "source": [
    "**可见，最终 “-fidelity” 变为 “-1”, 此时量子电路已学会如何制备目标量子态 “$|01\\rangle\\otimes|+\\rangle$”。**"
   ]
  }
 ],
 "metadata": {
  "interpreter": {
   "hash": "b79f688f118b7eec4a7bc67db8fbcf9e8f165bc4247c9c8f9f9067a5de2aa71e"
  },
  "kernelspec": {
   "display_name": "Python 3",
   "language": "python",
   "name": "python3"
  },
  "language_info": {
   "codemirror_mode": {
    "name": "ipython",
    "version": 3
   },
   "file_extension": ".py",
   "mimetype": "text/x-python",
   "name": "python",
   "nbconvert_exporter": "python",
   "pygments_lexer": "ipython3",
   "version": "3.7.10"
  }
 },
 "nbformat": 4,
 "nbformat_minor": 2
}

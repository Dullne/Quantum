{
 "cells": [
  {
   "cell_type": "markdown",
   "metadata": {},
   "source": [
    "# Quantum Chemistry with Paddle Quantum's qchem\n",
    "*Copyright (c) 2021 Institute for Quantum Computing, Baidu Inc. All Rights Reserved.*\n",
    "\n",
    "qchem, which builds on top of Paddle Quantum, is designed to be a toolkit for quantum chemistry research in quantum computing era. It provides high level APIs for researchers who are interested in leveraging their current quantum chemsitry calculation with quantum computing power. And it also allows experts to write customized code. qchem is currently under active development, feel free to join us by opening issues or pull requests."
   ]
  },
  {
   "cell_type": "markdown",
   "metadata": {},
   "source": [
    "## Calculating ground state energy of a molecule\n",
    "qchem provides various tools for you to do quantum chemistry calculation. Currently, qchem module supports the following molecular wave function ansatz:\n",
    "* Hardware Efficient ansatz[<sup>1</sup>](#refer-1),\n",
    "* Slater determinant ansatz[<sup>2</sup>](#refer-2),\n",
    "* Unitary Coupled Cluster singles and doubles (UCCSD) ansatz[<sup>3</sup>](#refer-3).\n",
    "\n",
    "Let's start from example and try to calculate the ground state energy of hydrogen molecule. First, we need to import qchem."
   ]
  },
  {
   "cell_type": "code",
   "execution_count": 2,
   "metadata": {},
   "outputs": [],
   "source": [
    "import paddle_quantum as pq\n",
    "from paddle_quantum import qchem as pq_qchem\n",
    "import warnings\n",
    "warnings.filterwarnings(\"ignore\")"
   ]
  },
  {
   "cell_type": "markdown",
   "metadata": {},
   "source": [
    "Then, we need to provide chemical information required by running quantum chemistry calculation, including geometry, charge, basis function etc."
   ]
  },
  {
   "cell_type": "code",
   "execution_count": 3,
   "metadata": {},
   "outputs": [],
   "source": [
    "# define the geometry of hydrogen molecule, length unit use angstrom.\n",
    "h2_geometry = \"H 0.0 0.0 0.0; H 0.0 0.0 0.74\"\n",
    "basis_set = \"sto-3g\"\n",
    "multiplicity = 1\n",
    "charge = 0"
   ]
  },
  {
   "cell_type": "markdown",
   "metadata": {},
   "source": [
    "Next, we need to choose an wavefunction ansatz for our hydrogen molecule. Let's choose `UCCSDModel` as the ansatz and use `MolEnergyLoss` as the loss function. `UCCSDModel` use Trotter-Suzuki method to build its wavefunction ansatz, see [here](https://qml.baidu.com/tutorials/quantum-simulation/hamiltonian-simulation-with-product-formula.html) if you want to know more about Trotter-Suzuki method."
   ]
  },
  {
   "cell_type": "code",
   "execution_count": null,
   "metadata": {},
   "outputs": [],
   "source": [
    "# Build UCCSD ansatz.\n",
    "n_qubits = 4\n",
    "n_electrons = 2\n",
    "uccsd_ansatz = pq_qchem.UCCSDModel(n_qubits, n_electrons, n_trotter_steps=3)\n",
    "\n",
    "# Setup the loss function\n",
    "loss_fn = pq_qchem.MolEnergyLoss(h2_geometry, basis_set)"
   ]
  },
  {
   "cell_type": "markdown",
   "metadata": {},
   "source": [
    "Finally, you can follow the optimization procedure [here](https://qml.baidu.com/tutorials/quantum-simulation/variational-quantum-eigensolver.html) and use any paddlepaddle optimizer to train the ansatz you have built."
   ]
  },
  {
   "cell_type": "code",
   "execution_count": 5,
   "metadata": {},
   "outputs": [
    {
     "name": "stdout",
     "output_type": "stream",
     "text": [
      "The iter is   0, loss is 0.71510.\n",
      "The iter is   1, loss is 0.68522.\n",
      "The iter is   2, loss is -0.33124.\n",
      "The iter is   3, loss is -0.17871.\n",
      "The iter is   4, loss is -0.46901.\n",
      "The iter is   5, loss is -0.35388.\n",
      "The iter is   6, loss is -0.49272.\n",
      "The iter is   7, loss is -0.65490.\n",
      "The iter is   8, loss is -0.74100.\n",
      "The iter is   9, loss is -0.75261.\n",
      "The iter is  10, loss is -0.91565.\n",
      "The iter is  11, loss is -1.00675.\n",
      "The iter is  12, loss is -0.86924.\n",
      "The iter is  13, loss is -0.91493.\n",
      "The iter is  14, loss is -1.00358.\n",
      "The iter is  15, loss is -0.97359.\n",
      "The iter is  16, loss is -0.99694.\n",
      "The iter is  17, loss is -1.05768.\n",
      "The iter is  18, loss is -1.07174.\n",
      "The iter is  19, loss is -1.05568.\n",
      "The iter is  20, loss is -1.05740.\n",
      "The iter is  21, loss is -1.06293.\n",
      "The iter is  22, loss is -1.06410.\n",
      "The iter is  23, loss is -1.08027.\n",
      "The iter is  24, loss is -1.07894.\n",
      "The iter is  25, loss is -1.09911.\n",
      "The iter is  26, loss is -1.09829.\n",
      "The iter is  27, loss is -1.09884.\n",
      "The iter is  28, loss is -1.10620.\n",
      "The iter is  29, loss is -1.11663.\n",
      "The iter is  30, loss is -1.10698.\n",
      "The iter is  31, loss is -1.10733.\n",
      "The iter is  32, loss is -1.11066.\n",
      "The iter is  33, loss is -1.11710.\n",
      "The iter is  34, loss is -1.11634.\n",
      "The iter is  35, loss is -1.12369.\n",
      "The iter is  36, loss is -1.12732.\n",
      "The iter is  37, loss is -1.11927.\n",
      "The iter is  38, loss is -1.12664.\n",
      "The iter is  39, loss is -1.12917.\n",
      "The iter is  40, loss is -1.12288.\n",
      "The iter is  41, loss is -1.12396.\n",
      "The iter is  42, loss is -1.13229.\n",
      "The iter is  43, loss is -1.13172.\n",
      "The iter is  44, loss is -1.12766.\n",
      "The iter is  45, loss is -1.13348.\n",
      "The iter is  46, loss is -1.13214.\n",
      "The iter is  47, loss is -1.13093.\n",
      "The iter is  48, loss is -1.13300.\n",
      "The iter is  49, loss is -1.13404.\n",
      "The iter is  50, loss is -1.13151.\n",
      "The iter is  51, loss is -1.13338.\n",
      "The iter is  52, loss is -1.13581.\n",
      "The iter is  53, loss is -1.13447.\n",
      "The iter is  54, loss is -1.13422.\n",
      "The iter is  55, loss is -1.13551.\n",
      "The iter is  56, loss is -1.13554.\n",
      "The iter is  57, loss is -1.13492.\n",
      "The iter is  58, loss is -1.13543.\n",
      "The iter is  59, loss is -1.13569.\n",
      "The iter is  60, loss is -1.13606.\n",
      "The iter is  61, loss is -1.13590.\n",
      "The iter is  62, loss is -1.13651.\n",
      "The iter is  63, loss is -1.13620.\n",
      "The iter is  64, loss is -1.13619.\n",
      "The iter is  65, loss is -1.13652.\n",
      "The iter is  66, loss is -1.13650.\n",
      "The iter is  67, loss is -1.13633.\n",
      "The iter is  68, loss is -1.13683.\n",
      "The iter is  69, loss is -1.13688.\n",
      "The iter is  70, loss is -1.13674.\n",
      "The iter is  71, loss is -1.13682.\n",
      "The iter is  72, loss is -1.13688.\n",
      "The iter is  73, loss is -1.13673.\n",
      "The iter is  74, loss is -1.13705.\n",
      "The iter is  75, loss is -1.13694.\n",
      "The iter is  76, loss is -1.13698.\n",
      "The iter is  77, loss is -1.13711.\n",
      "The iter is  78, loss is -1.13707.\n",
      "The iter is  79, loss is -1.13706.\n",
      "The iter is  80, loss is -1.13707.\n",
      "The iter is  81, loss is -1.13709.\n",
      "The iter is  82, loss is -1.13717.\n",
      "The iter is  83, loss is -1.13711.\n",
      "The iter is  84, loss is -1.13714.\n",
      "The iter is  85, loss is -1.13723.\n",
      "The iter is  86, loss is -1.13714.\n",
      "The iter is  87, loss is -1.13719.\n",
      "The iter is  88, loss is -1.13721.\n",
      "The iter is  89, loss is -1.13718.\n",
      "The iter is  90, loss is -1.13723.\n",
      "The iter is  91, loss is -1.13721.\n",
      "The iter is  92, loss is -1.13722.\n",
      "The iter is  93, loss is -1.13725.\n",
      "The iter is  94, loss is -1.13723.\n",
      "The iter is  95, loss is -1.13722.\n",
      "The iter is  96, loss is -1.13724.\n",
      "The iter is  97, loss is -1.13725.\n",
      "The iter is  98, loss is -1.13725.\n",
      "The iter is  99, loss is -1.13726.\n",
      "The theoretical value is -1.137283834485513.\n"
     ]
    }
   ],
   "source": [
    "# use paddlepaddle's optimizer\n",
    "import paddle\n",
    "\n",
    "optimizer = paddle.optimizer.Adam(parameters=uccsd_ansatz.parameters(), learning_rate=0.1)\n",
    "\n",
    "# prepare the initial quantum state, e.g. |0000>\n",
    "init_state = pq.state.computational_basis(n_qubits, 0)\n",
    "\n",
    "# define the optimization steps\n",
    "num_itr = 100\n",
    "for itr in range(0, num_itr):\n",
    "    # run quantum circuit to arrive at the final state\n",
    "    state = uccsd_ansatz(init_state)\n",
    "    # calculate loss\n",
    "    loss = loss_fn(state)\n",
    "    # backpropagate the gradient\n",
    "    loss.backward()\n",
    "    # update the ansatz's parameter\n",
    "    optimizer.minimize(loss)\n",
    "    # clear current gradient\n",
    "    optimizer.clear_grad()\n",
    "    print(f\"The iter is {itr:3d}, loss is {loss.item():3.5f}.\")\n",
    "print(\"The theoretical value is -1.137283834485513.\")"
   ]
  },
  {
   "cell_type": "markdown",
   "metadata": {},
   "source": [
    "You can now change the ansatz to `HardwareEfficientModel` and compare its energy with the one you just obtained."
   ]
  },
  {
   "cell_type": "markdown",
   "metadata": {},
   "source": [
    "## Calculating the ground state energy using Hartree Fock method\n",
    "Hartree Fock method is often considered as the starting point for more accurate quantum chemistry calculations. In order to run Hartree Fock calculation in qchem, you just need to replace the ansatz and the loss function to `RHFSlaterDeterminantModel` and `RHFEnergyLoss` (**NOTE: You need PySCF be installed before running Hartree Fock calculation**, `pip install -U pyscf`)."
   ]
  },
  {
   "cell_type": "code",
   "execution_count": 6,
   "metadata": {},
   "outputs": [
    {
     "name": "stderr",
     "output_type": "stream",
     "text": [
      "Overwritten attributes  multiplicity  of <class 'pyscf.gto.mole.Mole'>\n"
     ]
    }
   ],
   "source": [
    "# Build a Hartree Fock ansatz.\n",
    "n_qubits = 4\n",
    "n_electrons = 2\n",
    "hartreefock_ansatz = pq_qchem.RHFSlaterDeterminantModel(n_qubits, n_electrons)\n",
    "\n",
    "# Setup the loss function\n",
    "loss_fn = pq_qchem.RHFEnergyLoss(h2_geometry, basis_set)"
   ]
  },
  {
   "cell_type": "code",
   "execution_count": 7,
   "metadata": {},
   "outputs": [
    {
     "name": "stdout",
     "output_type": "stream",
     "text": [
      "The iter is   0, loss is 0.34341.\n",
      "The iter is   1, loss is 0.26274.\n",
      "The iter is   2, loss is 0.15970.\n",
      "The iter is   3, loss is 0.03472.\n",
      "The iter is   4, loss is -0.11024.\n",
      "The iter is   5, loss is -0.27116.\n",
      "The iter is   6, loss is -0.44170.\n",
      "The iter is   7, loss is -0.61316.\n",
      "The iter is   8, loss is -0.77486.\n",
      "The iter is   9, loss is -0.91509.\n",
      "The iter is  10, loss is -1.02291.\n",
      "The iter is  11, loss is -1.09057.\n",
      "The iter is  12, loss is -1.11626.\n",
      "The iter is  13, loss is -1.10573.\n",
      "The iter is  14, loss is -1.07116.\n",
      "The iter is  15, loss is -1.02724.\n",
      "The iter is  16, loss is -0.98662.\n",
      "The iter is  17, loss is -0.95737.\n",
      "The iter is  18, loss is -0.94303.\n",
      "The iter is  19, loss is -0.94371.\n",
      "The iter is  20, loss is -0.95742.\n",
      "The iter is  21, loss is -0.98086.\n",
      "The iter is  22, loss is -1.01012.\n",
      "The iter is  23, loss is -1.04104.\n",
      "The iter is  24, loss is -1.06973.\n",
      "The iter is  25, loss is -1.09296.\n",
      "The iter is  26, loss is -1.10862.\n",
      "The iter is  27, loss is -1.11600.\n",
      "The iter is  28, loss is -1.11581.\n",
      "The iter is  29, loss is -1.10996.\n",
      "The iter is  30, loss is -1.10099.\n",
      "The iter is  31, loss is -1.09156.\n",
      "The iter is  32, loss is -1.08386.\n",
      "The iter is  33, loss is -1.07934.\n",
      "The iter is  34, loss is -1.07862.\n",
      "The iter is  35, loss is -1.08148.\n",
      "The iter is  36, loss is -1.08713.\n",
      "The iter is  37, loss is -1.09438.\n",
      "The iter is  38, loss is -1.10193.\n",
      "The iter is  39, loss is -1.10859.\n",
      "The iter is  40, loss is -1.11348.\n",
      "The iter is  41, loss is -1.11618.\n",
      "The iter is  42, loss is -1.11671.\n",
      "The iter is  43, loss is -1.11550.\n",
      "The iter is  44, loss is -1.11325.\n",
      "The iter is  45, loss is -1.11073.\n",
      "The iter is  46, loss is -1.10863.\n",
      "The iter is  47, loss is -1.10741.\n",
      "The iter is  48, loss is -1.10728.\n",
      "The iter is  49, loss is -1.10818.\n",
      "The iter is  50, loss is -1.10983.\n",
      "The iter is  51, loss is -1.11186.\n",
      "The iter is  52, loss is -1.11384.\n",
      "The iter is  53, loss is -1.11543.\n",
      "The iter is  54, loss is -1.11642.\n",
      "The iter is  55, loss is -1.11676.\n",
      "The iter is  56, loss is -1.11653.\n",
      "The iter is  57, loss is -1.11594.\n",
      "The iter is  58, loss is -1.11521.\n",
      "The iter is  59, loss is -1.11459.\n",
      "The iter is  60, loss is -1.11423.\n",
      "The iter is  61, loss is -1.11419.\n",
      "The iter is  62, loss is -1.11447.\n",
      "The iter is  63, loss is -1.11497.\n",
      "The iter is  64, loss is -1.11556.\n",
      "The iter is  65, loss is -1.11611.\n",
      "The iter is  66, loss is -1.11652.\n",
      "The iter is  67, loss is -1.11673.\n",
      "The iter is  68, loss is -1.11674.\n",
      "The iter is  69, loss is -1.11661.\n",
      "The iter is  70, loss is -1.11640.\n",
      "The iter is  71, loss is -1.11620.\n",
      "The iter is  72, loss is -1.11605.\n",
      "The iter is  73, loss is -1.11601.\n",
      "The iter is  74, loss is -1.11608.\n",
      "The iter is  75, loss is -1.11622.\n",
      "The iter is  76, loss is -1.11639.\n",
      "The iter is  77, loss is -1.11656.\n",
      "The iter is  78, loss is -1.11669.\n",
      "The iter is  79, loss is -1.11675.\n",
      "The iter is  80, loss is -1.11675.\n",
      "The iter is  81, loss is -1.11671.\n",
      "The iter is  82, loss is -1.11664.\n",
      "The iter is  83, loss is -1.11658.\n",
      "The iter is  84, loss is -1.11654.\n",
      "The iter is  85, loss is -1.11654.\n",
      "The iter is  86, loss is -1.11656.\n",
      "The iter is  87, loss is -1.11661.\n",
      "The iter is  88, loss is -1.11667.\n",
      "The iter is  89, loss is -1.11672.\n",
      "The iter is  90, loss is -1.11675.\n",
      "The iter is  91, loss is -1.11676.\n",
      "The iter is  92, loss is -1.11675.\n",
      "The iter is  93, loss is -1.11673.\n",
      "The iter is  94, loss is -1.11671.\n",
      "The iter is  95, loss is -1.11669.\n",
      "The iter is  96, loss is -1.11669.\n",
      "The iter is  97, loss is -1.11669.\n",
      "The iter is  98, loss is -1.11671.\n",
      "The iter is  99, loss is -1.11673.\n",
      "The theoretical value is -1.11675.\n"
     ]
    }
   ],
   "source": [
    "# use paddlepaddle's optimizer\n",
    "import paddle\n",
    "\n",
    "optimizer = paddle.optimizer.Adam(parameters=hartreefock_ansatz.parameters(), learning_rate=0.1)\n",
    "\n",
    "# prepare the initial quantum state, e.g. |1100>\n",
    "init_state = pq.state.computational_basis(n_qubits, 12)\n",
    "\n",
    "# define the optimization steps\n",
    "num_itr = 100\n",
    "for itr in range(0, num_itr):\n",
    "    # run quantum circuit to arrive at the final state\n",
    "    state = hartreefock_ansatz(init_state)\n",
    "    # calculate loss\n",
    "    loss = loss_fn(state)\n",
    "    # backpropagate the gradient\n",
    "    loss.backward()\n",
    "    # update the ansatz's parameter\n",
    "    optimizer.minimize(loss)\n",
    "    # clear current gradient\n",
    "    optimizer.clear_grad()\n",
    "    print(f\"The iter is {itr:3d}, loss is {loss.item():3.5f}.\")\n",
    "print(\"The theoretical value is -1.11675.\")"
   ]
  },
  {
   "cell_type": "markdown",
   "metadata": {},
   "source": [
    "---\n",
    "## References\n",
    "\n",
    "[1] Kandala, Abhinav, et al. \"Hardware-efficient variational quantum eigensolver for small molecules and quantum magnets.\" [Nature 549.7671 (2017): 242-246.](https://www.nature.com/articles/nature23879)\n",
    "\n",
    "[2] Arute, Frank, et al. \"Hartree-Fock on a superconducting qubit quantum computer.\" [Science 369.6507 (2020): 1084-1089.](https://www.science.org/doi/10.1126/science.abb9811)\n",
    "\n",
    "[3] Abhinav, Aspuru-Guzik, et al. \"A Quantum Computing View on Unitary Coupled Cluster Theory\" (https://arxiv.org/abs/2109.15176)"
   ]
  }
 ],
 "metadata": {
  "interpreter": {
   "hash": "f7cfecff1ef1940b21a48efa1b88278bb096bd916f13c2df11af4810c38b47e1"
  },
  "kernelspec": {
   "display_name": "Python 3.8.0 ('pq')",
   "language": "python",
   "name": "python3"
  },
  "language_info": {
   "codemirror_mode": {
    "name": "ipython",
    "version": 3
   },
   "file_extension": ".py",
   "mimetype": "text/x-python",
   "name": "python",
   "nbconvert_exporter": "python",
   "pygments_lexer": "ipython3",
   "version": "3.8.0"
  }
 },
 "nbformat": 4,
 "nbformat_minor": 2
}
